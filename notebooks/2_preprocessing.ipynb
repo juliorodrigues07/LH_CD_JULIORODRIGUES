{
  "nbformat": 4,
  "nbformat_minor": 0,
  "metadata": {
    "colab": {
      "provenance": [],
      "authorship_tag": "ABX9TyPFdRTPyt+1b4gyGMKzjKdE",
      "include_colab_link": true
    },
    "kernelspec": {
      "name": "python3",
      "display_name": "Python 3"
    },
    "language_info": {
      "name": "python"
    }
  },
  "cells": [
    {
      "cell_type": "markdown",
      "metadata": {
        "id": "view-in-github",
        "colab_type": "text"
      },
      "source": [
        "<a href=\"https://colab.research.google.com/github/juliorodrigues07/LH_CD_JULIORODRIGUES/blob/extras/notebooks/2_preprocessing.ipynb\" target=\"_parent\"><img src=\"https://colab.research.google.com/assets/colab-badge.svg\" alt=\"Open In Colab\"/></a>"
      ]
    },
    {
      "cell_type": "markdown",
      "source": [
        "# **Data Preprocessing**"
      ],
      "metadata": {
        "id": "eqCKGPIdE4jN"
      }
    },
    {
      "cell_type": "markdown",
      "source": [
        "##[Table of Contents](#updateTitle=true&folderId=1YHQAO3wwkfNb1JDYLbuQ4wx8jaIwgNwi&scrollTo=g-cc_ygMBtaS)\n",
        "\n",
        ">[Imports and Constants](#updateTitle=true&folderId=1YHQAO3wwkfNb1JDYLbuQ4wx8jaIwgNwi&scrollTo=--pM5oz0AUyZ)\n",
        "\n",
        ">[1. Statistical Impressions](#updateTitle=true&folderId=1YHQAO3wwkfNb1JDYLbuQ4wx8jaIwgNwi&scrollTo=ZF0lEbrq2lCV)\n",
        "\n",
        ">[2. Optimizing Memory](#updateTitle=true&folderId=1YHQAO3wwkfNb1JDYLbuQ4wx8jaIwgNwi&scrollTo=2ryhw57Q-lHb)\n",
        "\n",
        ">[3. Discarding Columns and Feature's Cardinality](#updateTitle=true&folderId=1YHQAO3wwkfNb1JDYLbuQ4wx8jaIwgNwi&scrollTo=yoS2Ho2T_cCy)\n",
        "\n",
        ">[4. Missing Values](#updateTitle=true&folderId=1YHQAO3wwkfNb1JDYLbuQ4wx8jaIwgNwi&scrollTo=S3y62aFSDpj_)\n",
        "\n",
        ">>[4.1. Encoding Features and Scaling](#updateTitle=true&folderId=1YHQAO3wwkfNb1JDYLbuQ4wx8jaIwgNwi&scrollTo=fAvxHRx0EvGW)\n",
        "\n",
        ">>[4.2. Inputting with Machine Learning](#updateTitle=true&folderId=1YHQAO3wwkfNb1JDYLbuQ4wx8jaIwgNwi&scrollTo=kj73H4iyFA0i)\n",
        "\n",
        ">[5. Outliers and Binning](#updateTitle=true&folderId=1YHQAO3wwkfNb1JDYLbuQ4wx8jaIwgNwi&scrollTo=9niCIN4EQ2ZM)\n",
        "\n",
        ">[6. Revisiting the Correlation Matrix](#updateTitle=true&folderId=1YHQAO3wwkfNb1JDYLbuQ4wx8jaIwgNwi&scrollTo=blQQWF9Z8jGk)\n",
        "\n",
        ">[7. Storing Encodings for Predictions](#scrollTo=FOF_3ZAsSU2V)\n",
        "\n"
      ],
      "metadata": {
        "colab_type": "toc",
        "id": "gG4KDZQ2ETxn"
      }
    },
    {
      "cell_type": "markdown",
      "source": [
        "# **Imports and Defining Some Constants**"
      ],
      "metadata": {
        "id": "--pM5oz0AUyZ"
      }
    },
    {
      "cell_type": "code",
      "execution_count": 1,
      "metadata": {
        "id": "GBJALup5Dsvo"
      },
      "outputs": [],
      "source": [
        "from warnings import filterwarnings\n",
        "from os.path import isdir\n",
        "from os import getcwd\n",
        "from os import mkdir\n",
        "import pandas as pd\n",
        "import gdown\n",
        "\n",
        "\n",
        "filterwarnings('ignore', category=DeprecationWarning)\n",
        "filterwarnings('ignore', category=FutureWarning)\n",
        "\n",
        "# Maximum and minimum int32 bounds\n",
        "MAX_BOUND = pow(2, 31) - 1\n",
        "MIN_BOUND = - pow(2, 31)\n",
        "\n",
        "# Export directories\n",
        "if not isdir(f'{getcwd()}/../plots'):\n",
        "    mkdir(f'{getcwd()}/../plots')\n",
        "if not isdir(f'{getcwd()}/../models'):\n",
        "    mkdir(f'{getcwd()}/../models')\n",
        "if not isdir(f'{getcwd()}/../datasets'):\n",
        "    mkdir(f'{getcwd()}/../datasets')"
      ]
    },
    {
      "cell_type": "markdown",
      "source": [
        "# **1. First Statistical Impressions of the Dataset**\n",
        "\n",
        "- In relation to the columns:\n",
        "\n",
        "    - {Price, Reviews, Minimum Nights} have heavy outliers;\n",
        "    - {ID, Name} have a large amount of unique values (possibly irrelevant information to the model -> low predictive power);\n",
        "    - {Host Name, Last Review, Monthly Reviews} have a reasonable amount of missing values, which can be imputed with classical strategies (e.g., mean, median, ...) or with a ML algorithm as an intermediate;\n",
        "    - {ID, Host ID, Price, Minimum Nights, Reviews, Number of Listings, Days Available} can be downcasted from *int64* to *int32* or even *int16* to save memory space;\n",
        "    - {Latitude, Longitude, Monthly Reviews} can be downcasted from *float64* to *float32* to save memory space;\n",
        "    - {Host Name, Neighborhood, District, Room Type, Last Review} can be changed from type *object* to *category* to save memory space (relatively low amount of unique values)."
      ],
      "metadata": {
        "id": "ZF0lEbrq2lCV"
      }
    },
    {
      "cell_type": "code",
      "source": [
        "# dataset = pd.read_csv(f'{getcwd()}/../datasets/pricing.csv')\n",
        "\n",
        "output_file = \"pricing.csv\"\n",
        "file_id = '1j8lxdtKR5ELOl6ksapQwzribYchz-0UG'\n",
        "gdown.download(f'https://drive.google.com/uc?id={file_id}', output_file)\n",
        "dataset = pd.read_csv(output_file)\n",
        "\n",
        "dataset = dataset.rename(columns={\n",
        "    'id': 'ID',\n",
        "    'nome': 'Name',\n",
        "    'host_id': 'Host ID',\n",
        "    'host_name': 'Host Name',\n",
        "    'bairro_group': 'Borough',\n",
        "    'bairro': 'District',\n",
        "    'latitude': 'Latitude',\n",
        "    'longitude': 'Longitude',\n",
        "    'room_type': 'Room Type',\n",
        "    'price': 'Price',\n",
        "    'minimo_noites': 'Minimum Nights',\n",
        "    'numero_de_reviews': 'Reviews',\n",
        "    'ultima_review': 'Last Review',\n",
        "    'reviews_por_mes': 'Monthly Reviews',\n",
        "    'calculado_host_listings_count': 'Number of Listings',\n",
        "    'disponibilidade_365': \"Days Available\"\n",
        "})\n",
        "\n",
        "features = dataset.columns.values\n",
        "dataset.info()"
      ],
      "metadata": {
        "colab": {
          "base_uri": "https://localhost:8080/"
        },
        "id": "3ow1TXo5EElv",
        "outputId": "d212d6c7-555f-439f-c3c0-18c66a82e702"
      },
      "execution_count": 2,
      "outputs": [
        {
          "output_type": "stream",
          "name": "stderr",
          "text": [
            "Downloading...\n",
            "From: https://drive.google.com/uc?id=1j8lxdtKR5ELOl6ksapQwzribYchz-0UG\n",
            "To: /content/pricing.csv\n",
            "100%|██████████| 7.08M/7.08M [00:00<00:00, 29.5MB/s]\n"
          ]
        },
        {
          "output_type": "stream",
          "name": "stdout",
          "text": [
            "<class 'pandas.core.frame.DataFrame'>\n",
            "RangeIndex: 48894 entries, 0 to 48893\n",
            "Data columns (total 16 columns):\n",
            " #   Column              Non-Null Count  Dtype  \n",
            "---  ------              --------------  -----  \n",
            " 0   ID                  48894 non-null  int64  \n",
            " 1   Name                48878 non-null  object \n",
            " 2   Host ID             48894 non-null  int64  \n",
            " 3   Host Name           48873 non-null  object \n",
            " 4   Borough             48894 non-null  object \n",
            " 5   District            48894 non-null  object \n",
            " 6   Latitude            48894 non-null  float64\n",
            " 7   Longitude           48894 non-null  float64\n",
            " 8   Room Type           48894 non-null  object \n",
            " 9   Price               48894 non-null  int64  \n",
            " 10  Minimum Nights      48894 non-null  int64  \n",
            " 11  Reviews             48894 non-null  int64  \n",
            " 12  Last Review         38842 non-null  object \n",
            " 13  Monthly Reviews     38842 non-null  float64\n",
            " 14  Number of Listings  48894 non-null  int64  \n",
            " 15  Days Available      48894 non-null  int64  \n",
            "dtypes: float64(3), int64(7), object(6)\n",
            "memory usage: 6.0+ MB\n"
          ]
        }
      ]
    },
    {
      "cell_type": "markdown",
      "source": [
        "- There are no duplicated rows. Finding no redundancy in the dataset is a positive, since we can skip the process of eliminating it;\n",
        "- ML algorithms benefits from finding punctual patterns, not pure redundancy."
      ],
      "metadata": {
        "id": "gdcdr_lbMEwQ"
      }
    },
    {
      "cell_type": "code",
      "source": [
        "print(f'Duplicated rows: {dataset.duplicated().sum()}')"
      ],
      "metadata": {
        "colab": {
          "base_uri": "https://localhost:8080/"
        },
        "id": "8MJjnXQcLHER",
        "outputId": "0f5242e3-8241-452f-ad49-9431fd2d0add"
      },
      "execution_count": null,
      "outputs": [
        {
          "output_type": "stream",
          "name": "stdout",
          "text": [
            "Duplicated rows: 0\n"
          ]
        }
      ]
    },
    {
      "cell_type": "code",
      "source": [
        "for feat in features:\n",
        "    if dataset[feat].dtype == int or dataset[feat].dtype == float:\n",
        "        print(dataset[feat].describe())\n",
        "        print()"
      ],
      "metadata": {
        "colab": {
          "base_uri": "https://localhost:8080/"
        },
        "id": "2IqA4_104BSk",
        "outputId": "2318c02d-2fcc-49e4-bf13-6665fac8675b"
      },
      "execution_count": null,
      "outputs": [
        {
          "output_type": "stream",
          "name": "stdout",
          "text": [
            "count    4.889400e+04\n",
            "mean     1.901753e+07\n",
            "std      1.098288e+07\n",
            "min      2.595000e+03\n",
            "25%      9.472371e+06\n",
            "50%      1.967743e+07\n",
            "75%      2.915225e+07\n",
            "max      3.648724e+07\n",
            "Name: ID, dtype: float64\n",
            "\n",
            "count    4.889400e+04\n",
            "mean     6.762139e+07\n",
            "std      7.861118e+07\n",
            "min      2.438000e+03\n",
            "25%      7.822737e+06\n",
            "50%      3.079553e+07\n",
            "75%      1.074344e+08\n",
            "max      2.743213e+08\n",
            "Name: Host ID, dtype: float64\n",
            "\n",
            "count    48894.000000\n",
            "mean        40.728951\n",
            "std          0.054529\n",
            "min         40.499790\n",
            "25%         40.690100\n",
            "50%         40.723075\n",
            "75%         40.763117\n",
            "max         40.913060\n",
            "Name: Latitude, dtype: float64\n",
            "\n",
            "count    48894.000000\n",
            "mean       -73.952169\n",
            "std          0.046157\n",
            "min        -74.244420\n",
            "25%        -73.983070\n",
            "50%        -73.955680\n",
            "75%        -73.936273\n",
            "max        -73.712990\n",
            "Name: Longitude, dtype: float64\n",
            "\n",
            "count    48894.000000\n",
            "mean       152.720763\n",
            "std        240.156625\n",
            "min          0.000000\n",
            "25%         69.000000\n",
            "50%        106.000000\n",
            "75%        175.000000\n",
            "max      10000.000000\n",
            "Name: Price, dtype: float64\n",
            "\n",
            "count    48894.000000\n",
            "mean         7.030085\n",
            "std         20.510741\n",
            "min          1.000000\n",
            "25%          1.000000\n",
            "50%          3.000000\n",
            "75%          5.000000\n",
            "max       1250.000000\n",
            "Name: Minimum Nights, dtype: float64\n",
            "\n",
            "count    48894.000000\n",
            "mean        23.274758\n",
            "std         44.550991\n",
            "min          0.000000\n",
            "25%          1.000000\n",
            "50%          5.000000\n",
            "75%         24.000000\n",
            "max        629.000000\n",
            "Name: Reviews, dtype: float64\n",
            "\n",
            "count    38842.000000\n",
            "mean         1.373251\n",
            "std          1.680453\n",
            "min          0.010000\n",
            "25%          0.190000\n",
            "50%          0.720000\n",
            "75%          2.020000\n",
            "max         58.500000\n",
            "Name: Monthly Reviews, dtype: float64\n",
            "\n",
            "count    48894.000000\n",
            "mean         7.144005\n",
            "std         32.952855\n",
            "min          1.000000\n",
            "25%          1.000000\n",
            "50%          1.000000\n",
            "75%          2.000000\n",
            "max        327.000000\n",
            "Name: Number of Listings, dtype: float64\n",
            "\n",
            "count    48894.000000\n",
            "mean       112.776169\n",
            "std        131.618692\n",
            "min          0.000000\n",
            "25%          0.000000\n",
            "50%         45.000000\n",
            "75%        227.000000\n",
            "max        365.000000\n",
            "Name: Days Available, dtype: float64\n",
            "\n"
          ]
        }
      ]
    },
    {
      "cell_type": "code",
      "source": [
        "print(dataset.nunique())\n",
        "print()\n",
        "print(dataset.isnull().sum())"
      ],
      "metadata": {
        "colab": {
          "base_uri": "https://localhost:8080/"
        },
        "id": "n-95TNyh3u0y",
        "outputId": "bdfb9aa1-4902-4ed6-d452-7bc6e65cd64b"
      },
      "execution_count": null,
      "outputs": [
        {
          "output_type": "stream",
          "name": "stdout",
          "text": [
            "ID                    48894\n",
            "Name                  47904\n",
            "Host ID               37457\n",
            "Host Name             11452\n",
            "Borough                   5\n",
            "District                221\n",
            "Latitude              19048\n",
            "Longitude             14718\n",
            "Room Type                 3\n",
            "Price                   674\n",
            "Minimum Nights          109\n",
            "Reviews                 394\n",
            "Last Review            1764\n",
            "Monthly Reviews         937\n",
            "Number of Listings       47\n",
            "Days Available          366\n",
            "dtype: int64\n",
            "\n",
            "ID                        0\n",
            "Name                     16\n",
            "Host ID                   0\n",
            "Host Name                21\n",
            "Borough                   0\n",
            "District                  0\n",
            "Latitude                  0\n",
            "Longitude                 0\n",
            "Room Type                 0\n",
            "Price                     0\n",
            "Minimum Nights            0\n",
            "Reviews                   0\n",
            "Last Review           10052\n",
            "Monthly Reviews       10052\n",
            "Number of Listings        0\n",
            "Days Available            0\n",
            "dtype: int64\n"
          ]
        }
      ]
    },
    {
      "cell_type": "markdown",
      "source": [
        "# **2. Optimizing Memory Space**\n",
        "\n",
        "- Although the dataset has a small size, real applications tends to deal with much larger datasets, which could difficult their management depending on the amount of memory available;\n",
        "- Therefore, it may be needed to apply some memory optimization techniques to reduce the dataset size and make it more manageable at different environments;\n",
        "- Numerical columns, for instance, can be downcasted to occupy a lower amount of memory, if its values range can be coerced to a smaller representation (e.g., 64 bits -> 32 bits);\n",
        "- The columns {ID, Host ID, Price, Minimum Nights, Reviews, Number of Listings, Days Available} were downcasted from *int64* to *int32* or *int16*;\n",
        "- The columns {Latitude, Longitude, Monthly Reviews} were downcasted from *float64* to *float32*;\n",
        "- The columns {Host Name, Neighborhood, District, Room Type, Last Review} were changed from type *object* to *category*;\n",
        "- *Name* column type wasn't changed, since it has a large amount of unique values. Changing its type could not reduce the dataset size and possibly enlarge it."
      ],
      "metadata": {
        "id": "2ryhw57Q-lHb"
      }
    },
    {
      "cell_type": "code",
      "source": [
        "def optimize_memory(df: pd.DataFrame, object_cols: list=[],\n",
        "                    downcast_float: bool=False, in_place: bool=False) -> any:\n",
        "\n",
        "    if not in_place:\n",
        "        df = df.copy()\n",
        "\n",
        "    int_cols = df.select_dtypes(include=['int']).columns\n",
        "    for col in int_cols:\n",
        "        if df[col].max() < MAX_BOUND and df[col].min() > MIN_BOUND:\n",
        "            df[col] = df[[col]].apply(pd.to_numeric, downcast='integer')\n",
        "\n",
        "    if downcast_float:\n",
        "        float_cols = df.select_dtypes(include=['float']).columns\n",
        "        df[float_cols] = df[float_cols].apply(pd.to_numeric, downcast='float')\n",
        "\n",
        "    for col in object_cols:\n",
        "        if col in df.columns and df[col].dtype == 'object':\n",
        "            df[col] = df[col].astype('category')\n",
        "\n",
        "    if in_place:\n",
        "        return None\n",
        "    else:\n",
        "        return df"
      ],
      "metadata": {
        "id": "tMIgbOI7DxQi"
      },
      "execution_count": 3,
      "outputs": []
    },
    {
      "cell_type": "code",
      "source": [
        "memory = dataset.memory_usage(deep=True)\n",
        "print(f'Raw dataset: {round(memory.sum() / (1024 ** 2), 2)} MB')\n",
        "\n",
        "reduced = dataset.copy()\n",
        "obj_cols = list(reduced.select_dtypes(include=['object']).columns)\n",
        "obj_cols.remove('Name')\n",
        "\n",
        "reduced = optimize_memory(df=reduced, object_cols=obj_cols, downcast_float=True)\n",
        "memory = reduced.memory_usage(deep=True)\n",
        "print(f'Reduced:      {round(memory.sum() / (1024 ** 2), 2)} MB\\n')\n",
        "print(reduced.info())\n",
        "\n",
        "# Parquet format preserves data types\n",
        "reduced.to_parquet(f'{getcwd()}/../datasets/reduced.parquet')"
      ],
      "metadata": {
        "colab": {
          "base_uri": "https://localhost:8080/"
        },
        "id": "oEfbMLWa2a-t",
        "outputId": "0c625fba-4e3c-406a-ebac-8e1df19c9e2f"
      },
      "execution_count": 4,
      "outputs": [
        {
          "output_type": "stream",
          "name": "stdout",
          "text": [
            "Raw dataset: 23.45 MB\n",
            "Reduced:      7.37 MB\n",
            "\n",
            "<class 'pandas.core.frame.DataFrame'>\n",
            "RangeIndex: 48894 entries, 0 to 48893\n",
            "Data columns (total 16 columns):\n",
            " #   Column              Non-Null Count  Dtype   \n",
            "---  ------              --------------  -----   \n",
            " 0   ID                  48894 non-null  int32   \n",
            " 1   Name                48878 non-null  object  \n",
            " 2   Host ID             48894 non-null  int32   \n",
            " 3   Host Name           48873 non-null  category\n",
            " 4   Borough             48894 non-null  category\n",
            " 5   District            48894 non-null  category\n",
            " 6   Latitude            48894 non-null  float32 \n",
            " 7   Longitude           48894 non-null  float32 \n",
            " 8   Room Type           48894 non-null  category\n",
            " 9   Price               48894 non-null  int16   \n",
            " 10  Minimum Nights      48894 non-null  int16   \n",
            " 11  Reviews             48894 non-null  int16   \n",
            " 12  Last Review         38842 non-null  category\n",
            " 13  Monthly Reviews     38842 non-null  float32 \n",
            " 14  Number of Listings  48894 non-null  int16   \n",
            " 15  Days Available      48894 non-null  int16   \n",
            "dtypes: category(5), float32(3), int16(5), int32(2), object(1)\n",
            "memory usage: 2.6+ MB\n",
            "None\n"
          ]
        }
      ]
    },
    {
      "cell_type": "markdown",
      "source": [
        "# **3. Discarding Irrelevant Columns and Reducing Feature's Cardinality**\n",
        "\n",
        "- Columns {ID, Name} have a large amount of unique values (more than 90%), which will result in their low predictive power in the model (ML models tend to perform better if there's some recurrent pattern in the data);\n",
        "- *Last Review* column cardinality will be reduced by filtering the date only by *year* and *month*, discarding _day_ as little relevant, and raising the \"pattern level\" on the dataset to possibly enhance models' performance;"
      ],
      "metadata": {
        "id": "yoS2Ho2T_cCy"
      }
    },
    {
      "cell_type": "code",
      "source": [
        "import numpy as np\n",
        "\n",
        "\n",
        "preprocess = reduced.copy()\n",
        "features = preprocess.columns.values\n",
        "\n",
        "for feat in features:\n",
        "    proportion = round(len(preprocess[feat].unique()) / len(preprocess[feat]), 2)\n",
        "\n",
        "    # Discard a column if it has more than 90% of unique values\n",
        "    if proportion * 100 > 90:\n",
        "        preprocess = preprocess.drop([feat], axis='columns')\n",
        "\n",
        "preprocess['Last Review'] = pd.to_datetime(preprocess['Last Review'])\n",
        "preprocess['Last Review'] = preprocess['Last Review'].apply(lambda row: f'{str(row.year)}-{str(row.month)}')\n",
        "\n",
        "# Null values have to be \"properly\" inserted again, and datetime type converted to category\n",
        "preprocess['Last Review'] = preprocess['Last Review'].astype('category')\n",
        "preprocess = preprocess.replace({'Last Review': {'nan-nan': np.nan}})\n",
        "\n",
        "preprocess.info()"
      ],
      "metadata": {
        "colab": {
          "base_uri": "https://localhost:8080/"
        },
        "id": "015mMMxRz8l-",
        "outputId": "947fa94b-4d0f-4103-9cac-d4cdc185e31c"
      },
      "execution_count": null,
      "outputs": [
        {
          "output_type": "stream",
          "name": "stdout",
          "text": [
            "<class 'pandas.core.frame.DataFrame'>\n",
            "RangeIndex: 48894 entries, 0 to 48893\n",
            "Data columns (total 14 columns):\n",
            " #   Column              Non-Null Count  Dtype   \n",
            "---  ------              --------------  -----   \n",
            " 0   Host ID             48894 non-null  int32   \n",
            " 1   Host Name           48873 non-null  category\n",
            " 2   Borough             48894 non-null  category\n",
            " 3   District            48894 non-null  category\n",
            " 4   Latitude            48894 non-null  float32 \n",
            " 5   Longitude           48894 non-null  float32 \n",
            " 6   Room Type           48894 non-null  category\n",
            " 7   Price               48894 non-null  int16   \n",
            " 8   Minimum Nights      48894 non-null  int16   \n",
            " 9   Reviews             48894 non-null  int16   \n",
            " 10  Last Review         38842 non-null  category\n",
            " 11  Monthly Reviews     38842 non-null  float32 \n",
            " 12  Number of Listings  48894 non-null  int16   \n",
            " 13  Days Available      48894 non-null  int16   \n",
            "dtypes: category(5), float32(3), int16(5), int32(1)\n",
            "memory usage: 1.9 MB\n"
          ]
        }
      ]
    },
    {
      "cell_type": "markdown",
      "source": [
        "# **4. Dealing with Missing Values**\n",
        "\n",
        "- The columns {Host Name, Last Review, Monthly Reviews} least than 30% of missing values, making it reasonable to apply a ML algorithm to predict them;\n",
        "- The model applied could be a classification or regression one, since these features includes values that are either real, categorical or integers;\n",
        "- Although, all the rows that have missing values in _Last Review_ column, also have missing values in _Monthly Reviews_ column and number of reviews in _Review_ column as zero, we'll fill these missing values with the following pattern:\n",
        "    - _Monthly Reviews_: null -> 0;\n",
        "    - _Last Review_: null -> 'N/A'."
      ],
      "metadata": {
        "id": "S3y62aFSDpj_"
      }
    },
    {
      "cell_type": "code",
      "source": [
        "preprocess.query('`Last Review`.isna() & `Monthly Reviews` != `Monthly Reviews` & Reviews == 0')\n",
        "\n",
        "missing = len(preprocess.query('`Last Review`.isna() & `Monthly Reviews`.isna() & Reviews == 0'))\n",
        "print(f'{missing} rows with no reviews, no last review date and no monthly reviews rate.')\n",
        "\n",
        "preprocess['Last Review'] = preprocess['Last Review'].cat.add_categories('N/A')\n",
        "preprocess['Last Review'] = preprocess['Last Review'].fillna('N/A')\n",
        "preprocess['Monthly Reviews'] = preprocess['Monthly Reviews'].fillna(0)"
      ],
      "metadata": {
        "colab": {
          "base_uri": "https://localhost:8080/"
        },
        "id": "QQcuK8YwoXWN",
        "outputId": "3ed5b7df-adff-404e-84d3-cb03da246171"
      },
      "execution_count": null,
      "outputs": [
        {
          "output_type": "stream",
          "name": "stdout",
          "text": [
            "10052 rows with no reviews, no last review date and no monthly reviews rate.\n"
          ]
        }
      ]
    },
    {
      "cell_type": "code",
      "source": [
        "preprocess.isnull().sum()"
      ],
      "metadata": {
        "colab": {
          "base_uri": "https://localhost:8080/"
        },
        "id": "keiK7eVwwN9P",
        "outputId": "9cc72d7e-ddf6-4aa2-84a5-1b92017c33df"
      },
      "execution_count": null,
      "outputs": [
        {
          "output_type": "execute_result",
          "data": {
            "text/plain": [
              "Host ID                0\n",
              "Host Name             21\n",
              "Borough                0\n",
              "District               0\n",
              "Latitude               0\n",
              "Longitude              0\n",
              "Room Type              0\n",
              "Price                  0\n",
              "Minimum Nights         0\n",
              "Reviews                0\n",
              "Last Review            0\n",
              "Monthly Reviews        0\n",
              "Number of Listings     0\n",
              "Days Available         0\n",
              "dtype: int64"
            ]
          },
          "metadata": {},
          "execution_count": 10
        }
      ]
    },
    {
      "cell_type": "markdown",
      "source": [
        "## **4.1. Encoding Categorical Features and Scaling (Z-Score)**\n",
        "\n",
        "- Categorical data was encoded by just discretizing the values (e.g., {'Private room', 'Shared room', 'Entire home/apt'} ==> {0, 1, 2});\n",
        "- This strategy can introduce some false suggestion of order or priority, which can deceive the ML algorithm on training;\n",
        "- To bypass this drawback, the entire dataset is submitted to a scaling process with Z-Score before training or CV, which \"maps\" the values in a normal distribution, packing all the values in a standard interval."
      ],
      "metadata": {
        "id": "fAvxHRx0EvGW"
      }
    },
    {
      "cell_type": "code",
      "source": [
        "from sklearn.preprocessing import LabelEncoder\n",
        "from sklearn.preprocessing import StandardScaler\n",
        "\n",
        "\n",
        "def discretize_values(df: pd.DataFrame, column: str) -> pd.DataFrame:\n",
        "\n",
        "    filterwarnings('ignore')\n",
        "\n",
        "    # Encodes entire columns of categorical data\n",
        "    encoding = LabelEncoder()\n",
        "\n",
        "    encoding.fit(df[column])\n",
        "    df[column] = encoding.transform(df[column])\n",
        "\n",
        "    return df\n",
        "\n",
        "\n",
        "def normalization(df: pd.DataFrame) -> pd.DataFrame:\n",
        "\n",
        "    attr_scaler = StandardScaler()\n",
        "    return attr_scaler.fit_transform(df)"
      ],
      "metadata": {
        "id": "FOUCskrQ-g8m"
      },
      "execution_count": 7,
      "outputs": []
    },
    {
      "cell_type": "markdown",
      "source": [
        "## **4.2. Filling Missing Values with Machine Learning**\n",
        "\n",
        "- Instead of using classical strategies such as discarding entire rows or inputing mean or median of a selected row, we can use simple ML algorithms (classification and/or regression) as intermediates for inputting.\n",
        "- Although this strategy can be costly if a column has a large amount of unique values (curse of dimensionality), the results can be quite decent to enhance the final model's predictive power;\n",
        "- This can aggregate relevant information to the model, instead of only adding redundant data to fulfill the dataset;\n",
        "- It's extremely important though, to analyze the amount of distinct values and the percentage of the data that is missing to successfully apply such a technique;\n",
        "- _Decision Tree_ and _Linear Regession_ algorithms on _scikit-learn_ though, doesn't support missing and/or categorical values. Therefore, we need to input and/or encode that kind of data before training and using the models.\n",
        "\n",
        "*Careful with this step, columns that have many unique values may take long\n",
        "to fit the model and be memory intensive (Host ID column has 11452 unique labels ==> ~12 GB RAM)"
      ],
      "metadata": {
        "id": "kj73H4iyFA0i"
      }
    },
    {
      "cell_type": "code",
      "source": [
        "from sklearn.linear_model import LinearRegression\n",
        "from sklearn.tree import DecisionTreeClassifier\n",
        "from pandas.api.types import is_float_dtype\n",
        "\n",
        "\n",
        "def predict_missing(df: pd.DataFrame, algorithm: any, attributes: pd.DataFrame,\n",
        "                    classes: pd.DataFrame, rows_to_predict: pd.DataFrame,\n",
        "                    raw_rows: pd.DataFrame, column: str) -> pd.DataFrame:\n",
        "\n",
        "    normalized = normalization(df=attributes)\n",
        "\n",
        "    algorithm.fit(normalized, classes[column])\n",
        "    predictions = algorithm.predict(normalization(df=rows_to_predict))\n",
        "    raw_rows[column] = predictions\n",
        "\n",
        "    # Uniformly encodes the missing value column if it's categorical before returning\n",
        "    if not is_float_dtype(df[column]) and not is_integer_dtype(df[column]):\n",
        "        df = discretize_values(df=df.copy(), column=column)\n",
        "\n",
        "    # Reappends the recent predicted rows to the original dataset without changing order\n",
        "    return pd.concat([df, raw_rows], sort=False).sort_index()\n",
        "\n",
        "\n",
        "def split_missing(df: pd.DataFrame, column: str, ml_type: str) -> pd.DataFrame:\n",
        "\n",
        "    whole_dataset = df.copy()\n",
        "\n",
        "    # Gets the rows where the selected column has missing values (predict)\n",
        "    fill_data = df[df[column].isnull()]\n",
        "    rows_to_predict = fill_data.drop([column], axis='columns')\n",
        "    raw_rows = rows_to_predict.copy()\n",
        "\n",
        "    # Discards rows where the selected column has missing values (training)\n",
        "    df = df.dropna(axis='index', subset=column)\n",
        "    attributes = df.drop([column], axis='columns')\n",
        "    classes = discretize_values(df=df.copy(), column=column)\n",
        "\n",
        "    '''\n",
        "    Encodes categorical data (only columns with missing values need it,\n",
        "    since the others have been previously encoded)\n",
        "    '''\n",
        "    for col in attributes.columns.values:\n",
        "        if whole_dataset[col].isnull().sum() > 0:\n",
        "            attributes = discretize_values(df=attributes, column=col)\n",
        "            rows_to_predict = discretize_values(df=rows_to_predict, column=col)\n",
        "\n",
        "    # Linear Regression for real values and Decision Tree for integers\n",
        "    model = None\n",
        "    if ml_type == 'classifier':\n",
        "        model = DecisionTreeClassifier()\n",
        "    elif ml_type == 'regressor':\n",
        "        model = LinearRegression()\n",
        "    else:\n",
        "        print('Model incorrectly specified! [classifier, regressor]')\n",
        "        return whole_dataset\n",
        "\n",
        "    concat_df = predict_missing(df=df, algorithm=model, attributes=attributes,\n",
        "                                classes=classes, rows_to_predict=rows_to_predict,\n",
        "                                raw_rows=raw_rows, column=column)\n",
        "\n",
        "    return concat_df\n",
        "\n",
        "\n",
        "def fill_missing_values(df: pd.DataFrame) -> pd.DataFrame:\n",
        "\n",
        "    '''\n",
        "    Fills missing values by predicting based on existing data\n",
        "    It only applies this method if a column has at maximum 30% of its values missing\n",
        "    '''\n",
        "    attributes = df.columns.values\n",
        "    for feat in attributes:\n",
        "        if df[feat].isnull().sum() > 0 and df[feat].isnull().sum() / len(df[feat]) < 0.3:\n",
        "\n",
        "            if is_float_dtype(df[feat]):\n",
        "                df = split_missing(df=df, column=feat, ml_type='regressor')\n",
        "            else:\n",
        "                df = split_missing(df=df, column=feat, ml_type='classifier')\n",
        "\n",
        "    return df"
      ],
      "metadata": {
        "id": "h0bo9b8tEOH1"
      },
      "execution_count": null,
      "outputs": []
    },
    {
      "cell_type": "code",
      "source": [
        "from pandas.api.types import is_integer_dtype\n",
        "\n",
        "# Encodes columns which are not from numeric types and don't have missing values\n",
        "feats = preprocess.columns.values\n",
        "for feat in feats:\n",
        "    if preprocess[feat].isnull().sum() == 0 and not is_float_dtype(preprocess[feat]) and not is_integer_dtype(preprocess[feat]):\n",
        "        preprocess = discretize_values(df=preprocess, column=feat)\n",
        "\n",
        "# COMPUTATIONALLY EXPENSIVE\n",
        "preprocess = fill_missing_values(df=preprocess.copy())"
      ],
      "metadata": {
        "id": "CfEqCvFPFJ6S"
      },
      "execution_count": null,
      "outputs": []
    },
    {
      "cell_type": "markdown",
      "source": [
        "- Now the dataset doesn't have missing values anymore."
      ],
      "metadata": {
        "id": "ZBbKO4Q4I5w3"
      }
    },
    {
      "cell_type": "code",
      "source": [
        "print(preprocess.isnull().sum())\n",
        "print()\n",
        "print(preprocess.nunique())\n",
        "\n",
        "preprocess = optimize_memory(df=preprocess, downcast_float=True)\n",
        "memory = preprocess.memory_usage(deep=True)\n",
        "print(f'\\nOptimized: {round(memory.sum() / (1024 ** 2), 2)} MB\\n')\n",
        "\n",
        "preprocess.to_parquet(f'{getcwd()}/../datasets/filled.parquet', index=False)"
      ],
      "metadata": {
        "colab": {
          "base_uri": "https://localhost:8080/"
        },
        "id": "K-XIDSgtI1bX",
        "outputId": "2df9205d-32ba-4525-ad28-4a574dc075a9"
      },
      "execution_count": null,
      "outputs": [
        {
          "output_type": "stream",
          "name": "stdout",
          "text": [
            "Host ID               0\n",
            "Host Name             0\n",
            "Borough               0\n",
            "District              0\n",
            "Latitude              0\n",
            "Longitude             0\n",
            "Room Type             0\n",
            "Price                 0\n",
            "Minimum Nights        0\n",
            "Reviews               0\n",
            "Last Review           0\n",
            "Monthly Reviews       0\n",
            "Number of Listings    0\n",
            "Days Available        0\n",
            "dtype: int64\n",
            "\n",
            "Host ID               37457\n",
            "Host Name             11452\n",
            "Borough                   5\n",
            "District                221\n",
            "Latitude              19048\n",
            "Longitude             14718\n",
            "Room Type                 3\n",
            "Price                   674\n",
            "Minimum Nights          109\n",
            "Reviews                 394\n",
            "Last Review              93\n",
            "Monthly Reviews         938\n",
            "Number of Listings       47\n",
            "Days Available          366\n",
            "dtype: int64\n",
            "\n",
            "Optimized: 1.91 MB\n",
            "\n"
          ]
        }
      ]
    },
    {
      "cell_type": "markdown",
      "source": [
        "# **5. Outliers and Binning**\n",
        "\n",
        "- The Price column has some extreme outliers, therefore we'll discard rows whose prices are not between the first (25%) and third quantiles (75%), a strategy that tends to perform well with skewed data.\n",
        "- The columns {Host Name, Host ID, Latitude, Longitude} have either heavy outliers or a large interval of values, therefore we can group this features with approximately the same size for each bin and lower their intervals (equal frequency binning);\n",
        "- The binning thresholds were defined heuristically (manually tweaked observing models' performances)."
      ],
      "metadata": {
        "id": "9niCIN4EQ2ZM"
      }
    },
    {
      "cell_type": "code",
      "source": [
        "import json\n",
        "\n",
        "\n",
        "def remove_outliers(df, col, th1=0.25, th3=0.75):\n",
        "\n",
        "    q1 = df[col].quantile(th1)\n",
        "    q3 = df[col].quantile(th3)\n",
        "\n",
        "    iqr = q3 - q1\n",
        "    upper_limit = q3 + 1.5 * iqr\n",
        "    lower_limit = q1 - 1.5 * iqr\n",
        "\n",
        "    df = df[(df[col] > lower_limit) & (df[col] < upper_limit)]\n",
        "    return df\n",
        "\n",
        "\n",
        "def binning(df: pd.DataFrame) -> pd.DataFrame:\n",
        "\n",
        "    # Gets the bins to apply preprocessing on the example later\n",
        "    bins = dict()\n",
        "    n_bins = pd.qcut(df['Host Name'], q=15, retbins=True)\n",
        "    bins['Host Name'] = list(n_bins[1])\n",
        "    n_bins = pd.qcut(df['Host ID'], q=80, retbins=True)\n",
        "    bins['Host ID'] = list(n_bins[1])\n",
        "    n_bins = pd.qcut(df['Latitude'], q=25, retbins=True)\n",
        "    bins['Latitude'] = list(n_bins[1])\n",
        "    n_bins = pd.qcut(df['Longitude'], q=25, retbins=True)\n",
        "    bins['Longitude'] = list(n_bins[1])\n",
        "\n",
        "    with open(f'{getcwd()}/../models/bins.json', 'w') as file:\n",
        "        dump_file = json.dumps(bins, indent=4)\n",
        "        file.write(dump_file)\n",
        "\n",
        "    # Equal frequency binning on scattered features\n",
        "    categorical_size = [x for x in range(15)]\n",
        "    df['Host Name'] = pd.qcut(df['Host Name'], q=15, labels=categorical_size)\n",
        "\n",
        "    categorical_size = [x for x in range(80)]\n",
        "    df['Host ID'] = pd.qcut(df['Host ID'], q=80, labels=categorical_size)\n",
        "\n",
        "    categorical_size = [x for x in range(25)]\n",
        "    df['Latitude'] = pd.qcut(df['Latitude'], q=25, labels=categorical_size)\n",
        "\n",
        "    categorical_size = [x for x in range(25)]\n",
        "    df['Longitude'] = pd.qcut(df['Longitude'], q=25, labels=categorical_size)\n",
        "\n",
        "    return df"
      ],
      "metadata": {
        "id": "ZuyHdgdvN5lx"
      },
      "execution_count": 8,
      "outputs": []
    },
    {
      "cell_type": "code",
      "source": [
        "final = preprocess.copy()\n",
        "\n",
        "# Remove outlier rows based on price (first and third quantiles)\n",
        "final = remove_outliers(df=final.copy(), col='Price')\n",
        "final = binning(df=final.copy())\n",
        "\n",
        "# Discretize categorical binning features\n",
        "for col in final.columns.values:\n",
        "    if not is_float_dtype(final[col]) and not is_integer_dtype(final[col]):\n",
        "        final = discretize_values(df=final, column=col)\n",
        "\n",
        "final = optimize_memory(df=final, downcast_float=True)\n",
        "memory = final.memory_usage(deep=True)\n",
        "print(f'Preprocessed: {round(memory.sum() / (1024 ** 2), 2)} MB\\n')\n",
        "\n",
        "print(final.info())\n",
        "print()\n",
        "print(final.nunique())\n",
        "\n",
        "final.to_parquet(f'{getcwd()}/../datasets/preprocessed.parquet', index=False)"
      ],
      "metadata": {
        "colab": {
          "base_uri": "https://localhost:8080/"
        },
        "id": "nQUefNwzR9kz",
        "outputId": "ce90c2cf-feb5-43c8-c9f4-b5d6818bcd3f"
      },
      "execution_count": null,
      "outputs": [
        {
          "output_type": "stream",
          "name": "stdout",
          "text": [
            "Preprocessed: 1.36 MB\n",
            "\n",
            "<class 'pandas.core.frame.DataFrame'>\n",
            "Int64Index: 45917 entries, 0 to 48893\n",
            "Data columns (total 14 columns):\n",
            " #   Column              Non-Null Count  Dtype  \n",
            "---  ------              --------------  -----  \n",
            " 0   Host ID             45917 non-null  int8   \n",
            " 1   Host Name           45917 non-null  int8   \n",
            " 2   Borough             45917 non-null  int8   \n",
            " 3   District            45917 non-null  int16  \n",
            " 4   Latitude            45917 non-null  int8   \n",
            " 5   Longitude           45917 non-null  int8   \n",
            " 6   Room Type           45917 non-null  int8   \n",
            " 7   Price               45917 non-null  int16  \n",
            " 8   Minimum Nights      45917 non-null  int16  \n",
            " 9   Reviews             45917 non-null  int16  \n",
            " 10  Last Review         45917 non-null  int8   \n",
            " 11  Monthly Reviews     45917 non-null  float32\n",
            " 12  Number of Listings  45917 non-null  int16  \n",
            " 13  Days Available      45917 non-null  int16  \n",
            "dtypes: float32(1), int16(6), int8(7)\n",
            "memory usage: 1.4 MB\n",
            "None\n",
            "\n",
            "Host ID                80\n",
            "Host Name              15\n",
            "Borough                 5\n",
            "District              219\n",
            "Latitude               25\n",
            "Longitude              25\n",
            "Room Type               3\n",
            "Price                 321\n",
            "Minimum Nights        105\n",
            "Reviews               393\n",
            "Last Review            93\n",
            "Monthly Reviews       937\n",
            "Number of Listings     47\n",
            "Days Available        366\n",
            "dtype: int64\n"
          ]
        }
      ]
    },
    {
      "cell_type": "markdown",
      "source": [
        "# **6. Revisiting the Correlation Matrix**\n",
        "\n",
        "- _Room Type_ and _Longitude_ have a very weak correlationship with _Price_;\n",
        "- _District_ and _Neighborhood_ have a strong correlationship with _Latitude_ due to obvious geographic reasons;\n",
        "- Even after preprocessing, there are still no clear strong correlationships between _Days Available_ or _Minimum Nights_ with _Price_."
      ],
      "metadata": {
        "id": "blQQWF9Z8jGk"
      }
    },
    {
      "cell_type": "code",
      "source": [
        "import matplotlib.pyplot as plt\n",
        "\n",
        "corr_df = final.copy()\n",
        "\n",
        "# Remove rows which have any missing value in its features\n",
        "corr_df = corr_df.dropna(axis='index')\n",
        "corr_df = corr_df[[col for col in corr_df if corr_df[col].nunique() > 1]]\n",
        "\n",
        "if corr_df.shape[1] < 2:\n",
        "    exit()\n",
        "\n",
        "corr = corr_df.corr()\n",
        "plt.figure(num=None, figsize=(10, 10), dpi=80, facecolor='w', edgecolor='k')\n",
        "corr_mat = plt.matshow(corr, fignum=1)\n",
        "\n",
        "plt.xticks(range(len(corr.columns)), corr.columns, rotation=90)\n",
        "plt.yticks(range(len(corr.columns)), corr.columns)\n",
        "plt.gca().xaxis.tick_bottom()\n",
        "plt.colorbar(corr_mat)\n",
        "\n",
        "# -1: weak relationship | 0: neutral relationship | 1: strong relationship\n",
        "plt.clim(-1, 1)\n",
        "plt.title(f'Correlation Matrix', fontsize=16)\n",
        "\n",
        "plt.savefig(f'{getcwd()}/../plots/preprocess_correlation_matrix.svg', format='svg')\n",
        "plt.show()"
      ],
      "metadata": {
        "colab": {
          "base_uri": "https://localhost:8080/",
          "height": 708
        },
        "id": "V_IIvw5ci58L",
        "outputId": "bfc66072-60ec-419c-8965-f32e30d0fd55"
      },
      "execution_count": null,
      "outputs": [
        {
          "output_type": "display_data",
          "data": {
            "text/plain": [
              "<Figure size 800x800 with 2 Axes>"
            ],
            "image/png": "[encoded data removed]"
          },
          "metadata": {}
        }
      ]
    },
    {
      "cell_type": "markdown",
      "source": [
        "# **7. Storing Encodings for Predictions**\n",
        "\n",
        "- To be able to properly preprocess new instances in prediction, we need to store the categorical features encodings in a key-value format (e.g., {'Manhattan': 0, 'Brooklyn': 1, ...});\n",
        "- This way, we can access the corresponding numerical value to a given label in prediction, since most of ML algorithms doesn't support categorical values."
      ],
      "metadata": {
        "id": "FOF_3ZAsSU2V"
      }
    },
    {
      "cell_type": "code",
      "source": [
        "# Custom encoder to write int64 into JSON (serializable)\n",
        "class CustomEncoder(json.JSONEncoder):\n",
        "\n",
        "    def default(self, obj):\n",
        "        if isinstance(obj, np.integer):\n",
        "            return int(obj)\n",
        "\n",
        "        return super(CustomEncoder, self).default(obj)\n",
        "\n",
        "\n",
        "def generate_encodings(df: pd.DataFrame) -> None:\n",
        "\n",
        "    # Unused features and target\n",
        "    df = df.drop(['ID', 'Name', 'Price'], axis='columns')\n",
        "\n",
        "    # Reducing Last Review cardinality\n",
        "    df['Last Review'] = pd.to_datetime(df['Last Review'])\n",
        "    df['Last Review'] = df['Last Review'].apply(lambda row: f'{str(row.year)}-{str(row.month)}')\n",
        "\n",
        "    # Reapplying null values and category type (necessary for adding categories)\n",
        "    df['Last Review'] = df['Last Review'].astype('category')\n",
        "    df = df.replace({'Last Review': {'nan-nan': np.nan}})\n",
        "\n",
        "    # Filling missing values\n",
        "    df['Last Review'] = df['Last Review'].cat.add_categories('N/A')\n",
        "    df['Last Review'] = df['Last Review'].fillna('N/A')\n",
        "    df['Monthly Reviews'] = df['Monthly Reviews'].fillna(0)\n",
        "\n",
        "    # Discarding rows with missing values (at this point, only Host Name column has)\n",
        "    df = df.dropna(axis='index', subset='Host Name')\n",
        "\n",
        "    matches = dict()\n",
        "    encoder = LabelEncoder()\n",
        "    for col in df.columns.values:\n",
        "\n",
        "        # Discretizes only categorical features\n",
        "        if not is_float_dtype(df[col]) and not is_integer_dtype(df[col]):\n",
        "            encoder.fit(df[col])\n",
        "\n",
        "            # Stores each column mapping (<categorical label>: <encoded number>)\n",
        "            col_matches = dict(zip(encoder.classes_, encoder.transform(encoder.classes_)))\n",
        "            matches[col] = col_matches\n",
        "\n",
        "    with open(f'{getcwd()}/../models/matches.json', 'w') as json_file:\n",
        "        # ASCII to deal with distinct data (e.g., japanese characters, emojis, ...)\n",
        "        matches_file = json.dumps(matches, indent=4, cls=CustomEncoder, ensure_ascii=False)\n",
        "        json_file.write(matches_file)\n",
        "\n",
        "\n",
        "encode_dataset = pd.read_parquet(f'{getcwd()}/../datasets/reduced.parquet')\n",
        "generate_encodings(df=encode_dataset)"
      ],
      "metadata": {
        "id": "10GlFDDcFPwQ"
      },
      "execution_count": 35,
      "outputs": []
    }
  ]
}