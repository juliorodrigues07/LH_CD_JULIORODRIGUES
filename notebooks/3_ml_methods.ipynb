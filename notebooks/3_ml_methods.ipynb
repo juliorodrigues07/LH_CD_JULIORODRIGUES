{
  "nbformat": 4,
  "nbformat_minor": 0,
  "metadata": {
    "colab": {
      "provenance": [],
      "authorship_tag": "ABX9TyNoNVkpUcpzEqqnfwkBwACK",
      "include_colab_link": true
    },
    "kernelspec": {
      "name": "python3",
      "display_name": "Python 3"
    },
    "language_info": {
      "name": "python"
    }
  },
  "cells": [
    {
      "cell_type": "markdown",
      "metadata": {
        "id": "view-in-github",
        "colab_type": "text"
      },
      "source": [
        "<a href=\"https://colab.research.google.com/github/juliorodrigues07/LH_CD_JULIORODRIGUES/blob/extras/notebooks/3_ml_methods.ipynb\" target=\"_parent\"><img src=\"https://colab.research.google.com/assets/colab-badge.svg\" alt=\"Open In Colab\"/></a>"
      ]
    },
    {
      "cell_type": "markdown",
      "source": [
        "# **Machine Learning Methods**"
      ],
      "metadata": {
        "id": "3rfrOiRL8H9a"
      }
    },
    {
      "cell_type": "markdown",
      "source": [
        "##[Table of Contents](#updateTitle=true&folderId=1YHQAO3wwkfNb1JDYLbuQ4wx8jaIwgNwi&scrollTo=g-cc_ygMBtaS)\n",
        "\n",
        ">[Imports and Export Directories](#updateTitle=true&folderId=1YHQAO3wwkfNb1JDYLbuQ4wx8jaIwgNwi&scrollTo=VD74znZhnlYN)\n",
        "\n",
        ">[1. First Impressions with ML Models](#updateTitle=true&folderId=1YHQAO3wwkfNb1JDYLbuQ4wx8jaIwgNwi&scrollTo=jqnG_vkyn3VW)\n",
        "\n",
        ">>[1.1. Average R², MAE and RMSE](#updateTitle=true&folderId=1YHQAO3wwkfNb1JDYLbuQ4wx8jaIwgNwi&scrollTo=5as_IhGhtFgE)\n",
        "\n",
        ">>[1.2. Standard deviation of R², MAE and RMSE](#updateTitle=true&folderId=1YHQAO3wwkfNb1JDYLbuQ4wx8jaIwgNwi&scrollTo=fHp76OdItSKX)\n",
        "\n",
        ">>[1.3. Perfomance Visualization](#updateTitle=true&folderId=1YHQAO3wwkfNb1JDYLbuQ4wx8jaIwgNwi&scrollTo=T4S7YX_K7V0z)\n",
        "\n",
        ">[2. Fine Tuning](#updateTitle=true&folderId=1YHQAO3wwkfNb1JDYLbuQ4wx8jaIwgNwi&scrollTo=fMxsqRACoQ-m)\n",
        "\n",
        ">>[2.1. LightGBM](#updateTitle=true&folderId=1YHQAO3wwkfNb1JDYLbuQ4wx8jaIwgNwi&scrollTo=0egKLnhzFQkj)\n",
        "\n",
        ">>[2.2. XGBoost](#updateTitle=true&folderId=1YHQAO3wwkfNb1JDYLbuQ4wx8jaIwgNwi&scrollTo=MCjIvXJMFXZV)\n",
        "\n",
        ">>[2.3. HistGradientBoosting](#updateTitle=true&folderId=1YHQAO3wwkfNb1JDYLbuQ4wx8jaIwgNwi&scrollTo=6KE_K-nzFZ1k)\n",
        "\n",
        ">>[2.4. Reevaluating Models](#updateTitle=true&folderId=1YHQAO3wwkfNb1JDYLbuQ4wx8jaIwgNwi&scrollTo=63uj_PMmt7Vk)\n",
        "\n",
        ">[3. Feature Selection](#updateTitle=true&folderId=1YHQAO3wwkfNb1JDYLbuQ4wx8jaIwgNwi&scrollTo=u6f3fv0-DNx1)\n",
        "\n",
        ">[4. Statistical Tests](#updateTitle=true&folderId=1YHQAO3wwkfNb1JDYLbuQ4wx8jaIwgNwi&scrollTo=73qffOdFzqzF)\n",
        "\n",
        ">[5. Training and Saving](#updateTitle=true&folderId=1YHQAO3wwkfNb1JDYLbuQ4wx8jaIwgNwi&scrollTo=HWqqfSn7Ezyg)\n",
        "\n",
        ">[6. Predicting an Instance](#updateTitle=true&folderId=1YHQAO3wwkfNb1JDYLbuQ4wx8jaIwgNwi&scrollTo=vo69sRyvFxf5)\n",
        "\n",
        ">[7. Future Steps](#updateTitle=true&folderId=1YHQAO3wwkfNb1JDYLbuQ4wx8jaIwgNwi&scrollTo=furuZijDLUWv)\n",
        "\n"
      ],
      "metadata": {
        "colab_type": "toc",
        "id": "79hk4CZ47ZvG"
      }
    },
    {
      "cell_type": "markdown",
      "source": [
        "# **Imports, Export Directories and Preprocessed Dataset**"
      ],
      "metadata": {
        "id": "VD74znZhnlYN"
      }
    },
    {
      "cell_type": "code",
      "source": [
        "!pip install -U kaleido\n",
        "import pandas as pd\n",
        "import gdown\n",
        "from warnings import filterwarnings\n",
        "from os.path import isdir\n",
        "from os import getcwd\n",
        "from os import mkdir\n",
        "\n",
        "\n",
        "filterwarnings('ignore', category=DeprecationWarning)\n",
        "filterwarnings('ignore', category=FutureWarning)\n",
        "\n",
        "# Export directories\n",
        "if not isdir(f'{getcwd()}/../plots'):\n",
        "    mkdir(f'{getcwd()}/../plots')\n",
        "if not isdir(f'{getcwd()}/../models'):\n",
        "    mkdir(f'{getcwd()}/../models')\n",
        "if not isdir(f'{getcwd()}/../datasets'):\n",
        "    mkdir(f'{getcwd()}/../datasets')\n",
        "\n",
        "dataset_file = \"preprocessed.parquet\"\n",
        "file_id = '1KrqLaStIHwSq6xFCHtt0wcMn0F9ImaO4'\n",
        "gdown.download(f'https://drive.google.com/uc?id={file_id}', dataset_file)\n",
        "\n",
        "dataset = pd.read_parquet(dataset_file)"
      ],
      "metadata": {
        "colab": {
          "base_uri": "https://localhost:8080/"
        },
        "id": "-q5Cjq5JnINN",
        "outputId": "26a9767b-208e-4f07-eddc-49f997d68f04"
      },
      "execution_count": null,
      "outputs": [
        {
          "output_type": "stream",
          "name": "stdout",
          "text": [
            "Requirement already satisfied: kaleido in /usr/local/lib/python3.10/dist-packages (0.2.1)\n"
          ]
        },
        {
          "output_type": "stream",
          "name": "stderr",
          "text": [
            "Downloading...\n",
            "From: https://drive.google.com/uc?id=1KrqLaStIHwSq6xFCHtt0wcMn0F9ImaO4\n",
            "To: /content/preprocessed.parquet\n",
            "100%|██████████| 527k/527k [00:00<00:00, 93.3MB/s]\n"
          ]
        }
      ]
    },
    {
      "cell_type": "markdown",
      "source": [
        "# **1. First Impressions with Different Models**\n",
        "\n",
        "- Although the transformers are simple (scaling with z-score) and the dataset is small, it's a good practice to cache the data for speeding up computationally expensive operations, such as cross validation and fine tuning;\n",
        "- By caching the transformed data in a cross validation, for instance, we avoid rescaling the data for each split;\n",
        "- _Disclaimer_: All the models evaluation is done with cross validation (5-folds).\n"
      ],
      "metadata": {
        "id": "jqnG_vkyn3VW"
      }
    },
    {
      "cell_type": "code",
      "execution_count": null,
      "metadata": {
        "id": "50kwz1Nu_5Od"
      },
      "outputs": [],
      "source": [
        "from sklearn.ensemble import HistGradientBoostingRegressor\n",
        "from sklearn.model_selection import cross_validate\n",
        "from sklearn.model_selection import RepeatedKFold\n",
        "from sklearn.linear_model import LinearRegression\n",
        "from sklearn.neighbors import KNeighborsRegressor\n",
        "from sklearn.preprocessing import StandardScaler\n",
        "from sklearn.pipeline import Pipeline\n",
        "from lightgbm import LGBMRegressor\n",
        "from xgboost import XGBRegressor\n",
        "from tempfile import mkdtemp\n",
        "from joblib import Memory\n",
        "\n",
        "\n",
        "fitting = dataset.copy()\n",
        "model_features = fitting.drop(['Price'], axis='columns')\n",
        "model_classes = fitting['Price']\n",
        "\n",
        "scaler = StandardScaler()\n",
        "\n",
        "# Caching transformed data to avoid repeated computation\n",
        "cachedir = mkdtemp()\n",
        "memory = Memory(location=cachedir, verbose=0)\n",
        "\n",
        "lr_pipeline = Pipeline(steps=[\n",
        "    ('scaler', scaler),\n",
        "    ('regressor', LinearRegression())\n",
        "    ], memory=memory)\n",
        "\n",
        "knn_pipeline = Pipeline(steps=[\n",
        "    ('scaler', scaler),\n",
        "    ('regressor', KNeighborsRegressor(n_jobs=-1))\n",
        "    ], memory=memory)\n",
        "\n",
        "xgb_pipeline = Pipeline(steps=[\n",
        "    ('scaler', scaler),\n",
        "    ('regressor', XGBRegressor(n_jobs=-1))\n",
        "    ], memory=memory)\n",
        "\n",
        "lgbm_pipeline = Pipeline(steps=[\n",
        "    ('scaler', scaler),\n",
        "    ('regressor', LGBMRegressor(n_jobs=-1, verbose=-1))\n",
        "    ], memory=memory)\n",
        "\n",
        "hist_pipeline = Pipeline(steps=[\n",
        "    ('scaler', scaler),\n",
        "    ('regressor', HistGradientBoostingRegressor())\n",
        "    ], memory=memory)\n",
        "\n",
        "pipelines = {\n",
        "    'Linear Regression': lr_pipeline,\n",
        "    'KNN': knn_pipeline,\n",
        "    'XGBoost': xgb_pipeline,\n",
        "    'LightGBM': lgbm_pipeline,\n",
        "    'HistGB': hist_pipeline\n",
        "}\n",
        "\n",
        "mean_results, std_results = pd.DataFrame(), pd.DataFrame()\n",
        "mean_results['Metric'] = std_results['Metric'] = ['R²', 'MAE', 'RMSE']\n",
        "\n",
        "# 5-fold cross-validation\n",
        "for key in pipelines:\n",
        "    scores = cross_validate(\n",
        "        estimator=pipelines[key],\n",
        "        X=model_features,\n",
        "        y=model_classes,\n",
        "        cv=RepeatedKFold(n_splits=5, n_repeats=5, random_state=42),\n",
        "        scoring=('r2', 'neg_mean_absolute_error', 'neg_root_mean_squared_error'),\n",
        "        n_jobs=-1\n",
        "    )\n",
        "    mean_results[key] = [scores['test_r2'].mean(),\n",
        "                         abs(scores['test_neg_mean_absolute_error'].mean()),\n",
        "                         abs(scores['test_neg_root_mean_squared_error'].mean())]\n",
        "    std_results[key] = [scores['test_r2'].std(),\n",
        "                        abs(scores['test_neg_mean_absolute_error'].std()),\n",
        "                        abs(scores['test_neg_root_mean_squared_error'].std())]"
      ]
    },
    {
      "cell_type": "markdown",
      "source": [
        "## **1.1. Average R², MAE and RMSE by Model**\n",
        "\n",
        "- Metrics used:\n",
        "    - R² (a.k.a., Coefficient of Determination);\n",
        "    - MAE (Mean Absolute Error);\n",
        "    - RMSE (Root Mean Squared Error).\n",
        "- R² represents the data's percentage variance which is explained by the model. In other words, the greater R² value is, the more explanatory the model is in relation to predicted data;\n",
        "- The main metric selected to evaluate the model's performance was R², since it's extremely simple to interpret. In contrast with metrics like RMSE or MAE, R² has a well define interval which it can assume [0, 1];\n",
        "- MAE and RMSE both represents the average between predictions and ground truth;\n",
        "- However, MAE is robust to outliers, while RMSE implements the idea of penalties with extreme values;\n",
        "- For instance, a MAE or RMSE of 40 would indicate that on average, the absolute difference between the price predicted and the real value is 40."
      ],
      "metadata": {
        "id": "5as_IhGhtFgE"
      }
    },
    {
      "cell_type": "code",
      "source": [
        "mean_results"
      ],
      "metadata": {
        "colab": {
          "base_uri": "https://localhost:8080/",
          "height": 143
        },
        "id": "P5QNui1a_9RU",
        "outputId": "eb3632f9-0b1a-4db9-a62d-c3bdd31daf2c"
      },
      "execution_count": null,
      "outputs": [
        {
          "output_type": "execute_result",
          "data": {
            "text/plain": [
              "  Metric  Linear Regression        KNN    XGBoost   LightGBM     HistGB\n",
              "0     R²           0.481058   0.490836   0.579319   0.584595   0.583640\n",
              "1    MAE          36.545825  34.868445  31.778904  31.579639  31.616056\n",
              "2   RMSE          49.065358  48.599631  44.175485  43.897651  43.948169"
            ],
            "text/html": [
              "\n",
              "  <div id=\"df-a2880815-7868-4a91-8379-d4d5075d0df4\" class=\"colab-df-container\">\n",
              "    <div>\n",
              "<style scoped>\n",
              "    .dataframe tbody tr th:only-of-type {\n",
              "        vertical-align: middle;\n",
              "    }\n",
              "\n",
              "    .dataframe tbody tr th {\n",
              "        vertical-align: top;\n",
              "    }\n",
              "\n",
              "    .dataframe thead th {\n",
              "        text-align: right;\n",
              "    }\n",
              "</style>\n",
              "<table border=\"1\" class=\"dataframe\">\n",
              "  <thead>\n",
              "    <tr style=\"text-align: right;\">\n",
              "      <th></th>\n",
              "      <th>Metric</th>\n",
              "      <th>Linear Regression</th>\n",
              "      <th>KNN</th>\n",
              "      <th>XGBoost</th>\n",
              "      <th>LightGBM</th>\n",
              "      <th>HistGB</th>\n",
              "    </tr>\n",
              "  </thead>\n",
              "  <tbody>\n",
              "    <tr>\n",
              "      <th>0</th>\n",
              "      <td>R²</td>\n",
              "      <td>0.481058</td>\n",
              "      <td>0.490836</td>\n",
              "      <td>0.579319</td>\n",
              "      <td>0.584595</td>\n",
              "      <td>0.583640</td>\n",
              "    </tr>\n",
              "    <tr>\n",
              "      <th>1</th>\n",
              "      <td>MAE</td>\n",
              "      <td>36.545825</td>\n",
              "      <td>34.868445</td>\n",
              "      <td>31.778904</td>\n",
              "      <td>31.579639</td>\n",
              "      <td>31.616056</td>\n",
              "    </tr>\n",
              "    <tr>\n",
              "      <th>2</th>\n",
              "      <td>RMSE</td>\n",
              "      <td>49.065358</td>\n",
              "      <td>48.599631</td>\n",
              "      <td>44.175485</td>\n",
              "      <td>43.897651</td>\n",
              "      <td>43.948169</td>\n",
              "    </tr>\n",
              "  </tbody>\n",
              "</table>\n",
              "</div>\n",
              "    <div class=\"colab-df-buttons\">\n",
              "\n",
              "  <div class=\"colab-df-container\">\n",
              "    <button class=\"colab-df-convert\" onclick=\"convertToInteractive('df-a2880815-7868-4a91-8379-d4d5075d0df4')\"\n",
              "            title=\"Convert this dataframe to an interactive table.\"\n",
              "            style=\"display:none;\">\n",
              "\n",
              "  <svg xmlns=\"http://www.w3.org/2000/svg\" height=\"24px\" viewBox=\"0 -960 960 960\">\n",
              "    <path d=\"M120-120v-720h720v720H120Zm60-500h600v-160H180v160Zm220 220h160v-160H400v160Zm0 220h160v-160H400v160ZM180-400h160v-160H180v160Zm440 0h160v-160H620v160ZM180-180h160v-160H180v160Zm440 0h160v-160H620v160Z\"/>\n",
              "  </svg>\n",
              "    </button>\n",
              "\n",
              "  <style>\n",
              "    .colab-df-container {\n",
              "      display:flex;\n",
              "      gap: 12px;\n",
              "    }\n",
              "\n",
              "    .colab-df-convert {\n",
              "      background-color: #E8F0FE;\n",
              "      border: none;\n",
              "      border-radius: 50%;\n",
              "      cursor: pointer;\n",
              "      display: none;\n",
              "      fill: #1967D2;\n",
              "      height: 32px;\n",
              "      padding: 0 0 0 0;\n",
              "      width: 32px;\n",
              "    }\n",
              "\n",
              "    .colab-df-convert:hover {\n",
              "      background-color: #E2EBFA;\n",
              "      box-shadow: 0px 1px 2px rgba(60, 64, 67, 0.3), 0px 1px 3px 1px rgba(60, 64, 67, 0.15);\n",
              "      fill: #174EA6;\n",
              "    }\n",
              "\n",
              "    .colab-df-buttons div {\n",
              "      margin-bottom: 4px;\n",
              "    }\n",
              "\n",
              "    [theme=dark] .colab-df-convert {\n",
              "      background-color: #3B4455;\n",
              "      fill: #D2E3FC;\n",
              "    }\n",
              "\n",
              "    [theme=dark] .colab-df-convert:hover {\n",
              "      background-color: #434B5C;\n",
              "      box-shadow: 0px 1px 3px 1px rgba(0, 0, 0, 0.15);\n",
              "      filter: drop-shadow(0px 1px 2px rgba(0, 0, 0, 0.3));\n",
              "      fill: #FFFFFF;\n",
              "    }\n",
              "  </style>\n",
              "\n",
              "    <script>\n",
              "      const buttonEl =\n",
              "        document.querySelector('#df-a2880815-7868-4a91-8379-d4d5075d0df4 button.colab-df-convert');\n",
              "      buttonEl.style.display =\n",
              "        google.colab.kernel.accessAllowed ? 'block' : 'none';\n",
              "\n",
              "      async function convertToInteractive(key) {\n",
              "        const element = document.querySelector('#df-a2880815-7868-4a91-8379-d4d5075d0df4');\n",
              "        const dataTable =\n",
              "          await google.colab.kernel.invokeFunction('convertToInteractive',\n",
              "                                                    [key], {});\n",
              "        if (!dataTable) return;\n",
              "\n",
              "        const docLinkHtml = 'Like what you see? Visit the ' +\n",
              "          '<a target=\"_blank\" href=https://colab.research.google.com/notebooks/data_table.ipynb>data table notebook</a>'\n",
              "          + ' to learn more about interactive tables.';\n",
              "        element.innerHTML = '';\n",
              "        dataTable['output_type'] = 'display_data';\n",
              "        await google.colab.output.renderOutput(dataTable, element);\n",
              "        const docLink = document.createElement('div');\n",
              "        docLink.innerHTML = docLinkHtml;\n",
              "        element.appendChild(docLink);\n",
              "      }\n",
              "    </script>\n",
              "  </div>\n",
              "\n",
              "\n",
              "<div id=\"df-26313406-a38e-4934-9b8d-f92c99866c73\">\n",
              "  <button class=\"colab-df-quickchart\" onclick=\"quickchart('df-26313406-a38e-4934-9b8d-f92c99866c73')\"\n",
              "            title=\"Suggest charts\"\n",
              "            style=\"display:none;\">\n",
              "\n",
              "<svg xmlns=\"http://www.w3.org/2000/svg\" height=\"24px\"viewBox=\"0 0 24 24\"\n",
              "     width=\"24px\">\n",
              "    <g>\n",
              "        <path d=\"M19 3H5c-1.1 0-2 .9-2 2v14c0 1.1.9 2 2 2h14c1.1 0 2-.9 2-2V5c0-1.1-.9-2-2-2zM9 17H7v-7h2v7zm4 0h-2V7h2v10zm4 0h-2v-4h2v4z\"/>\n",
              "    </g>\n",
              "</svg>\n",
              "  </button>\n",
              "\n",
              "<style>\n",
              "  .colab-df-quickchart {\n",
              "      --bg-color: #E8F0FE;\n",
              "      --fill-color: #1967D2;\n",
              "      --hover-bg-color: #E2EBFA;\n",
              "      --hover-fill-color: #174EA6;\n",
              "      --disabled-fill-color: #AAA;\n",
              "      --disabled-bg-color: #DDD;\n",
              "  }\n",
              "\n",
              "  [theme=dark] .colab-df-quickchart {\n",
              "      --bg-color: #3B4455;\n",
              "      --fill-color: #D2E3FC;\n",
              "      --hover-bg-color: #434B5C;\n",
              "      --hover-fill-color: #FFFFFF;\n",
              "      --disabled-bg-color: #3B4455;\n",
              "      --disabled-fill-color: #666;\n",
              "  }\n",
              "\n",
              "  .colab-df-quickchart {\n",
              "    background-color: var(--bg-color);\n",
              "    border: none;\n",
              "    border-radius: 50%;\n",
              "    cursor: pointer;\n",
              "    display: none;\n",
              "    fill: var(--fill-color);\n",
              "    height: 32px;\n",
              "    padding: 0;\n",
              "    width: 32px;\n",
              "  }\n",
              "\n",
              "  .colab-df-quickchart:hover {\n",
              "    background-color: var(--hover-bg-color);\n",
              "    box-shadow: 0 1px 2px rgba(60, 64, 67, 0.3), 0 1px 3px 1px rgba(60, 64, 67, 0.15);\n",
              "    fill: var(--button-hover-fill-color);\n",
              "  }\n",
              "\n",
              "  .colab-df-quickchart-complete:disabled,\n",
              "  .colab-df-quickchart-complete:disabled:hover {\n",
              "    background-color: var(--disabled-bg-color);\n",
              "    fill: var(--disabled-fill-color);\n",
              "    box-shadow: none;\n",
              "  }\n",
              "\n",
              "  .colab-df-spinner {\n",
              "    border: 2px solid var(--fill-color);\n",
              "    border-color: transparent;\n",
              "    border-bottom-color: var(--fill-color);\n",
              "    animation:\n",
              "      spin 1s steps(1) infinite;\n",
              "  }\n",
              "\n",
              "  @keyframes spin {\n",
              "    0% {\n",
              "      border-color: transparent;\n",
              "      border-bottom-color: var(--fill-color);\n",
              "      border-left-color: var(--fill-color);\n",
              "    }\n",
              "    20% {\n",
              "      border-color: transparent;\n",
              "      border-left-color: var(--fill-color);\n",
              "      border-top-color: var(--fill-color);\n",
              "    }\n",
              "    30% {\n",
              "      border-color: transparent;\n",
              "      border-left-color: var(--fill-color);\n",
              "      border-top-color: var(--fill-color);\n",
              "      border-right-color: var(--fill-color);\n",
              "    }\n",
              "    40% {\n",
              "      border-color: transparent;\n",
              "      border-right-color: var(--fill-color);\n",
              "      border-top-color: var(--fill-color);\n",
              "    }\n",
              "    60% {\n",
              "      border-color: transparent;\n",
              "      border-right-color: var(--fill-color);\n",
              "    }\n",
              "    80% {\n",
              "      border-color: transparent;\n",
              "      border-right-color: var(--fill-color);\n",
              "      border-bottom-color: var(--fill-color);\n",
              "    }\n",
              "    90% {\n",
              "      border-color: transparent;\n",
              "      border-bottom-color: var(--fill-color);\n",
              "    }\n",
              "  }\n",
              "</style>\n",
              "\n",
              "  <script>\n",
              "    async function quickchart(key) {\n",
              "      const quickchartButtonEl =\n",
              "        document.querySelector('#' + key + ' button');\n",
              "      quickchartButtonEl.disabled = true;  // To prevent multiple clicks.\n",
              "      quickchartButtonEl.classList.add('colab-df-spinner');\n",
              "      try {\n",
              "        const charts = await google.colab.kernel.invokeFunction(\n",
              "            'suggestCharts', [key], {});\n",
              "      } catch (error) {\n",
              "        console.error('Error during call to suggestCharts:', error);\n",
              "      }\n",
              "      quickchartButtonEl.classList.remove('colab-df-spinner');\n",
              "      quickchartButtonEl.classList.add('colab-df-quickchart-complete');\n",
              "    }\n",
              "    (() => {\n",
              "      let quickchartButtonEl =\n",
              "        document.querySelector('#df-26313406-a38e-4934-9b8d-f92c99866c73 button');\n",
              "      quickchartButtonEl.style.display =\n",
              "        google.colab.kernel.accessAllowed ? 'block' : 'none';\n",
              "    })();\n",
              "  </script>\n",
              "</div>\n",
              "\n",
              "  <div id=\"id_979bb3d6-5676-4e3c-99a4-24cecef4204b\">\n",
              "    <style>\n",
              "      .colab-df-generate {\n",
              "        background-color: #E8F0FE;\n",
              "        border: none;\n",
              "        border-radius: 50%;\n",
              "        cursor: pointer;\n",
              "        display: none;\n",
              "        fill: #1967D2;\n",
              "        height: 32px;\n",
              "        padding: 0 0 0 0;\n",
              "        width: 32px;\n",
              "      }\n",
              "\n",
              "      .colab-df-generate:hover {\n",
              "        background-color: #E2EBFA;\n",
              "        box-shadow: 0px 1px 2px rgba(60, 64, 67, 0.3), 0px 1px 3px 1px rgba(60, 64, 67, 0.15);\n",
              "        fill: #174EA6;\n",
              "      }\n",
              "\n",
              "      [theme=dark] .colab-df-generate {\n",
              "        background-color: #3B4455;\n",
              "        fill: #D2E3FC;\n",
              "      }\n",
              "\n",
              "      [theme=dark] .colab-df-generate:hover {\n",
              "        background-color: #434B5C;\n",
              "        box-shadow: 0px 1px 3px 1px rgba(0, 0, 0, 0.15);\n",
              "        filter: drop-shadow(0px 1px 2px rgba(0, 0, 0, 0.3));\n",
              "        fill: #FFFFFF;\n",
              "      }\n",
              "    </style>\n",
              "    <button class=\"colab-df-generate\" onclick=\"generateWithVariable('mean_results')\"\n",
              "            title=\"Generate code using this dataframe.\"\n",
              "            style=\"display:none;\">\n",
              "\n",
              "  <svg xmlns=\"http://www.w3.org/2000/svg\" height=\"24px\"viewBox=\"0 0 24 24\"\n",
              "       width=\"24px\">\n",
              "    <path d=\"M7,19H8.4L18.45,9,17,7.55,7,17.6ZM5,21V16.75L18.45,3.32a2,2,0,0,1,2.83,0l1.4,1.43a1.91,1.91,0,0,1,.58,1.4,1.91,1.91,0,0,1-.58,1.4L9.25,21ZM18.45,9,17,7.55Zm-12,3A5.31,5.31,0,0,0,4.9,8.1,5.31,5.31,0,0,0,1,6.5,5.31,5.31,0,0,0,4.9,4.9,5.31,5.31,0,0,0,6.5,1,5.31,5.31,0,0,0,8.1,4.9,5.31,5.31,0,0,0,12,6.5,5.46,5.46,0,0,0,6.5,12Z\"/>\n",
              "  </svg>\n",
              "    </button>\n",
              "    <script>\n",
              "      (() => {\n",
              "      const buttonEl =\n",
              "        document.querySelector('#id_979bb3d6-5676-4e3c-99a4-24cecef4204b button.colab-df-generate');\n",
              "      buttonEl.style.display =\n",
              "        google.colab.kernel.accessAllowed ? 'block' : 'none';\n",
              "\n",
              "      buttonEl.onclick = () => {\n",
              "        google.colab.notebook.generateWithVariable('mean_results');\n",
              "      }\n",
              "      })();\n",
              "    </script>\n",
              "  </div>\n",
              "\n",
              "    </div>\n",
              "  </div>\n"
            ],
            "application/vnd.google.colaboratory.intrinsic+json": {
              "type": "dataframe",
              "variable_name": "mean_results",
              "summary": "{\n  \"name\": \"mean_results\",\n  \"rows\": 3,\n  \"fields\": [\n    {\n      \"column\": \"Metric\",\n      \"properties\": {\n        \"dtype\": \"string\",\n        \"num_unique_values\": 3,\n        \"samples\": [\n          \"R\\u00b2\",\n          \"MAE\",\n          \"RMSE\"\n        ],\n        \"semantic_type\": \"\",\n        \"description\": \"\"\n      }\n    },\n    {\n      \"column\": \"Linear Regression\",\n      \"properties\": {\n        \"dtype\": \"number\",\n        \"std\": 25.22512050650686,\n        \"min\": 0.4810583196734444,\n        \"max\": 49.065357513427735,\n        \"num_unique_values\": 3,\n        \"samples\": [\n          0.4810583196734444,\n          36.5458251953125,\n          49.065357513427735\n        ],\n        \"semantic_type\": \"\",\n        \"description\": \"\"\n      }\n    },\n    {\n      \"column\": \"KNN\",\n      \"properties\": {\n        \"dtype\": \"number\",\n        \"std\": 24.781786520864515,\n        \"min\": 0.49083561554275756,\n        \"max\": 48.599630637351474,\n        \"num_unique_values\": 3,\n        \"samples\": [\n          0.49083561554275756,\n          34.868445352266214,\n          48.599630637351474\n        ],\n        \"semantic_type\": \"\",\n        \"description\": \"\"\n      }\n    },\n    {\n      \"column\": \"XGBoost\",\n      \"properties\": {\n        \"dtype\": \"number\",\n        \"std\": 22.46373000731749,\n        \"min\": 0.5793189681170624,\n        \"max\": 44.17548492431641,\n        \"num_unique_values\": 3,\n        \"samples\": [\n          0.5793189681170624,\n          31.778903579711915,\n          44.17548492431641\n        ],\n        \"semantic_type\": \"\",\n        \"description\": \"\"\n      }\n    },\n    {\n      \"column\": \"LightGBM\",\n      \"properties\": {\n        \"dtype\": \"number\",\n        \"std\": 22.31758260765533,\n        \"min\": 0.5845953247195609,\n        \"max\": 43.89765126281541,\n        \"num_unique_values\": 3,\n        \"samples\": [\n          0.5845953247195609,\n          31.579638664322584,\n          43.89765126281541\n        ],\n        \"semantic_type\": \"\",\n        \"description\": \"\"\n      }\n    },\n    {\n      \"column\": \"HistGB\",\n      \"properties\": {\n        \"dtype\": \"number\",\n        \"std\": 22.344180039722954,\n        \"min\": 0.5836399346192079,\n        \"max\": 43.94816948214563,\n        \"num_unique_values\": 3,\n        \"samples\": [\n          0.5836399346192079,\n          31.61605592555221,\n          43.94816948214563\n        ],\n        \"semantic_type\": \"\",\n        \"description\": \"\"\n      }\n    }\n  ]\n}"
            }
          },
          "metadata": {},
          "execution_count": 173
        }
      ]
    },
    {
      "cell_type": "markdown",
      "source": [
        "## **1.2. Standard deviation of R², MAE and RMSE by Model**\n"
      ],
      "metadata": {
        "id": "fHp76OdItSKX"
      }
    },
    {
      "cell_type": "code",
      "source": [
        "std_results"
      ],
      "metadata": {
        "colab": {
          "base_uri": "https://localhost:8080/",
          "height": 143
        },
        "id": "S9vxxxvO_-sF",
        "outputId": "3269a423-f3b9-441c-960b-f321fc4186bc"
      },
      "execution_count": null,
      "outputs": [
        {
          "output_type": "execute_result",
          "data": {
            "text/plain": [
              "  Metric  Linear Regression       KNN   XGBoost  LightGBM    HistGB\n",
              "0     R²           0.007160  0.008849  0.007987  0.007466  0.007419\n",
              "1    MAE           0.303831  0.324313  0.289396  0.277510  0.287851\n",
              "2   RMSE           0.444660  0.446284  0.479645  0.444804  0.446016"
            ],
            "text/html": [
              "\n",
              "  <div id=\"df-6f853526-56a6-4b44-a401-8d280603ca93\" class=\"colab-df-container\">\n",
              "    <div>\n",
              "<style scoped>\n",
              "    .dataframe tbody tr th:only-of-type {\n",
              "        vertical-align: middle;\n",
              "    }\n",
              "\n",
              "    .dataframe tbody tr th {\n",
              "        vertical-align: top;\n",
              "    }\n",
              "\n",
              "    .dataframe thead th {\n",
              "        text-align: right;\n",
              "    }\n",
              "</style>\n",
              "<table border=\"1\" class=\"dataframe\">\n",
              "  <thead>\n",
              "    <tr style=\"text-align: right;\">\n",
              "      <th></th>\n",
              "      <th>Metric</th>\n",
              "      <th>Linear Regression</th>\n",
              "      <th>KNN</th>\n",
              "      <th>XGBoost</th>\n",
              "      <th>LightGBM</th>\n",
              "      <th>HistGB</th>\n",
              "    </tr>\n",
              "  </thead>\n",
              "  <tbody>\n",
              "    <tr>\n",
              "      <th>0</th>\n",
              "      <td>R²</td>\n",
              "      <td>0.007160</td>\n",
              "      <td>0.008849</td>\n",
              "      <td>0.007987</td>\n",
              "      <td>0.007466</td>\n",
              "      <td>0.007419</td>\n",
              "    </tr>\n",
              "    <tr>\n",
              "      <th>1</th>\n",
              "      <td>MAE</td>\n",
              "      <td>0.303831</td>\n",
              "      <td>0.324313</td>\n",
              "      <td>0.289396</td>\n",
              "      <td>0.277510</td>\n",
              "      <td>0.287851</td>\n",
              "    </tr>\n",
              "    <tr>\n",
              "      <th>2</th>\n",
              "      <td>RMSE</td>\n",
              "      <td>0.444660</td>\n",
              "      <td>0.446284</td>\n",
              "      <td>0.479645</td>\n",
              "      <td>0.444804</td>\n",
              "      <td>0.446016</td>\n",
              "    </tr>\n",
              "  </tbody>\n",
              "</table>\n",
              "</div>\n",
              "    <div class=\"colab-df-buttons\">\n",
              "\n",
              "  <div class=\"colab-df-container\">\n",
              "    <button class=\"colab-df-convert\" onclick=\"convertToInteractive('df-6f853526-56a6-4b44-a401-8d280603ca93')\"\n",
              "            title=\"Convert this dataframe to an interactive table.\"\n",
              "            style=\"display:none;\">\n",
              "\n",
              "  <svg xmlns=\"http://www.w3.org/2000/svg\" height=\"24px\" viewBox=\"0 -960 960 960\">\n",
              "    <path d=\"M120-120v-720h720v720H120Zm60-500h600v-160H180v160Zm220 220h160v-160H400v160Zm0 220h160v-160H400v160ZM180-400h160v-160H180v160Zm440 0h160v-160H620v160ZM180-180h160v-160H180v160Zm440 0h160v-160H620v160Z\"/>\n",
              "  </svg>\n",
              "    </button>\n",
              "\n",
              "  <style>\n",
              "    .colab-df-container {\n",
              "      display:flex;\n",
              "      gap: 12px;\n",
              "    }\n",
              "\n",
              "    .colab-df-convert {\n",
              "      background-color: #E8F0FE;\n",
              "      border: none;\n",
              "      border-radius: 50%;\n",
              "      cursor: pointer;\n",
              "      display: none;\n",
              "      fill: #1967D2;\n",
              "      height: 32px;\n",
              "      padding: 0 0 0 0;\n",
              "      width: 32px;\n",
              "    }\n",
              "\n",
              "    .colab-df-convert:hover {\n",
              "      background-color: #E2EBFA;\n",
              "      box-shadow: 0px 1px 2px rgba(60, 64, 67, 0.3), 0px 1px 3px 1px rgba(60, 64, 67, 0.15);\n",
              "      fill: #174EA6;\n",
              "    }\n",
              "\n",
              "    .colab-df-buttons div {\n",
              "      margin-bottom: 4px;\n",
              "    }\n",
              "\n",
              "    [theme=dark] .colab-df-convert {\n",
              "      background-color: #3B4455;\n",
              "      fill: #D2E3FC;\n",
              "    }\n",
              "\n",
              "    [theme=dark] .colab-df-convert:hover {\n",
              "      background-color: #434B5C;\n",
              "      box-shadow: 0px 1px 3px 1px rgba(0, 0, 0, 0.15);\n",
              "      filter: drop-shadow(0px 1px 2px rgba(0, 0, 0, 0.3));\n",
              "      fill: #FFFFFF;\n",
              "    }\n",
              "  </style>\n",
              "\n",
              "    <script>\n",
              "      const buttonEl =\n",
              "        document.querySelector('#df-6f853526-56a6-4b44-a401-8d280603ca93 button.colab-df-convert');\n",
              "      buttonEl.style.display =\n",
              "        google.colab.kernel.accessAllowed ? 'block' : 'none';\n",
              "\n",
              "      async function convertToInteractive(key) {\n",
              "        const element = document.querySelector('#df-6f853526-56a6-4b44-a401-8d280603ca93');\n",
              "        const dataTable =\n",
              "          await google.colab.kernel.invokeFunction('convertToInteractive',\n",
              "                                                    [key], {});\n",
              "        if (!dataTable) return;\n",
              "\n",
              "        const docLinkHtml = 'Like what you see? Visit the ' +\n",
              "          '<a target=\"_blank\" href=https://colab.research.google.com/notebooks/data_table.ipynb>data table notebook</a>'\n",
              "          + ' to learn more about interactive tables.';\n",
              "        element.innerHTML = '';\n",
              "        dataTable['output_type'] = 'display_data';\n",
              "        await google.colab.output.renderOutput(dataTable, element);\n",
              "        const docLink = document.createElement('div');\n",
              "        docLink.innerHTML = docLinkHtml;\n",
              "        element.appendChild(docLink);\n",
              "      }\n",
              "    </script>\n",
              "  </div>\n",
              "\n",
              "\n",
              "<div id=\"df-77fe1ea7-178b-4ea6-9c68-b94ef23df30c\">\n",
              "  <button class=\"colab-df-quickchart\" onclick=\"quickchart('df-77fe1ea7-178b-4ea6-9c68-b94ef23df30c')\"\n",
              "            title=\"Suggest charts\"\n",
              "            style=\"display:none;\">\n",
              "\n",
              "<svg xmlns=\"http://www.w3.org/2000/svg\" height=\"24px\"viewBox=\"0 0 24 24\"\n",
              "     width=\"24px\">\n",
              "    <g>\n",
              "        <path d=\"M19 3H5c-1.1 0-2 .9-2 2v14c0 1.1.9 2 2 2h14c1.1 0 2-.9 2-2V5c0-1.1-.9-2-2-2zM9 17H7v-7h2v7zm4 0h-2V7h2v10zm4 0h-2v-4h2v4z\"/>\n",
              "    </g>\n",
              "</svg>\n",
              "  </button>\n",
              "\n",
              "<style>\n",
              "  .colab-df-quickchart {\n",
              "      --bg-color: #E8F0FE;\n",
              "      --fill-color: #1967D2;\n",
              "      --hover-bg-color: #E2EBFA;\n",
              "      --hover-fill-color: #174EA6;\n",
              "      --disabled-fill-color: #AAA;\n",
              "      --disabled-bg-color: #DDD;\n",
              "  }\n",
              "\n",
              "  [theme=dark] .colab-df-quickchart {\n",
              "      --bg-color: #3B4455;\n",
              "      --fill-color: #D2E3FC;\n",
              "      --hover-bg-color: #434B5C;\n",
              "      --hover-fill-color: #FFFFFF;\n",
              "      --disabled-bg-color: #3B4455;\n",
              "      --disabled-fill-color: #666;\n",
              "  }\n",
              "\n",
              "  .colab-df-quickchart {\n",
              "    background-color: var(--bg-color);\n",
              "    border: none;\n",
              "    border-radius: 50%;\n",
              "    cursor: pointer;\n",
              "    display: none;\n",
              "    fill: var(--fill-color);\n",
              "    height: 32px;\n",
              "    padding: 0;\n",
              "    width: 32px;\n",
              "  }\n",
              "\n",
              "  .colab-df-quickchart:hover {\n",
              "    background-color: var(--hover-bg-color);\n",
              "    box-shadow: 0 1px 2px rgba(60, 64, 67, 0.3), 0 1px 3px 1px rgba(60, 64, 67, 0.15);\n",
              "    fill: var(--button-hover-fill-color);\n",
              "  }\n",
              "\n",
              "  .colab-df-quickchart-complete:disabled,\n",
              "  .colab-df-quickchart-complete:disabled:hover {\n",
              "    background-color: var(--disabled-bg-color);\n",
              "    fill: var(--disabled-fill-color);\n",
              "    box-shadow: none;\n",
              "  }\n",
              "\n",
              "  .colab-df-spinner {\n",
              "    border: 2px solid var(--fill-color);\n",
              "    border-color: transparent;\n",
              "    border-bottom-color: var(--fill-color);\n",
              "    animation:\n",
              "      spin 1s steps(1) infinite;\n",
              "  }\n",
              "\n",
              "  @keyframes spin {\n",
              "    0% {\n",
              "      border-color: transparent;\n",
              "      border-bottom-color: var(--fill-color);\n",
              "      border-left-color: var(--fill-color);\n",
              "    }\n",
              "    20% {\n",
              "      border-color: transparent;\n",
              "      border-left-color: var(--fill-color);\n",
              "      border-top-color: var(--fill-color);\n",
              "    }\n",
              "    30% {\n",
              "      border-color: transparent;\n",
              "      border-left-color: var(--fill-color);\n",
              "      border-top-color: var(--fill-color);\n",
              "      border-right-color: var(--fill-color);\n",
              "    }\n",
              "    40% {\n",
              "      border-color: transparent;\n",
              "      border-right-color: var(--fill-color);\n",
              "      border-top-color: var(--fill-color);\n",
              "    }\n",
              "    60% {\n",
              "      border-color: transparent;\n",
              "      border-right-color: var(--fill-color);\n",
              "    }\n",
              "    80% {\n",
              "      border-color: transparent;\n",
              "      border-right-color: var(--fill-color);\n",
              "      border-bottom-color: var(--fill-color);\n",
              "    }\n",
              "    90% {\n",
              "      border-color: transparent;\n",
              "      border-bottom-color: var(--fill-color);\n",
              "    }\n",
              "  }\n",
              "</style>\n",
              "\n",
              "  <script>\n",
              "    async function quickchart(key) {\n",
              "      const quickchartButtonEl =\n",
              "        document.querySelector('#' + key + ' button');\n",
              "      quickchartButtonEl.disabled = true;  // To prevent multiple clicks.\n",
              "      quickchartButtonEl.classList.add('colab-df-spinner');\n",
              "      try {\n",
              "        const charts = await google.colab.kernel.invokeFunction(\n",
              "            'suggestCharts', [key], {});\n",
              "      } catch (error) {\n",
              "        console.error('Error during call to suggestCharts:', error);\n",
              "      }\n",
              "      quickchartButtonEl.classList.remove('colab-df-spinner');\n",
              "      quickchartButtonEl.classList.add('colab-df-quickchart-complete');\n",
              "    }\n",
              "    (() => {\n",
              "      let quickchartButtonEl =\n",
              "        document.querySelector('#df-77fe1ea7-178b-4ea6-9c68-b94ef23df30c button');\n",
              "      quickchartButtonEl.style.display =\n",
              "        google.colab.kernel.accessAllowed ? 'block' : 'none';\n",
              "    })();\n",
              "  </script>\n",
              "</div>\n",
              "\n",
              "  <div id=\"id_66ff5ece-373c-414b-8474-009ad708f4db\">\n",
              "    <style>\n",
              "      .colab-df-generate {\n",
              "        background-color: #E8F0FE;\n",
              "        border: none;\n",
              "        border-radius: 50%;\n",
              "        cursor: pointer;\n",
              "        display: none;\n",
              "        fill: #1967D2;\n",
              "        height: 32px;\n",
              "        padding: 0 0 0 0;\n",
              "        width: 32px;\n",
              "      }\n",
              "\n",
              "      .colab-df-generate:hover {\n",
              "        background-color: #E2EBFA;\n",
              "        box-shadow: 0px 1px 2px rgba(60, 64, 67, 0.3), 0px 1px 3px 1px rgba(60, 64, 67, 0.15);\n",
              "        fill: #174EA6;\n",
              "      }\n",
              "\n",
              "      [theme=dark] .colab-df-generate {\n",
              "        background-color: #3B4455;\n",
              "        fill: #D2E3FC;\n",
              "      }\n",
              "\n",
              "      [theme=dark] .colab-df-generate:hover {\n",
              "        background-color: #434B5C;\n",
              "        box-shadow: 0px 1px 3px 1px rgba(0, 0, 0, 0.15);\n",
              "        filter: drop-shadow(0px 1px 2px rgba(0, 0, 0, 0.3));\n",
              "        fill: #FFFFFF;\n",
              "      }\n",
              "    </style>\n",
              "    <button class=\"colab-df-generate\" onclick=\"generateWithVariable('std_results')\"\n",
              "            title=\"Generate code using this dataframe.\"\n",
              "            style=\"display:none;\">\n",
              "\n",
              "  <svg xmlns=\"http://www.w3.org/2000/svg\" height=\"24px\"viewBox=\"0 0 24 24\"\n",
              "       width=\"24px\">\n",
              "    <path d=\"M7,19H8.4L18.45,9,17,7.55,7,17.6ZM5,21V16.75L18.45,3.32a2,2,0,0,1,2.83,0l1.4,1.43a1.91,1.91,0,0,1,.58,1.4,1.91,1.91,0,0,1-.58,1.4L9.25,21ZM18.45,9,17,7.55Zm-12,3A5.31,5.31,0,0,0,4.9,8.1,5.31,5.31,0,0,0,1,6.5,5.31,5.31,0,0,0,4.9,4.9,5.31,5.31,0,0,0,6.5,1,5.31,5.31,0,0,0,8.1,4.9,5.31,5.31,0,0,0,12,6.5,5.46,5.46,0,0,0,6.5,12Z\"/>\n",
              "  </svg>\n",
              "    </button>\n",
              "    <script>\n",
              "      (() => {\n",
              "      const buttonEl =\n",
              "        document.querySelector('#id_66ff5ece-373c-414b-8474-009ad708f4db button.colab-df-generate');\n",
              "      buttonEl.style.display =\n",
              "        google.colab.kernel.accessAllowed ? 'block' : 'none';\n",
              "\n",
              "      buttonEl.onclick = () => {\n",
              "        google.colab.notebook.generateWithVariable('std_results');\n",
              "      }\n",
              "      })();\n",
              "    </script>\n",
              "  </div>\n",
              "\n",
              "    </div>\n",
              "  </div>\n"
            ],
            "application/vnd.google.colaboratory.intrinsic+json": {
              "type": "dataframe",
              "variable_name": "std_results",
              "summary": "{\n  \"name\": \"std_results\",\n  \"rows\": 3,\n  \"fields\": [\n    {\n      \"column\": \"Metric\",\n      \"properties\": {\n        \"dtype\": \"string\",\n        \"num_unique_values\": 3,\n        \"samples\": [\n          \"R\\u00b2\",\n          \"MAE\",\n          \"RMSE\"\n        ],\n        \"semantic_type\": \"\",\n        \"description\": \"\"\n      }\n    },\n    {\n      \"column\": \"Linear Regression\",\n      \"properties\": {\n        \"dtype\": \"number\",\n        \"std\": 0.2233280859646705,\n        \"min\": 0.007160149179464323,\n        \"max\": 0.44466006386917806,\n        \"num_unique_values\": 3,\n        \"samples\": [\n          0.007160149179464323,\n          0.30383103071545015,\n          0.44466006386917806\n        ],\n        \"semantic_type\": \"\",\n        \"description\": \"\"\n      }\n    },\n    {\n      \"column\": \"KNN\",\n      \"properties\": {\n        \"dtype\": \"number\",\n        \"std\": 0.22573732071342179,\n        \"min\": 0.008848688799646625,\n        \"max\": 0.44628381684642837,\n        \"num_unique_values\": 3,\n        \"samples\": [\n          0.008848688799646625,\n          0.32431280548329766,\n          0.44628381684642837\n        ],\n        \"semantic_type\": \"\",\n        \"description\": \"\"\n      }\n    },\n    {\n      \"column\": \"XGBoost\",\n      \"properties\": {\n        \"dtype\": \"number\",\n        \"std\": 0.23729303084443232,\n        \"min\": 0.007986633052216807,\n        \"max\": 0.4796452541239952,\n        \"num_unique_values\": 3,\n        \"samples\": [\n          0.007986633052216807,\n          0.2893961623075407,\n          0.4796452541239952\n        ],\n        \"semantic_type\": \"\",\n        \"description\": \"\"\n      }\n    },\n    {\n      \"column\": \"LightGBM\",\n      \"properties\": {\n        \"dtype\": \"number\",\n        \"std\": 0.22067141238387653,\n        \"min\": 0.007465963375602421,\n        \"max\": 0.44480372937897017,\n        \"num_unique_values\": 3,\n        \"samples\": [\n          0.007465963375602421,\n          0.2775096996702385,\n          0.44480372937897017\n        ],\n        \"semantic_type\": \"\",\n        \"description\": \"\"\n      }\n    },\n    {\n      \"column\": \"HistGB\",\n      \"properties\": {\n        \"dtype\": \"number\",\n        \"std\": 0.22212088220071374,\n        \"min\": 0.00741872362666444,\n        \"max\": 0.4460162005913773,\n        \"num_unique_values\": 3,\n        \"samples\": [\n          0.00741872362666444,\n          0.2878505041485855,\n          0.4460162005913773\n        ],\n        \"semantic_type\": \"\",\n        \"description\": \"\"\n      }\n    }\n  ]\n}"
            }
          },
          "metadata": {},
          "execution_count": 174
        }
      ]
    },
    {
      "cell_type": "markdown",
      "source": [
        "## **1.3. Visualization of Algorithms Perfomance**\n",
        "\n",
        "- We clearly see in a preliminary analysis a dead heat between _XGBoost_, _LightGBM_ and _HistGradientBoosting_ in all metrics scores;\n",
        "- However, we can already state that the classical and simpler algorithms, such as _Linear Regression_ and _KNN_, don't perform at the same level in this problem;\n",
        "- Therefore, we'll focus only on _XGBoost_, _LightGBM_ and _HistGradientBoosting_ algorithms beyond this point."
      ],
      "metadata": {
        "id": "T4S7YX_K7V0z"
      }
    },
    {
      "cell_type": "code",
      "source": [
        "get_scores = mean_results.query('Metric == \"R²\" | Metric == \"MAE\"')\n",
        "get_scores = get_scores.drop(['Metric'], axis='columns')\n",
        "\n",
        "tested_models = list(mean_results.columns.values)\n",
        "tested_models.remove('Metric')\n",
        "\n",
        "plot_scores = pd.DataFrame()\n",
        "plot_scores['Algorithm'] = tested_models\n",
        "plot_scores['R²'] = get_scores.iloc[0].values\n",
        "plot_scores['MAE'] = get_scores.iloc[1].values"
      ],
      "metadata": {
        "id": "in723KbDuNKV"
      },
      "execution_count": null,
      "outputs": []
    },
    {
      "cell_type": "code",
      "source": [
        "import plotly.express as px\n",
        "\n",
        "fig1 = px.bar(plot_scores, x='Algorithm', y='R²', color='Algorithm', title=\"Average R² with 5-fold CV (Higher is better)\", width=800, height=400)\n",
        "fig1.update_yaxes(range = [0, 1])\n",
        "\n",
        "fig1.show()\n",
        "fig1.write_image(f'{getcwd()}/../plots/r2_per_algorithm.svg')"
      ],
      "metadata": {
        "colab": {
          "base_uri": "https://localhost:8080/",
          "height": 417
        },
        "id": "QB2kcrOZt4-R",
        "outputId": "ae8fa8b7-e1bd-4312-f303-9ac2ce3cd874"
      },
      "execution_count": null,
      "outputs": [
        {
          "output_type": "display_data",
          "data": {
            "text/html": [
              "<html>\n",
              "<head><meta charset=\"utf-8\" /></head>\n",
              "<body>\n",
              "    <div>            <script src=\"https://cdnjs.cloudflare.com/ajax/libs/mathjax/2.7.5/MathJax.js?config=TeX-AMS-MML_SVG\"></script><script type=\"text/javascript\">if (window.MathJax && window.MathJax.Hub && window.MathJax.Hub.Config) {window.MathJax.Hub.Config({SVG: {font: \"STIX-Web\"}});}</script>                <script type=\"text/javascript\">window.PlotlyConfig = {MathJaxConfig: 'local'};</script>\n",
              "        <script charset=\"utf-8\" src=\"https://cdn.plot.ly/plotly-2.24.1.min.js\"></script>                <div id=\"5aba7258-0528-4826-8bf4-8adf61ac9a0c\" class=\"plotly-graph-div\" style=\"height:400px; width:800px;\"></div>            <script type=\"text/javascript\">                                    window.PLOTLYENV=window.PLOTLYENV || {};                                    if (document.getElementById(\"5aba7258-0528-4826-8bf4-8adf61ac9a0c\")) {                    Plotly.newPlot(                        \"5aba7258-0528-4826-8bf4-8adf61ac9a0c\",                        [{\"alignmentgroup\":\"True\",\"hovertemplate\":\"Algorithm=%{x}\\u003cbr\\u003eR\\u00b2=%{y}\\u003cextra\\u003e\\u003c\\u002fextra\\u003e\",\"legendgroup\":\"Linear Regression\",\"marker\":{\"color\":\"#636efa\",\"pattern\":{\"shape\":\"\"}},\"name\":\"Linear Regression\",\"offsetgroup\":\"Linear Regression\",\"orientation\":\"v\",\"showlegend\":true,\"textposition\":\"auto\",\"x\":[\"Linear Regression\"],\"xaxis\":\"x\",\"y\":[0.4810583196734444],\"yaxis\":\"y\",\"type\":\"bar\"},{\"alignmentgroup\":\"True\",\"hovertemplate\":\"Algorithm=%{x}\\u003cbr\\u003eR\\u00b2=%{y}\\u003cextra\\u003e\\u003c\\u002fextra\\u003e\",\"legendgroup\":\"KNN\",\"marker\":{\"color\":\"#EF553B\",\"pattern\":{\"shape\":\"\"}},\"name\":\"KNN\",\"offsetgroup\":\"KNN\",\"orientation\":\"v\",\"showlegend\":true,\"textposition\":\"auto\",\"x\":[\"KNN\"],\"xaxis\":\"x\",\"y\":[0.49083561554275756],\"yaxis\":\"y\",\"type\":\"bar\"},{\"alignmentgroup\":\"True\",\"hovertemplate\":\"Algorithm=%{x}\\u003cbr\\u003eR\\u00b2=%{y}\\u003cextra\\u003e\\u003c\\u002fextra\\u003e\",\"legendgroup\":\"XGBoost\",\"marker\":{\"color\":\"#00cc96\",\"pattern\":{\"shape\":\"\"}},\"name\":\"XGBoost\",\"offsetgroup\":\"XGBoost\",\"orientation\":\"v\",\"showlegend\":true,\"textposition\":\"auto\",\"x\":[\"XGBoost\"],\"xaxis\":\"x\",\"y\":[0.5793189681170624],\"yaxis\":\"y\",\"type\":\"bar\"},{\"alignmentgroup\":\"True\",\"hovertemplate\":\"Algorithm=%{x}\\u003cbr\\u003eR\\u00b2=%{y}\\u003cextra\\u003e\\u003c\\u002fextra\\u003e\",\"legendgroup\":\"LightGBM\",\"marker\":{\"color\":\"#ab63fa\",\"pattern\":{\"shape\":\"\"}},\"name\":\"LightGBM\",\"offsetgroup\":\"LightGBM\",\"orientation\":\"v\",\"showlegend\":true,\"textposition\":\"auto\",\"x\":[\"LightGBM\"],\"xaxis\":\"x\",\"y\":[0.5845953247195609],\"yaxis\":\"y\",\"type\":\"bar\"},{\"alignmentgroup\":\"True\",\"hovertemplate\":\"Algorithm=%{x}\\u003cbr\\u003eR\\u00b2=%{y}\\u003cextra\\u003e\\u003c\\u002fextra\\u003e\",\"legendgroup\":\"HistGB\",\"marker\":{\"color\":\"#FFA15A\",\"pattern\":{\"shape\":\"\"}},\"name\":\"HistGB\",\"offsetgroup\":\"HistGB\",\"orientation\":\"v\",\"showlegend\":true,\"textposition\":\"auto\",\"x\":[\"HistGB\"],\"xaxis\":\"x\",\"y\":[0.5836399346192079],\"yaxis\":\"y\",\"type\":\"bar\"}],                        {\"template\":{\"data\":{\"histogram2dcontour\":[{\"type\":\"histogram2dcontour\",\"colorbar\":{\"outlinewidth\":0,\"ticks\":\"\"},\"colorscale\":[[0.0,\"#0d0887\"],[0.1111111111111111,\"#46039f\"],[0.2222222222222222,\"#7201a8\"],[0.3333333333333333,\"#9c179e\"],[0.4444444444444444,\"#bd3786\"],[0.5555555555555556,\"#d8576b\"],[0.6666666666666666,\"#ed7953\"],[0.7777777777777778,\"#fb9f3a\"],[0.8888888888888888,\"#fdca26\"],[1.0,\"#f0f921\"]]}],\"choropleth\":[{\"type\":\"choropleth\",\"colorbar\":{\"outlinewidth\":0,\"ticks\":\"\"}}],\"histogram2d\":[{\"type\":\"histogram2d\",\"colorbar\":{\"outlinewidth\":0,\"ticks\":\"\"},\"colorscale\":[[0.0,\"#0d0887\"],[0.1111111111111111,\"#46039f\"],[0.2222222222222222,\"#7201a8\"],[0.3333333333333333,\"#9c179e\"],[0.4444444444444444,\"#bd3786\"],[0.5555555555555556,\"#d8576b\"],[0.6666666666666666,\"#ed7953\"],[0.7777777777777778,\"#fb9f3a\"],[0.8888888888888888,\"#fdca26\"],[1.0,\"#f0f921\"]]}],\"heatmap\":[{\"type\":\"heatmap\",\"colorbar\":{\"outlinewidth\":0,\"ticks\":\"\"},\"colorscale\":[[0.0,\"#0d0887\"],[0.1111111111111111,\"#46039f\"],[0.2222222222222222,\"#7201a8\"],[0.3333333333333333,\"#9c179e\"],[0.4444444444444444,\"#bd3786\"],[0.5555555555555556,\"#d8576b\"],[0.6666666666666666,\"#ed7953\"],[0.7777777777777778,\"#fb9f3a\"],[0.8888888888888888,\"#fdca26\"],[1.0,\"#f0f921\"]]}],\"heatmapgl\":[{\"type\":\"heatmapgl\",\"colorbar\":{\"outlinewidth\":0,\"ticks\":\"\"},\"colorscale\":[[0.0,\"#0d0887\"],[0.1111111111111111,\"#46039f\"],[0.2222222222222222,\"#7201a8\"],[0.3333333333333333,\"#9c179e\"],[0.4444444444444444,\"#bd3786\"],[0.5555555555555556,\"#d8576b\"],[0.6666666666666666,\"#ed7953\"],[0.7777777777777778,\"#fb9f3a\"],[0.8888888888888888,\"#fdca26\"],[1.0,\"#f0f921\"]]}],\"contourcarpet\":[{\"type\":\"contourcarpet\",\"colorbar\":{\"outlinewidth\":0,\"ticks\":\"\"}}],\"contour\":[{\"type\":\"contour\",\"colorbar\":{\"outlinewidth\":0,\"ticks\":\"\"},\"colorscale\":[[0.0,\"#0d0887\"],[0.1111111111111111,\"#46039f\"],[0.2222222222222222,\"#7201a8\"],[0.3333333333333333,\"#9c179e\"],[0.4444444444444444,\"#bd3786\"],[0.5555555555555556,\"#d8576b\"],[0.6666666666666666,\"#ed7953\"],[0.7777777777777778,\"#fb9f3a\"],[0.8888888888888888,\"#fdca26\"],[1.0,\"#f0f921\"]]}],\"surface\":[{\"type\":\"surface\",\"colorbar\":{\"outlinewidth\":0,\"ticks\":\"\"},\"colorscale\":[[0.0,\"#0d0887\"],[0.1111111111111111,\"#46039f\"],[0.2222222222222222,\"#7201a8\"],[0.3333333333333333,\"#9c179e\"],[0.4444444444444444,\"#bd3786\"],[0.5555555555555556,\"#d8576b\"],[0.6666666666666666,\"#ed7953\"],[0.7777777777777778,\"#fb9f3a\"],[0.8888888888888888,\"#fdca26\"],[1.0,\"#f0f921\"]]}],\"mesh3d\":[{\"type\":\"mesh3d\",\"colorbar\":{\"outlinewidth\":0,\"ticks\":\"\"}}],\"scatter\":[{\"fillpattern\":{\"fillmode\":\"overlay\",\"size\":10,\"solidity\":0.2},\"type\":\"scatter\"}],\"parcoords\":[{\"type\":\"parcoords\",\"line\":{\"colorbar\":{\"outlinewidth\":0,\"ticks\":\"\"}}}],\"scatterpolargl\":[{\"type\":\"scatterpolargl\",\"marker\":{\"colorbar\":{\"outlinewidth\":0,\"ticks\":\"\"}}}],\"bar\":[{\"error_x\":{\"color\":\"#2a3f5f\"},\"error_y\":{\"color\":\"#2a3f5f\"},\"marker\":{\"line\":{\"color\":\"#E5ECF6\",\"width\":0.5},\"pattern\":{\"fillmode\":\"overlay\",\"size\":10,\"solidity\":0.2}},\"type\":\"bar\"}],\"scattergeo\":[{\"type\":\"scattergeo\",\"marker\":{\"colorbar\":{\"outlinewidth\":0,\"ticks\":\"\"}}}],\"scatterpolar\":[{\"type\":\"scatterpolar\",\"marker\":{\"colorbar\":{\"outlinewidth\":0,\"ticks\":\"\"}}}],\"histogram\":[{\"marker\":{\"pattern\":{\"fillmode\":\"overlay\",\"size\":10,\"solidity\":0.2}},\"type\":\"histogram\"}],\"scattergl\":[{\"type\":\"scattergl\",\"marker\":{\"colorbar\":{\"outlinewidth\":0,\"ticks\":\"\"}}}],\"scatter3d\":[{\"type\":\"scatter3d\",\"line\":{\"colorbar\":{\"outlinewidth\":0,\"ticks\":\"\"}},\"marker\":{\"colorbar\":{\"outlinewidth\":0,\"ticks\":\"\"}}}],\"scattermapbox\":[{\"type\":\"scattermapbox\",\"marker\":{\"colorbar\":{\"outlinewidth\":0,\"ticks\":\"\"}}}],\"scatterternary\":[{\"type\":\"scatterternary\",\"marker\":{\"colorbar\":{\"outlinewidth\":0,\"ticks\":\"\"}}}],\"scattercarpet\":[{\"type\":\"scattercarpet\",\"marker\":{\"colorbar\":{\"outlinewidth\":0,\"ticks\":\"\"}}}],\"carpet\":[{\"aaxis\":{\"endlinecolor\":\"#2a3f5f\",\"gridcolor\":\"white\",\"linecolor\":\"white\",\"minorgridcolor\":\"white\",\"startlinecolor\":\"#2a3f5f\"},\"baxis\":{\"endlinecolor\":\"#2a3f5f\",\"gridcolor\":\"white\",\"linecolor\":\"white\",\"minorgridcolor\":\"white\",\"startlinecolor\":\"#2a3f5f\"},\"type\":\"carpet\"}],\"table\":[{\"cells\":{\"fill\":{\"color\":\"#EBF0F8\"},\"line\":{\"color\":\"white\"}},\"header\":{\"fill\":{\"color\":\"#C8D4E3\"},\"line\":{\"color\":\"white\"}},\"type\":\"table\"}],\"barpolar\":[{\"marker\":{\"line\":{\"color\":\"#E5ECF6\",\"width\":0.5},\"pattern\":{\"fillmode\":\"overlay\",\"size\":10,\"solidity\":0.2}},\"type\":\"barpolar\"}],\"pie\":[{\"automargin\":true,\"type\":\"pie\"}]},\"layout\":{\"autotypenumbers\":\"strict\",\"colorway\":[\"#636efa\",\"#EF553B\",\"#00cc96\",\"#ab63fa\",\"#FFA15A\",\"#19d3f3\",\"#FF6692\",\"#B6E880\",\"#FF97FF\",\"#FECB52\"],\"font\":{\"color\":\"#2a3f5f\"},\"hovermode\":\"closest\",\"hoverlabel\":{\"align\":\"left\"},\"paper_bgcolor\":\"white\",\"plot_bgcolor\":\"#E5ECF6\",\"polar\":{\"bgcolor\":\"#E5ECF6\",\"angularaxis\":{\"gridcolor\":\"white\",\"linecolor\":\"white\",\"ticks\":\"\"},\"radialaxis\":{\"gridcolor\":\"white\",\"linecolor\":\"white\",\"ticks\":\"\"}},\"ternary\":{\"bgcolor\":\"#E5ECF6\",\"aaxis\":{\"gridcolor\":\"white\",\"linecolor\":\"white\",\"ticks\":\"\"},\"baxis\":{\"gridcolor\":\"white\",\"linecolor\":\"white\",\"ticks\":\"\"},\"caxis\":{\"gridcolor\":\"white\",\"linecolor\":\"white\",\"ticks\":\"\"}},\"coloraxis\":{\"colorbar\":{\"outlinewidth\":0,\"ticks\":\"\"}},\"colorscale\":{\"sequential\":[[0.0,\"#0d0887\"],[0.1111111111111111,\"#46039f\"],[0.2222222222222222,\"#7201a8\"],[0.3333333333333333,\"#9c179e\"],[0.4444444444444444,\"#bd3786\"],[0.5555555555555556,\"#d8576b\"],[0.6666666666666666,\"#ed7953\"],[0.7777777777777778,\"#fb9f3a\"],[0.8888888888888888,\"#fdca26\"],[1.0,\"#f0f921\"]],\"sequentialminus\":[[0.0,\"#0d0887\"],[0.1111111111111111,\"#46039f\"],[0.2222222222222222,\"#7201a8\"],[0.3333333333333333,\"#9c179e\"],[0.4444444444444444,\"#bd3786\"],[0.5555555555555556,\"#d8576b\"],[0.6666666666666666,\"#ed7953\"],[0.7777777777777778,\"#fb9f3a\"],[0.8888888888888888,\"#fdca26\"],[1.0,\"#f0f921\"]],\"diverging\":[[0,\"#8e0152\"],[0.1,\"#c51b7d\"],[0.2,\"#de77ae\"],[0.3,\"#f1b6da\"],[0.4,\"#fde0ef\"],[0.5,\"#f7f7f7\"],[0.6,\"#e6f5d0\"],[0.7,\"#b8e186\"],[0.8,\"#7fbc41\"],[0.9,\"#4d9221\"],[1,\"#276419\"]]},\"xaxis\":{\"gridcolor\":\"white\",\"linecolor\":\"white\",\"ticks\":\"\",\"title\":{\"standoff\":15},\"zerolinecolor\":\"white\",\"automargin\":true,\"zerolinewidth\":2},\"yaxis\":{\"gridcolor\":\"white\",\"linecolor\":\"white\",\"ticks\":\"\",\"title\":{\"standoff\":15},\"zerolinecolor\":\"white\",\"automargin\":true,\"zerolinewidth\":2},\"scene\":{\"xaxis\":{\"backgroundcolor\":\"#E5ECF6\",\"gridcolor\":\"white\",\"linecolor\":\"white\",\"showbackground\":true,\"ticks\":\"\",\"zerolinecolor\":\"white\",\"gridwidth\":2},\"yaxis\":{\"backgroundcolor\":\"#E5ECF6\",\"gridcolor\":\"white\",\"linecolor\":\"white\",\"showbackground\":true,\"ticks\":\"\",\"zerolinecolor\":\"white\",\"gridwidth\":2},\"zaxis\":{\"backgroundcolor\":\"#E5ECF6\",\"gridcolor\":\"white\",\"linecolor\":\"white\",\"showbackground\":true,\"ticks\":\"\",\"zerolinecolor\":\"white\",\"gridwidth\":2}},\"shapedefaults\":{\"line\":{\"color\":\"#2a3f5f\"}},\"annotationdefaults\":{\"arrowcolor\":\"#2a3f5f\",\"arrowhead\":0,\"arrowwidth\":1},\"geo\":{\"bgcolor\":\"white\",\"landcolor\":\"#E5ECF6\",\"subunitcolor\":\"white\",\"showland\":true,\"showlakes\":true,\"lakecolor\":\"white\"},\"title\":{\"x\":0.05},\"mapbox\":{\"style\":\"light\"}}},\"xaxis\":{\"anchor\":\"y\",\"domain\":[0.0,1.0],\"title\":{\"text\":\"Algorithm\"},\"categoryorder\":\"array\",\"categoryarray\":[\"Linear Regression\",\"KNN\",\"XGBoost\",\"LightGBM\",\"HistGB\"]},\"yaxis\":{\"anchor\":\"x\",\"domain\":[0.0,1.0],\"title\":{\"text\":\"R\\u00b2\"},\"range\":[0,1]},\"legend\":{\"title\":{\"text\":\"Algorithm\"},\"tracegroupgap\":0},\"title\":{\"text\":\"Average R\\u00b2 with 5-fold CV (Higher is better)\"},\"barmode\":\"relative\",\"height\":400,\"width\":800},                        {\"responsive\": true}                    ).then(function(){\n",
              "                            \n",
              "var gd = document.getElementById('5aba7258-0528-4826-8bf4-8adf61ac9a0c');\n",
              "var x = new MutationObserver(function (mutations, observer) {{\n",
              "        var display = window.getComputedStyle(gd).display;\n",
              "        if (!display || display === 'none') {{\n",
              "            console.log([gd, 'removed!']);\n",
              "            Plotly.purge(gd);\n",
              "            observer.disconnect();\n",
              "        }}\n",
              "}});\n",
              "\n",
              "// Listen for the removal of the full notebook cells\n",
              "var notebookContainer = gd.closest('#notebook-container');\n",
              "if (notebookContainer) {{\n",
              "    x.observe(notebookContainer, {childList: true});\n",
              "}}\n",
              "\n",
              "// Listen for the clearing of the current output cell\n",
              "var outputEl = gd.closest('.output');\n",
              "if (outputEl) {{\n",
              "    x.observe(outputEl, {childList: true});\n",
              "}}\n",
              "\n",
              "                        })                };                            </script>        </div>\n",
              "</body>\n",
              "</html>"
            ]
          },
          "metadata": {}
        }
      ]
    },
    {
      "cell_type": "code",
      "source": [
        "fig2 = px.bar(plot_scores, x='Algorithm', y='MAE', color='Algorithm', title=\"Average MAE with 5-fold CV (Lower is better)\", width=800, height=400)\n",
        "fig2.show()\n",
        "fig2.write_image(f'{getcwd()}/../plots/mae_per_algorithm.svg')"
      ],
      "metadata": {
        "colab": {
          "base_uri": "https://localhost:8080/",
          "height": 417
        },
        "id": "M4xhnF8v6njY",
        "outputId": "c55ebbf8-b8f7-4212-f58e-8fcefd43a8ab"
      },
      "execution_count": null,
      "outputs": [
        {
          "output_type": "display_data",
          "data": {
            "text/html": [
              "<html>\n",
              "<head><meta charset=\"utf-8\" /></head>\n",
              "<body>\n",
              "    <div>            <script src=\"https://cdnjs.cloudflare.com/ajax/libs/mathjax/2.7.5/MathJax.js?config=TeX-AMS-MML_SVG\"></script><script type=\"text/javascript\">if (window.MathJax && window.MathJax.Hub && window.MathJax.Hub.Config) {window.MathJax.Hub.Config({SVG: {font: \"STIX-Web\"}});}</script>                <script type=\"text/javascript\">window.PlotlyConfig = {MathJaxConfig: 'local'};</script>\n",
              "        <script charset=\"utf-8\" src=\"https://cdn.plot.ly/plotly-2.24.1.min.js\"></script>                <div id=\"fed21696-a682-4d0c-9ac5-a82e34632bb1\" class=\"plotly-graph-div\" style=\"height:400px; width:800px;\"></div>            <script type=\"text/javascript\">                                    window.PLOTLYENV=window.PLOTLYENV || {};                                    if (document.getElementById(\"fed21696-a682-4d0c-9ac5-a82e34632bb1\")) {                    Plotly.newPlot(                        \"fed21696-a682-4d0c-9ac5-a82e34632bb1\",                        [{\"alignmentgroup\":\"True\",\"hovertemplate\":\"Algorithm=%{x}\\u003cbr\\u003eMAE=%{y}\\u003cextra\\u003e\\u003c\\u002fextra\\u003e\",\"legendgroup\":\"Linear Regression\",\"marker\":{\"color\":\"#636efa\",\"pattern\":{\"shape\":\"\"}},\"name\":\"Linear Regression\",\"offsetgroup\":\"Linear Regression\",\"orientation\":\"v\",\"showlegend\":true,\"textposition\":\"auto\",\"x\":[\"Linear Regression\"],\"xaxis\":\"x\",\"y\":[36.5458251953125],\"yaxis\":\"y\",\"type\":\"bar\"},{\"alignmentgroup\":\"True\",\"hovertemplate\":\"Algorithm=%{x}\\u003cbr\\u003eMAE=%{y}\\u003cextra\\u003e\\u003c\\u002fextra\\u003e\",\"legendgroup\":\"KNN\",\"marker\":{\"color\":\"#EF553B\",\"pattern\":{\"shape\":\"\"}},\"name\":\"KNN\",\"offsetgroup\":\"KNN\",\"orientation\":\"v\",\"showlegend\":true,\"textposition\":\"auto\",\"x\":[\"KNN\"],\"xaxis\":\"x\",\"y\":[34.868445352266214],\"yaxis\":\"y\",\"type\":\"bar\"},{\"alignmentgroup\":\"True\",\"hovertemplate\":\"Algorithm=%{x}\\u003cbr\\u003eMAE=%{y}\\u003cextra\\u003e\\u003c\\u002fextra\\u003e\",\"legendgroup\":\"XGBoost\",\"marker\":{\"color\":\"#00cc96\",\"pattern\":{\"shape\":\"\"}},\"name\":\"XGBoost\",\"offsetgroup\":\"XGBoost\",\"orientation\":\"v\",\"showlegend\":true,\"textposition\":\"auto\",\"x\":[\"XGBoost\"],\"xaxis\":\"x\",\"y\":[31.778903579711915],\"yaxis\":\"y\",\"type\":\"bar\"},{\"alignmentgroup\":\"True\",\"hovertemplate\":\"Algorithm=%{x}\\u003cbr\\u003eMAE=%{y}\\u003cextra\\u003e\\u003c\\u002fextra\\u003e\",\"legendgroup\":\"LightGBM\",\"marker\":{\"color\":\"#ab63fa\",\"pattern\":{\"shape\":\"\"}},\"name\":\"LightGBM\",\"offsetgroup\":\"LightGBM\",\"orientation\":\"v\",\"showlegend\":true,\"textposition\":\"auto\",\"x\":[\"LightGBM\"],\"xaxis\":\"x\",\"y\":[31.579638664322584],\"yaxis\":\"y\",\"type\":\"bar\"},{\"alignmentgroup\":\"True\",\"hovertemplate\":\"Algorithm=%{x}\\u003cbr\\u003eMAE=%{y}\\u003cextra\\u003e\\u003c\\u002fextra\\u003e\",\"legendgroup\":\"HistGB\",\"marker\":{\"color\":\"#FFA15A\",\"pattern\":{\"shape\":\"\"}},\"name\":\"HistGB\",\"offsetgroup\":\"HistGB\",\"orientation\":\"v\",\"showlegend\":true,\"textposition\":\"auto\",\"x\":[\"HistGB\"],\"xaxis\":\"x\",\"y\":[31.61605592555221],\"yaxis\":\"y\",\"type\":\"bar\"}],                        {\"template\":{\"data\":{\"histogram2dcontour\":[{\"type\":\"histogram2dcontour\",\"colorbar\":{\"outlinewidth\":0,\"ticks\":\"\"},\"colorscale\":[[0.0,\"#0d0887\"],[0.1111111111111111,\"#46039f\"],[0.2222222222222222,\"#7201a8\"],[0.3333333333333333,\"#9c179e\"],[0.4444444444444444,\"#bd3786\"],[0.5555555555555556,\"#d8576b\"],[0.6666666666666666,\"#ed7953\"],[0.7777777777777778,\"#fb9f3a\"],[0.8888888888888888,\"#fdca26\"],[1.0,\"#f0f921\"]]}],\"choropleth\":[{\"type\":\"choropleth\",\"colorbar\":{\"outlinewidth\":0,\"ticks\":\"\"}}],\"histogram2d\":[{\"type\":\"histogram2d\",\"colorbar\":{\"outlinewidth\":0,\"ticks\":\"\"},\"colorscale\":[[0.0,\"#0d0887\"],[0.1111111111111111,\"#46039f\"],[0.2222222222222222,\"#7201a8\"],[0.3333333333333333,\"#9c179e\"],[0.4444444444444444,\"#bd3786\"],[0.5555555555555556,\"#d8576b\"],[0.6666666666666666,\"#ed7953\"],[0.7777777777777778,\"#fb9f3a\"],[0.8888888888888888,\"#fdca26\"],[1.0,\"#f0f921\"]]}],\"heatmap\":[{\"type\":\"heatmap\",\"colorbar\":{\"outlinewidth\":0,\"ticks\":\"\"},\"colorscale\":[[0.0,\"#0d0887\"],[0.1111111111111111,\"#46039f\"],[0.2222222222222222,\"#7201a8\"],[0.3333333333333333,\"#9c179e\"],[0.4444444444444444,\"#bd3786\"],[0.5555555555555556,\"#d8576b\"],[0.6666666666666666,\"#ed7953\"],[0.7777777777777778,\"#fb9f3a\"],[0.8888888888888888,\"#fdca26\"],[1.0,\"#f0f921\"]]}],\"heatmapgl\":[{\"type\":\"heatmapgl\",\"colorbar\":{\"outlinewidth\":0,\"ticks\":\"\"},\"colorscale\":[[0.0,\"#0d0887\"],[0.1111111111111111,\"#46039f\"],[0.2222222222222222,\"#7201a8\"],[0.3333333333333333,\"#9c179e\"],[0.4444444444444444,\"#bd3786\"],[0.5555555555555556,\"#d8576b\"],[0.6666666666666666,\"#ed7953\"],[0.7777777777777778,\"#fb9f3a\"],[0.8888888888888888,\"#fdca26\"],[1.0,\"#f0f921\"]]}],\"contourcarpet\":[{\"type\":\"contourcarpet\",\"colorbar\":{\"outlinewidth\":0,\"ticks\":\"\"}}],\"contour\":[{\"type\":\"contour\",\"colorbar\":{\"outlinewidth\":0,\"ticks\":\"\"},\"colorscale\":[[0.0,\"#0d0887\"],[0.1111111111111111,\"#46039f\"],[0.2222222222222222,\"#7201a8\"],[0.3333333333333333,\"#9c179e\"],[0.4444444444444444,\"#bd3786\"],[0.5555555555555556,\"#d8576b\"],[0.6666666666666666,\"#ed7953\"],[0.7777777777777778,\"#fb9f3a\"],[0.8888888888888888,\"#fdca26\"],[1.0,\"#f0f921\"]]}],\"surface\":[{\"type\":\"surface\",\"colorbar\":{\"outlinewidth\":0,\"ticks\":\"\"},\"colorscale\":[[0.0,\"#0d0887\"],[0.1111111111111111,\"#46039f\"],[0.2222222222222222,\"#7201a8\"],[0.3333333333333333,\"#9c179e\"],[0.4444444444444444,\"#bd3786\"],[0.5555555555555556,\"#d8576b\"],[0.6666666666666666,\"#ed7953\"],[0.7777777777777778,\"#fb9f3a\"],[0.8888888888888888,\"#fdca26\"],[1.0,\"#f0f921\"]]}],\"mesh3d\":[{\"type\":\"mesh3d\",\"colorbar\":{\"outlinewidth\":0,\"ticks\":\"\"}}],\"scatter\":[{\"fillpattern\":{\"fillmode\":\"overlay\",\"size\":10,\"solidity\":0.2},\"type\":\"scatter\"}],\"parcoords\":[{\"type\":\"parcoords\",\"line\":{\"colorbar\":{\"outlinewidth\":0,\"ticks\":\"\"}}}],\"scatterpolargl\":[{\"type\":\"scatterpolargl\",\"marker\":{\"colorbar\":{\"outlinewidth\":0,\"ticks\":\"\"}}}],\"bar\":[{\"error_x\":{\"color\":\"#2a3f5f\"},\"error_y\":{\"color\":\"#2a3f5f\"},\"marker\":{\"line\":{\"color\":\"#E5ECF6\",\"width\":0.5},\"pattern\":{\"fillmode\":\"overlay\",\"size\":10,\"solidity\":0.2}},\"type\":\"bar\"}],\"scattergeo\":[{\"type\":\"scattergeo\",\"marker\":{\"colorbar\":{\"outlinewidth\":0,\"ticks\":\"\"}}}],\"scatterpolar\":[{\"type\":\"scatterpolar\",\"marker\":{\"colorbar\":{\"outlinewidth\":0,\"ticks\":\"\"}}}],\"histogram\":[{\"marker\":{\"pattern\":{\"fillmode\":\"overlay\",\"size\":10,\"solidity\":0.2}},\"type\":\"histogram\"}],\"scattergl\":[{\"type\":\"scattergl\",\"marker\":{\"colorbar\":{\"outlinewidth\":0,\"ticks\":\"\"}}}],\"scatter3d\":[{\"type\":\"scatter3d\",\"line\":{\"colorbar\":{\"outlinewidth\":0,\"ticks\":\"\"}},\"marker\":{\"colorbar\":{\"outlinewidth\":0,\"ticks\":\"\"}}}],\"scattermapbox\":[{\"type\":\"scattermapbox\",\"marker\":{\"colorbar\":{\"outlinewidth\":0,\"ticks\":\"\"}}}],\"scatterternary\":[{\"type\":\"scatterternary\",\"marker\":{\"colorbar\":{\"outlinewidth\":0,\"ticks\":\"\"}}}],\"scattercarpet\":[{\"type\":\"scattercarpet\",\"marker\":{\"colorbar\":{\"outlinewidth\":0,\"ticks\":\"\"}}}],\"carpet\":[{\"aaxis\":{\"endlinecolor\":\"#2a3f5f\",\"gridcolor\":\"white\",\"linecolor\":\"white\",\"minorgridcolor\":\"white\",\"startlinecolor\":\"#2a3f5f\"},\"baxis\":{\"endlinecolor\":\"#2a3f5f\",\"gridcolor\":\"white\",\"linecolor\":\"white\",\"minorgridcolor\":\"white\",\"startlinecolor\":\"#2a3f5f\"},\"type\":\"carpet\"}],\"table\":[{\"cells\":{\"fill\":{\"color\":\"#EBF0F8\"},\"line\":{\"color\":\"white\"}},\"header\":{\"fill\":{\"color\":\"#C8D4E3\"},\"line\":{\"color\":\"white\"}},\"type\":\"table\"}],\"barpolar\":[{\"marker\":{\"line\":{\"color\":\"#E5ECF6\",\"width\":0.5},\"pattern\":{\"fillmode\":\"overlay\",\"size\":10,\"solidity\":0.2}},\"type\":\"barpolar\"}],\"pie\":[{\"automargin\":true,\"type\":\"pie\"}]},\"layout\":{\"autotypenumbers\":\"strict\",\"colorway\":[\"#636efa\",\"#EF553B\",\"#00cc96\",\"#ab63fa\",\"#FFA15A\",\"#19d3f3\",\"#FF6692\",\"#B6E880\",\"#FF97FF\",\"#FECB52\"],\"font\":{\"color\":\"#2a3f5f\"},\"hovermode\":\"closest\",\"hoverlabel\":{\"align\":\"left\"},\"paper_bgcolor\":\"white\",\"plot_bgcolor\":\"#E5ECF6\",\"polar\":{\"bgcolor\":\"#E5ECF6\",\"angularaxis\":{\"gridcolor\":\"white\",\"linecolor\":\"white\",\"ticks\":\"\"},\"radialaxis\":{\"gridcolor\":\"white\",\"linecolor\":\"white\",\"ticks\":\"\"}},\"ternary\":{\"bgcolor\":\"#E5ECF6\",\"aaxis\":{\"gridcolor\":\"white\",\"linecolor\":\"white\",\"ticks\":\"\"},\"baxis\":{\"gridcolor\":\"white\",\"linecolor\":\"white\",\"ticks\":\"\"},\"caxis\":{\"gridcolor\":\"white\",\"linecolor\":\"white\",\"ticks\":\"\"}},\"coloraxis\":{\"colorbar\":{\"outlinewidth\":0,\"ticks\":\"\"}},\"colorscale\":{\"sequential\":[[0.0,\"#0d0887\"],[0.1111111111111111,\"#46039f\"],[0.2222222222222222,\"#7201a8\"],[0.3333333333333333,\"#9c179e\"],[0.4444444444444444,\"#bd3786\"],[0.5555555555555556,\"#d8576b\"],[0.6666666666666666,\"#ed7953\"],[0.7777777777777778,\"#fb9f3a\"],[0.8888888888888888,\"#fdca26\"],[1.0,\"#f0f921\"]],\"sequentialminus\":[[0.0,\"#0d0887\"],[0.1111111111111111,\"#46039f\"],[0.2222222222222222,\"#7201a8\"],[0.3333333333333333,\"#9c179e\"],[0.4444444444444444,\"#bd3786\"],[0.5555555555555556,\"#d8576b\"],[0.6666666666666666,\"#ed7953\"],[0.7777777777777778,\"#fb9f3a\"],[0.8888888888888888,\"#fdca26\"],[1.0,\"#f0f921\"]],\"diverging\":[[0,\"#8e0152\"],[0.1,\"#c51b7d\"],[0.2,\"#de77ae\"],[0.3,\"#f1b6da\"],[0.4,\"#fde0ef\"],[0.5,\"#f7f7f7\"],[0.6,\"#e6f5d0\"],[0.7,\"#b8e186\"],[0.8,\"#7fbc41\"],[0.9,\"#4d9221\"],[1,\"#276419\"]]},\"xaxis\":{\"gridcolor\":\"white\",\"linecolor\":\"white\",\"ticks\":\"\",\"title\":{\"standoff\":15},\"zerolinecolor\":\"white\",\"automargin\":true,\"zerolinewidth\":2},\"yaxis\":{\"gridcolor\":\"white\",\"linecolor\":\"white\",\"ticks\":\"\",\"title\":{\"standoff\":15},\"zerolinecolor\":\"white\",\"automargin\":true,\"zerolinewidth\":2},\"scene\":{\"xaxis\":{\"backgroundcolor\":\"#E5ECF6\",\"gridcolor\":\"white\",\"linecolor\":\"white\",\"showbackground\":true,\"ticks\":\"\",\"zerolinecolor\":\"white\",\"gridwidth\":2},\"yaxis\":{\"backgroundcolor\":\"#E5ECF6\",\"gridcolor\":\"white\",\"linecolor\":\"white\",\"showbackground\":true,\"ticks\":\"\",\"zerolinecolor\":\"white\",\"gridwidth\":2},\"zaxis\":{\"backgroundcolor\":\"#E5ECF6\",\"gridcolor\":\"white\",\"linecolor\":\"white\",\"showbackground\":true,\"ticks\":\"\",\"zerolinecolor\":\"white\",\"gridwidth\":2}},\"shapedefaults\":{\"line\":{\"color\":\"#2a3f5f\"}},\"annotationdefaults\":{\"arrowcolor\":\"#2a3f5f\",\"arrowhead\":0,\"arrowwidth\":1},\"geo\":{\"bgcolor\":\"white\",\"landcolor\":\"#E5ECF6\",\"subunitcolor\":\"white\",\"showland\":true,\"showlakes\":true,\"lakecolor\":\"white\"},\"title\":{\"x\":0.05},\"mapbox\":{\"style\":\"light\"}}},\"xaxis\":{\"anchor\":\"y\",\"domain\":[0.0,1.0],\"title\":{\"text\":\"Algorithm\"},\"categoryorder\":\"array\",\"categoryarray\":[\"Linear Regression\",\"KNN\",\"XGBoost\",\"LightGBM\",\"HistGB\"]},\"yaxis\":{\"anchor\":\"x\",\"domain\":[0.0,1.0],\"title\":{\"text\":\"MAE\"}},\"legend\":{\"title\":{\"text\":\"Algorithm\"},\"tracegroupgap\":0},\"title\":{\"text\":\"Average MAE with 5-fold CV (Lower is better)\"},\"barmode\":\"relative\",\"height\":400,\"width\":800},                        {\"responsive\": true}                    ).then(function(){\n",
              "                            \n",
              "var gd = document.getElementById('fed21696-a682-4d0c-9ac5-a82e34632bb1');\n",
              "var x = new MutationObserver(function (mutations, observer) {{\n",
              "        var display = window.getComputedStyle(gd).display;\n",
              "        if (!display || display === 'none') {{\n",
              "            console.log([gd, 'removed!']);\n",
              "            Plotly.purge(gd);\n",
              "            observer.disconnect();\n",
              "        }}\n",
              "}});\n",
              "\n",
              "// Listen for the removal of the full notebook cells\n",
              "var notebookContainer = gd.closest('#notebook-container');\n",
              "if (notebookContainer) {{\n",
              "    x.observe(notebookContainer, {childList: true});\n",
              "}}\n",
              "\n",
              "// Listen for the clearing of the current output cell\n",
              "var outputEl = gd.closest('.output');\n",
              "if (outputEl) {{\n",
              "    x.observe(outputEl, {childList: true});\n",
              "}}\n",
              "\n",
              "                        })                };                            </script>        </div>\n",
              "</body>\n",
              "</html>"
            ]
          },
          "metadata": {}
        }
      ]
    },
    {
      "cell_type": "markdown",
      "source": [
        "# **2. Basic Fine Tuning with Few Parameters**\n",
        "\n",
        "- _Disclaimer_: Each of these algorithms can take several minutes to tune."
      ],
      "metadata": {
        "id": "fMxsqRACoQ-m"
      }
    },
    {
      "cell_type": "code",
      "source": [
        "import numpy as np\n",
        "import json\n",
        "from sklearn.model_selection import GridSearchCV\n",
        "from sklearn import set_config\n",
        "\n",
        "\n",
        "set_config(display='diagram')\n",
        "\n",
        "\n",
        "# COMPUTATIONALLY EXPENSIVE\n",
        "def fine_tuning(attributes: pd.DataFrame, classes: pd.DataFrame,\n",
        "                regressor: any, param_grid: list, alg_name: str) -> any:\n",
        "\n",
        "    grid_search = GridSearchCV(estimator=regressor,\n",
        "                               param_grid=param_grid,\n",
        "                               scoring='r2',\n",
        "                               n_jobs=-1,\n",
        "                               cv=5,\n",
        "                               verbose=0)\n",
        "    grid_search.fit(attributes, classes)\n",
        "\n",
        "    best_params = dict()\n",
        "    best_params[alg_name] = grid_search.best_params_\n",
        "\n",
        "    with open(f'{getcwd()}/../models/{alg_name}_best_params.json', 'w') as file:\n",
        "        dump_file = json.dumps(best_params, indent=4)\n",
        "        file.write(dump_file)\n",
        "\n",
        "    print(f'{alg_name} best hyperparameters: {grid_search.best_params_}\\n')\n",
        "    return grid_search.best_estimator_"
      ],
      "metadata": {
        "id": "k4_3EvMyoZy7"
      },
      "execution_count": null,
      "outputs": []
    },
    {
      "cell_type": "markdown",
      "source": [
        "## **2.1. LightGBM Fine Tuning**"
      ],
      "metadata": {
        "id": "0egKLnhzFQkj"
      }
    },
    {
      "cell_type": "code",
      "source": [
        "lgbm_param_grid = [{\n",
        "    'regressor__n_estimators': [n for n in range(50, 351, 100)],\n",
        "    'regressor__max_depth': [d for d in range(3, 19, 3)],\n",
        "    'regressor__learning_rate': [r for r in np.arange(0.01, 0.52, 0.1)]\n",
        "}]\n",
        "\n",
        "lgbm_diagram = fine_tuning(attributes=model_features, classes=model_classes,\n",
        "            regressor=lgbm_pipeline, param_grid=lgbm_param_grid, alg_name='lgbm')\n",
        "lgbm_diagram"
      ],
      "metadata": {
        "colab": {
          "base_uri": "https://localhost:8080/",
          "height": 201
        },
        "id": "hPBtqwsesfoT",
        "outputId": "d4917b81-a15c-4eb6-d0a6-7fe24cc6e77b"
      },
      "execution_count": null,
      "outputs": [
        {
          "output_type": "stream",
          "name": "stdout",
          "text": [
            "lgbm best hyperparameters: {'regressor__learning_rate': 0.11, 'regressor__max_depth': 9, 'regressor__n_estimators': 150}\n",
            "\n"
          ]
        },
        {
          "output_type": "execute_result",
          "data": {
            "text/plain": [
              "Pipeline(memory=Memory(location=/tmp/tmpxu95h2z9/joblib),\n",
              "         steps=[('scaler', StandardScaler()),\n",
              "                ('regressor',\n",
              "                 LGBMRegressor(learning_rate=0.11, max_depth=9,\n",
              "                               n_estimators=150, n_jobs=-1, verbose=-1))])"
            ],
            "text/html": [
              "<style>#sk-container-id-4 {color: black;background-color: white;}#sk-container-id-4 pre{padding: 0;}#sk-container-id-4 div.sk-toggleable {background-color: white;}#sk-container-id-4 label.sk-toggleable__label {cursor: pointer;display: block;width: 100%;margin-bottom: 0;padding: 0.3em;box-sizing: border-box;text-align: center;}#sk-container-id-4 label.sk-toggleable__label-arrow:before {content: \"▸\";float: left;margin-right: 0.25em;color: #696969;}#sk-container-id-4 label.sk-toggleable__label-arrow:hover:before {color: black;}#sk-container-id-4 div.sk-estimator:hover label.sk-toggleable__label-arrow:before {color: black;}#sk-container-id-4 div.sk-toggleable__content {max-height: 0;max-width: 0;overflow: hidden;text-align: left;background-color: #f0f8ff;}#sk-container-id-4 div.sk-toggleable__content pre {margin: 0.2em;color: black;border-radius: 0.25em;background-color: #f0f8ff;}#sk-container-id-4 input.sk-toggleable__control:checked~div.sk-toggleable__content {max-height: 200px;max-width: 100%;overflow: auto;}#sk-container-id-4 input.sk-toggleable__control:checked~label.sk-toggleable__label-arrow:before {content: \"▾\";}#sk-container-id-4 div.sk-estimator input.sk-toggleable__control:checked~label.sk-toggleable__label {background-color: #d4ebff;}#sk-container-id-4 div.sk-label input.sk-toggleable__control:checked~label.sk-toggleable__label {background-color: #d4ebff;}#sk-container-id-4 input.sk-hidden--visually {border: 0;clip: rect(1px 1px 1px 1px);clip: rect(1px, 1px, 1px, 1px);height: 1px;margin: -1px;overflow: hidden;padding: 0;position: absolute;width: 1px;}#sk-container-id-4 div.sk-estimator {font-family: monospace;background-color: #f0f8ff;border: 1px dotted black;border-radius: 0.25em;box-sizing: border-box;margin-bottom: 0.5em;}#sk-container-id-4 div.sk-estimator:hover {background-color: #d4ebff;}#sk-container-id-4 div.sk-parallel-item::after {content: \"\";width: 100%;border-bottom: 1px solid gray;flex-grow: 1;}#sk-container-id-4 div.sk-label:hover label.sk-toggleable__label {background-color: #d4ebff;}#sk-container-id-4 div.sk-serial::before {content: \"\";position: absolute;border-left: 1px solid gray;box-sizing: border-box;top: 0;bottom: 0;left: 50%;z-index: 0;}#sk-container-id-4 div.sk-serial {display: flex;flex-direction: column;align-items: center;background-color: white;padding-right: 0.2em;padding-left: 0.2em;position: relative;}#sk-container-id-4 div.sk-item {position: relative;z-index: 1;}#sk-container-id-4 div.sk-parallel {display: flex;align-items: stretch;justify-content: center;background-color: white;position: relative;}#sk-container-id-4 div.sk-item::before, #sk-container-id-4 div.sk-parallel-item::before {content: \"\";position: absolute;border-left: 1px solid gray;box-sizing: border-box;top: 0;bottom: 0;left: 50%;z-index: -1;}#sk-container-id-4 div.sk-parallel-item {display: flex;flex-direction: column;z-index: 1;position: relative;background-color: white;}#sk-container-id-4 div.sk-parallel-item:first-child::after {align-self: flex-end;width: 50%;}#sk-container-id-4 div.sk-parallel-item:last-child::after {align-self: flex-start;width: 50%;}#sk-container-id-4 div.sk-parallel-item:only-child::after {width: 0;}#sk-container-id-4 div.sk-dashed-wrapped {border: 1px dashed gray;margin: 0 0.4em 0.5em 0.4em;box-sizing: border-box;padding-bottom: 0.4em;background-color: white;}#sk-container-id-4 div.sk-label label {font-family: monospace;font-weight: bold;display: inline-block;line-height: 1.2em;}#sk-container-id-4 div.sk-label-container {text-align: center;}#sk-container-id-4 div.sk-container {/* jupyter's `normalize.less` sets `[hidden] { display: none; }` but bootstrap.min.css set `[hidden] { display: none !important; }` so we also need the `!important` here to be able to override the default hidden behavior on the sphinx rendered scikit-learn.org. See: https://github.com/scikit-learn/scikit-learn/issues/21755 */display: inline-block !important;position: relative;}#sk-container-id-4 div.sk-text-repr-fallback {display: none;}</style><div id=\"sk-container-id-4\" class=\"sk-top-container\"><div class=\"sk-text-repr-fallback\"><pre>Pipeline(memory=Memory(location=/tmp/tmpxu95h2z9/joblib),\n",
              "         steps=[(&#x27;scaler&#x27;, StandardScaler()),\n",
              "                (&#x27;regressor&#x27;,\n",
              "                 LGBMRegressor(learning_rate=0.11, max_depth=9,\n",
              "                               n_estimators=150, n_jobs=-1, verbose=-1))])</pre><b>In a Jupyter environment, please rerun this cell to show the HTML representation or trust the notebook. <br />On GitHub, the HTML representation is unable to render, please try loading this page with nbviewer.org.</b></div><div class=\"sk-container\" hidden><div class=\"sk-item sk-dashed-wrapped\"><div class=\"sk-label-container\"><div class=\"sk-label sk-toggleable\"><input class=\"sk-toggleable__control sk-hidden--visually\" id=\"sk-estimator-id-10\" type=\"checkbox\" ><label for=\"sk-estimator-id-10\" class=\"sk-toggleable__label sk-toggleable__label-arrow\">Pipeline</label><div class=\"sk-toggleable__content\"><pre>Pipeline(memory=Memory(location=/tmp/tmpxu95h2z9/joblib),\n",
              "         steps=[(&#x27;scaler&#x27;, StandardScaler()),\n",
              "                (&#x27;regressor&#x27;,\n",
              "                 LGBMRegressor(learning_rate=0.11, max_depth=9,\n",
              "                               n_estimators=150, n_jobs=-1, verbose=-1))])</pre></div></div></div><div class=\"sk-serial\"><div class=\"sk-item\"><div class=\"sk-estimator sk-toggleable\"><input class=\"sk-toggleable__control sk-hidden--visually\" id=\"sk-estimator-id-11\" type=\"checkbox\" ><label for=\"sk-estimator-id-11\" class=\"sk-toggleable__label sk-toggleable__label-arrow\">StandardScaler</label><div class=\"sk-toggleable__content\"><pre>StandardScaler()</pre></div></div></div><div class=\"sk-item\"><div class=\"sk-estimator sk-toggleable\"><input class=\"sk-toggleable__control sk-hidden--visually\" id=\"sk-estimator-id-12\" type=\"checkbox\" ><label for=\"sk-estimator-id-12\" class=\"sk-toggleable__label sk-toggleable__label-arrow\">LGBMRegressor</label><div class=\"sk-toggleable__content\"><pre>LGBMRegressor(learning_rate=0.11, max_depth=9, n_estimators=150, n_jobs=-1,\n",
              "              verbose=-1)</pre></div></div></div></div></div></div></div>"
            ]
          },
          "metadata": {},
          "execution_count": 150
        }
      ]
    },
    {
      "cell_type": "markdown",
      "source": [
        "## **2.2. XGBoost Fine Tuning**\n"
      ],
      "metadata": {
        "id": "MCjIvXJMFXZV"
      }
    },
    {
      "cell_type": "code",
      "source": [
        "xgb_param_grid = [{\n",
        "    'regressor__n_estimators': [n for n in range(50, 351, 100)],\n",
        "    'regressor__max_depth': [d for d in range(3, 19, 3)],\n",
        "    'regressor__learning_rate': [r for r in np.arange(0.01, 0.52, 0.1)]\n",
        "}]\n",
        "\n",
        "xgb_diagram = fine_tuning(attributes=model_features, classes=model_classes,\n",
        "            regressor=xgb_pipeline, param_grid=xgb_param_grid, alg_name='xgb')\n",
        "xgb_diagram"
      ],
      "metadata": {
        "colab": {
          "base_uri": "https://localhost:8080/",
          "height": 358
        },
        "id": "ZOryPUKc9Mq1",
        "outputId": "7e67de80-479c-446d-fbd0-337fd7a1dd9c"
      },
      "execution_count": null,
      "outputs": [
        {
          "output_type": "stream",
          "name": "stdout",
          "text": [
            "xgb best hyperparameters: {'regressor__learning_rate': 0.11, 'regressor__max_depth': 6, 'regressor__n_estimators': 50}\n",
            "\n"
          ]
        },
        {
          "output_type": "execute_result",
          "data": {
            "text/plain": [
              "Pipeline(memory=Memory(location=/tmp/tmpxu95h2z9/joblib),\n",
              "         steps=[('scaler', StandardScaler()),\n",
              "                ('regressor',\n",
              "                 XGBRegressor(base_score=None, booster=None, callbacks=None,\n",
              "                              colsample_bylevel=None, colsample_bynode=None,\n",
              "                              colsample_bytree=None, device=None,\n",
              "                              early_stopping_rounds=None,\n",
              "                              enable_categorical=False, eval_metric=None,\n",
              "                              feature_types=None, gamma=None, grow_policy=None,\n",
              "                              importance_type=None,\n",
              "                              interaction_constraints=None, learning_rate=0.11,\n",
              "                              max_bin=None, max_cat_threshold=None,\n",
              "                              max_cat_to_onehot=None, max_delta_step=None,\n",
              "                              max_depth=6, max_leaves=None,\n",
              "                              min_child_weight=None, missing=nan,\n",
              "                              monotone_constraints=None, multi_strategy=None,\n",
              "                              n_estimators=50, n_jobs=-1,\n",
              "                              num_parallel_tree=None, random_state=None, ...))])"
            ],
            "text/html": [
              "<style>#sk-container-id-5 {color: black;background-color: white;}#sk-container-id-5 pre{padding: 0;}#sk-container-id-5 div.sk-toggleable {background-color: white;}#sk-container-id-5 label.sk-toggleable__label {cursor: pointer;display: block;width: 100%;margin-bottom: 0;padding: 0.3em;box-sizing: border-box;text-align: center;}#sk-container-id-5 label.sk-toggleable__label-arrow:before {content: \"▸\";float: left;margin-right: 0.25em;color: #696969;}#sk-container-id-5 label.sk-toggleable__label-arrow:hover:before {color: black;}#sk-container-id-5 div.sk-estimator:hover label.sk-toggleable__label-arrow:before {color: black;}#sk-container-id-5 div.sk-toggleable__content {max-height: 0;max-width: 0;overflow: hidden;text-align: left;background-color: #f0f8ff;}#sk-container-id-5 div.sk-toggleable__content pre {margin: 0.2em;color: black;border-radius: 0.25em;background-color: #f0f8ff;}#sk-container-id-5 input.sk-toggleable__control:checked~div.sk-toggleable__content {max-height: 200px;max-width: 100%;overflow: auto;}#sk-container-id-5 input.sk-toggleable__control:checked~label.sk-toggleable__label-arrow:before {content: \"▾\";}#sk-container-id-5 div.sk-estimator input.sk-toggleable__control:checked~label.sk-toggleable__label {background-color: #d4ebff;}#sk-container-id-5 div.sk-label input.sk-toggleable__control:checked~label.sk-toggleable__label {background-color: #d4ebff;}#sk-container-id-5 input.sk-hidden--visually {border: 0;clip: rect(1px 1px 1px 1px);clip: rect(1px, 1px, 1px, 1px);height: 1px;margin: -1px;overflow: hidden;padding: 0;position: absolute;width: 1px;}#sk-container-id-5 div.sk-estimator {font-family: monospace;background-color: #f0f8ff;border: 1px dotted black;border-radius: 0.25em;box-sizing: border-box;margin-bottom: 0.5em;}#sk-container-id-5 div.sk-estimator:hover {background-color: #d4ebff;}#sk-container-id-5 div.sk-parallel-item::after {content: \"\";width: 100%;border-bottom: 1px solid gray;flex-grow: 1;}#sk-container-id-5 div.sk-label:hover label.sk-toggleable__label {background-color: #d4ebff;}#sk-container-id-5 div.sk-serial::before {content: \"\";position: absolute;border-left: 1px solid gray;box-sizing: border-box;top: 0;bottom: 0;left: 50%;z-index: 0;}#sk-container-id-5 div.sk-serial {display: flex;flex-direction: column;align-items: center;background-color: white;padding-right: 0.2em;padding-left: 0.2em;position: relative;}#sk-container-id-5 div.sk-item {position: relative;z-index: 1;}#sk-container-id-5 div.sk-parallel {display: flex;align-items: stretch;justify-content: center;background-color: white;position: relative;}#sk-container-id-5 div.sk-item::before, #sk-container-id-5 div.sk-parallel-item::before {content: \"\";position: absolute;border-left: 1px solid gray;box-sizing: border-box;top: 0;bottom: 0;left: 50%;z-index: -1;}#sk-container-id-5 div.sk-parallel-item {display: flex;flex-direction: column;z-index: 1;position: relative;background-color: white;}#sk-container-id-5 div.sk-parallel-item:first-child::after {align-self: flex-end;width: 50%;}#sk-container-id-5 div.sk-parallel-item:last-child::after {align-self: flex-start;width: 50%;}#sk-container-id-5 div.sk-parallel-item:only-child::after {width: 0;}#sk-container-id-5 div.sk-dashed-wrapped {border: 1px dashed gray;margin: 0 0.4em 0.5em 0.4em;box-sizing: border-box;padding-bottom: 0.4em;background-color: white;}#sk-container-id-5 div.sk-label label {font-family: monospace;font-weight: bold;display: inline-block;line-height: 1.2em;}#sk-container-id-5 div.sk-label-container {text-align: center;}#sk-container-id-5 div.sk-container {/* jupyter's `normalize.less` sets `[hidden] { display: none; }` but bootstrap.min.css set `[hidden] { display: none !important; }` so we also need the `!important` here to be able to override the default hidden behavior on the sphinx rendered scikit-learn.org. See: https://github.com/scikit-learn/scikit-learn/issues/21755 */display: inline-block !important;position: relative;}#sk-container-id-5 div.sk-text-repr-fallback {display: none;}</style><div id=\"sk-container-id-5\" class=\"sk-top-container\"><div class=\"sk-text-repr-fallback\"><pre>Pipeline(memory=Memory(location=/tmp/tmpxu95h2z9/joblib),\n",
              "         steps=[(&#x27;scaler&#x27;, StandardScaler()),\n",
              "                (&#x27;regressor&#x27;,\n",
              "                 XGBRegressor(base_score=None, booster=None, callbacks=None,\n",
              "                              colsample_bylevel=None, colsample_bynode=None,\n",
              "                              colsample_bytree=None, device=None,\n",
              "                              early_stopping_rounds=None,\n",
              "                              enable_categorical=False, eval_metric=None,\n",
              "                              feature_types=None, gamma=None, grow_policy=None,\n",
              "                              importance_type=None,\n",
              "                              interaction_constraints=None, learning_rate=0.11,\n",
              "                              max_bin=None, max_cat_threshold=None,\n",
              "                              max_cat_to_onehot=None, max_delta_step=None,\n",
              "                              max_depth=6, max_leaves=None,\n",
              "                              min_child_weight=None, missing=nan,\n",
              "                              monotone_constraints=None, multi_strategy=None,\n",
              "                              n_estimators=50, n_jobs=-1,\n",
              "                              num_parallel_tree=None, random_state=None, ...))])</pre><b>In a Jupyter environment, please rerun this cell to show the HTML representation or trust the notebook. <br />On GitHub, the HTML representation is unable to render, please try loading this page with nbviewer.org.</b></div><div class=\"sk-container\" hidden><div class=\"sk-item sk-dashed-wrapped\"><div class=\"sk-label-container\"><div class=\"sk-label sk-toggleable\"><input class=\"sk-toggleable__control sk-hidden--visually\" id=\"sk-estimator-id-13\" type=\"checkbox\" ><label for=\"sk-estimator-id-13\" class=\"sk-toggleable__label sk-toggleable__label-arrow\">Pipeline</label><div class=\"sk-toggleable__content\"><pre>Pipeline(memory=Memory(location=/tmp/tmpxu95h2z9/joblib),\n",
              "         steps=[(&#x27;scaler&#x27;, StandardScaler()),\n",
              "                (&#x27;regressor&#x27;,\n",
              "                 XGBRegressor(base_score=None, booster=None, callbacks=None,\n",
              "                              colsample_bylevel=None, colsample_bynode=None,\n",
              "                              colsample_bytree=None, device=None,\n",
              "                              early_stopping_rounds=None,\n",
              "                              enable_categorical=False, eval_metric=None,\n",
              "                              feature_types=None, gamma=None, grow_policy=None,\n",
              "                              importance_type=None,\n",
              "                              interaction_constraints=None, learning_rate=0.11,\n",
              "                              max_bin=None, max_cat_threshold=None,\n",
              "                              max_cat_to_onehot=None, max_delta_step=None,\n",
              "                              max_depth=6, max_leaves=None,\n",
              "                              min_child_weight=None, missing=nan,\n",
              "                              monotone_constraints=None, multi_strategy=None,\n",
              "                              n_estimators=50, n_jobs=-1,\n",
              "                              num_parallel_tree=None, random_state=None, ...))])</pre></div></div></div><div class=\"sk-serial\"><div class=\"sk-item\"><div class=\"sk-estimator sk-toggleable\"><input class=\"sk-toggleable__control sk-hidden--visually\" id=\"sk-estimator-id-14\" type=\"checkbox\" ><label for=\"sk-estimator-id-14\" class=\"sk-toggleable__label sk-toggleable__label-arrow\">StandardScaler</label><div class=\"sk-toggleable__content\"><pre>StandardScaler()</pre></div></div></div><div class=\"sk-item\"><div class=\"sk-estimator sk-toggleable\"><input class=\"sk-toggleable__control sk-hidden--visually\" id=\"sk-estimator-id-15\" type=\"checkbox\" ><label for=\"sk-estimator-id-15\" class=\"sk-toggleable__label sk-toggleable__label-arrow\">XGBRegressor</label><div class=\"sk-toggleable__content\"><pre>XGBRegressor(base_score=None, booster=None, callbacks=None,\n",
              "             colsample_bylevel=None, colsample_bynode=None,\n",
              "             colsample_bytree=None, device=None, early_stopping_rounds=None,\n",
              "             enable_categorical=False, eval_metric=None, feature_types=None,\n",
              "             gamma=None, grow_policy=None, importance_type=None,\n",
              "             interaction_constraints=None, learning_rate=0.11, max_bin=None,\n",
              "             max_cat_threshold=None, max_cat_to_onehot=None,\n",
              "             max_delta_step=None, max_depth=6, max_leaves=None,\n",
              "             min_child_weight=None, missing=nan, monotone_constraints=None,\n",
              "             multi_strategy=None, n_estimators=50, n_jobs=-1,\n",
              "             num_parallel_tree=None, random_state=None, ...)</pre></div></div></div></div></div></div></div>"
            ]
          },
          "metadata": {},
          "execution_count": 153
        }
      ]
    },
    {
      "cell_type": "markdown",
      "source": [
        "## **2.3. HistGradientBoosting Fine Tuning**\n"
      ],
      "metadata": {
        "id": "6KE_K-nzFZ1k"
      }
    },
    {
      "cell_type": "code",
      "source": [
        "hist_param_grid = [{\n",
        "    'regressor__max_depth': [d for d in range(3, 19, 3)],\n",
        "    'regressor__learning_rate': [r for r in np.arange(0.01, 0.52, 0.05)]\n",
        "}]\n",
        "\n",
        "hist_diagram = fine_tuning(attributes=model_features, classes=model_classes,\n",
        "            regressor=hist_pipeline, param_grid=hist_param_grid, alg_name='histgb')\n",
        "hist_diagram"
      ],
      "metadata": {
        "colab": {
          "base_uri": "https://localhost:8080/",
          "height": 167
        },
        "id": "Cz2khL4oBmIE",
        "outputId": "32a111eb-fa0d-4a7d-aa15-014b88ed178f"
      },
      "execution_count": null,
      "outputs": [
        {
          "output_type": "stream",
          "name": "stdout",
          "text": [
            "histgb best hyperparameters: {'regressor__learning_rate': 0.11, 'regressor__max_depth': 6}\n"
          ]
        },
        {
          "output_type": "execute_result",
          "data": {
            "text/plain": [
              "Pipeline(memory=Memory(location=/tmp/tmpxu95h2z9/joblib),\n",
              "         steps=[('scaler', StandardScaler()),\n",
              "                ('regressor',\n",
              "                 HistGradientBoostingRegressor(learning_rate=0.11,\n",
              "                                               max_depth=6))])"
            ],
            "text/html": [
              "<style>#sk-container-id-3 {color: black;background-color: white;}#sk-container-id-3 pre{padding: 0;}#sk-container-id-3 div.sk-toggleable {background-color: white;}#sk-container-id-3 label.sk-toggleable__label {cursor: pointer;display: block;width: 100%;margin-bottom: 0;padding: 0.3em;box-sizing: border-box;text-align: center;}#sk-container-id-3 label.sk-toggleable__label-arrow:before {content: \"▸\";float: left;margin-right: 0.25em;color: #696969;}#sk-container-id-3 label.sk-toggleable__label-arrow:hover:before {color: black;}#sk-container-id-3 div.sk-estimator:hover label.sk-toggleable__label-arrow:before {color: black;}#sk-container-id-3 div.sk-toggleable__content {max-height: 0;max-width: 0;overflow: hidden;text-align: left;background-color: #f0f8ff;}#sk-container-id-3 div.sk-toggleable__content pre {margin: 0.2em;color: black;border-radius: 0.25em;background-color: #f0f8ff;}#sk-container-id-3 input.sk-toggleable__control:checked~div.sk-toggleable__content {max-height: 200px;max-width: 100%;overflow: auto;}#sk-container-id-3 input.sk-toggleable__control:checked~label.sk-toggleable__label-arrow:before {content: \"▾\";}#sk-container-id-3 div.sk-estimator input.sk-toggleable__control:checked~label.sk-toggleable__label {background-color: #d4ebff;}#sk-container-id-3 div.sk-label input.sk-toggleable__control:checked~label.sk-toggleable__label {background-color: #d4ebff;}#sk-container-id-3 input.sk-hidden--visually {border: 0;clip: rect(1px 1px 1px 1px);clip: rect(1px, 1px, 1px, 1px);height: 1px;margin: -1px;overflow: hidden;padding: 0;position: absolute;width: 1px;}#sk-container-id-3 div.sk-estimator {font-family: monospace;background-color: #f0f8ff;border: 1px dotted black;border-radius: 0.25em;box-sizing: border-box;margin-bottom: 0.5em;}#sk-container-id-3 div.sk-estimator:hover {background-color: #d4ebff;}#sk-container-id-3 div.sk-parallel-item::after {content: \"\";width: 100%;border-bottom: 1px solid gray;flex-grow: 1;}#sk-container-id-3 div.sk-label:hover label.sk-toggleable__label {background-color: #d4ebff;}#sk-container-id-3 div.sk-serial::before {content: \"\";position: absolute;border-left: 1px solid gray;box-sizing: border-box;top: 0;bottom: 0;left: 50%;z-index: 0;}#sk-container-id-3 div.sk-serial {display: flex;flex-direction: column;align-items: center;background-color: white;padding-right: 0.2em;padding-left: 0.2em;position: relative;}#sk-container-id-3 div.sk-item {position: relative;z-index: 1;}#sk-container-id-3 div.sk-parallel {display: flex;align-items: stretch;justify-content: center;background-color: white;position: relative;}#sk-container-id-3 div.sk-item::before, #sk-container-id-3 div.sk-parallel-item::before {content: \"\";position: absolute;border-left: 1px solid gray;box-sizing: border-box;top: 0;bottom: 0;left: 50%;z-index: -1;}#sk-container-id-3 div.sk-parallel-item {display: flex;flex-direction: column;z-index: 1;position: relative;background-color: white;}#sk-container-id-3 div.sk-parallel-item:first-child::after {align-self: flex-end;width: 50%;}#sk-container-id-3 div.sk-parallel-item:last-child::after {align-self: flex-start;width: 50%;}#sk-container-id-3 div.sk-parallel-item:only-child::after {width: 0;}#sk-container-id-3 div.sk-dashed-wrapped {border: 1px dashed gray;margin: 0 0.4em 0.5em 0.4em;box-sizing: border-box;padding-bottom: 0.4em;background-color: white;}#sk-container-id-3 div.sk-label label {font-family: monospace;font-weight: bold;display: inline-block;line-height: 1.2em;}#sk-container-id-3 div.sk-label-container {text-align: center;}#sk-container-id-3 div.sk-container {/* jupyter's `normalize.less` sets `[hidden] { display: none; }` but bootstrap.min.css set `[hidden] { display: none !important; }` so we also need the `!important` here to be able to override the default hidden behavior on the sphinx rendered scikit-learn.org. See: https://github.com/scikit-learn/scikit-learn/issues/21755 */display: inline-block !important;position: relative;}#sk-container-id-3 div.sk-text-repr-fallback {display: none;}</style><div id=\"sk-container-id-3\" class=\"sk-top-container\"><div class=\"sk-text-repr-fallback\"><pre>Pipeline(memory=Memory(location=/tmp/tmpxu95h2z9/joblib),\n",
              "         steps=[(&#x27;scaler&#x27;, StandardScaler()),\n",
              "                (&#x27;regressor&#x27;,\n",
              "                 HistGradientBoostingRegressor(learning_rate=0.11,\n",
              "                                               max_depth=6))])</pre><b>In a Jupyter environment, please rerun this cell to show the HTML representation or trust the notebook. <br />On GitHub, the HTML representation is unable to render, please try loading this page with nbviewer.org.</b></div><div class=\"sk-container\" hidden><div class=\"sk-item sk-dashed-wrapped\"><div class=\"sk-label-container\"><div class=\"sk-label sk-toggleable\"><input class=\"sk-toggleable__control sk-hidden--visually\" id=\"sk-estimator-id-7\" type=\"checkbox\" ><label for=\"sk-estimator-id-7\" class=\"sk-toggleable__label sk-toggleable__label-arrow\">Pipeline</label><div class=\"sk-toggleable__content\"><pre>Pipeline(memory=Memory(location=/tmp/tmpxu95h2z9/joblib),\n",
              "         steps=[(&#x27;scaler&#x27;, StandardScaler()),\n",
              "                (&#x27;regressor&#x27;,\n",
              "                 HistGradientBoostingRegressor(learning_rate=0.11,\n",
              "                                               max_depth=6))])</pre></div></div></div><div class=\"sk-serial\"><div class=\"sk-item\"><div class=\"sk-estimator sk-toggleable\"><input class=\"sk-toggleable__control sk-hidden--visually\" id=\"sk-estimator-id-8\" type=\"checkbox\" ><label for=\"sk-estimator-id-8\" class=\"sk-toggleable__label sk-toggleable__label-arrow\">StandardScaler</label><div class=\"sk-toggleable__content\"><pre>StandardScaler()</pre></div></div></div><div class=\"sk-item\"><div class=\"sk-estimator sk-toggleable\"><input class=\"sk-toggleable__control sk-hidden--visually\" id=\"sk-estimator-id-9\" type=\"checkbox\" ><label for=\"sk-estimator-id-9\" class=\"sk-toggleable__label sk-toggleable__label-arrow\">HistGradientBoostingRegressor</label><div class=\"sk-toggleable__content\"><pre>HistGradientBoostingRegressor(learning_rate=0.11, max_depth=6)</pre></div></div></div></div></div></div></div>"
            ]
          },
          "metadata": {},
          "execution_count": 148
        }
      ]
    },
    {
      "cell_type": "markdown",
      "source": [
        "## **2.4. Reevaluating Models**\n"
      ],
      "metadata": {
        "id": "63uj_PMmt7Vk"
      }
    },
    {
      "cell_type": "code",
      "source": [
        "scaler = StandardScaler()\n",
        "\n",
        "tuned_lgbm_pipeline = Pipeline(steps=[\n",
        "    ('scaler', scaler),\n",
        "    ('regressor', LGBMRegressor(learning_rate=0.11, max_depth=9,\n",
        "                                n_estimators=150, n_jobs=-1, verbose=-1))\n",
        "    ], memory=memory)\n",
        "\n",
        "tuned_xgb_pipeline = Pipeline(steps=[\n",
        "    ('scaler', scaler),\n",
        "    ('regressor', XGBRegressor(learning_rate=0.11, max_depth=6,\n",
        "                               n_estimators=50, n_jobs=-1))\n",
        "    ], memory=memory)\n",
        "\n",
        "tuned_hist_pipeline = Pipeline(steps=[\n",
        "    ('scaler', scaler),\n",
        "    ('regressor', HistGradientBoostingRegressor(learning_rate=0.11, max_depth=6))\n",
        "    ], memory=memory)\n",
        "\n",
        "tuned_pipelines = {\n",
        "    'XGBoost': tuned_xgb_pipeline,\n",
        "    'LightGBM': tuned_lgbm_pipeline,\n",
        "    'HistGB': tuned_hist_pipeline\n",
        "}\n",
        "\n",
        "tuned_mean = pd.DataFrame()\n",
        "tuned_mean['Metric'] = ['R²', 'MAE', 'RMSE']\n",
        "\n",
        "# 5-fold cross-validation\n",
        "for key in tuned_pipelines:\n",
        "    scores = cross_validate(\n",
        "        estimator=tuned_pipelines[key],\n",
        "        X=model_features,\n",
        "        y=model_classes,\n",
        "        cv=RepeatedKFold(n_splits=5, n_repeats=5, random_state=42),\n",
        "        scoring=('r2', 'neg_mean_absolute_error', 'neg_root_mean_squared_error'),\n",
        "        n_jobs=-1\n",
        "    )\n",
        "    tuned_mean[key] = [scores['test_r2'].mean(),\n",
        "                         abs(scores['test_neg_mean_absolute_error'].mean()),\n",
        "                         abs(scores['test_neg_root_mean_squared_error'].mean())]\n",
        "\n",
        "tuned_mean"
      ],
      "metadata": {
        "colab": {
          "base_uri": "https://localhost:8080/",
          "height": 143
        },
        "id": "4Ssff2PRuFA7",
        "outputId": "8cd540e6-5a84-42cb-e16e-2d501451272a"
      },
      "execution_count": null,
      "outputs": [
        {
          "output_type": "execute_result",
          "data": {
            "text/plain": [
              "  Metric    XGBoost   LightGBM     HistGB\n",
              "0     R²   0.580864   0.586811   0.583811\n",
              "1    MAE  31.765949  31.441623  31.605752\n",
              "2   RMSE  44.094596  43.780423  43.939116"
            ],
            "text/html": [
              "\n",
              "  <div id=\"df-5ef0204f-7932-4cac-b825-362d4d8df080\" class=\"colab-df-container\">\n",
              "    <div>\n",
              "<style scoped>\n",
              "    .dataframe tbody tr th:only-of-type {\n",
              "        vertical-align: middle;\n",
              "    }\n",
              "\n",
              "    .dataframe tbody tr th {\n",
              "        vertical-align: top;\n",
              "    }\n",
              "\n",
              "    .dataframe thead th {\n",
              "        text-align: right;\n",
              "    }\n",
              "</style>\n",
              "<table border=\"1\" class=\"dataframe\">\n",
              "  <thead>\n",
              "    <tr style=\"text-align: right;\">\n",
              "      <th></th>\n",
              "      <th>Metric</th>\n",
              "      <th>XGBoost</th>\n",
              "      <th>LightGBM</th>\n",
              "      <th>HistGB</th>\n",
              "    </tr>\n",
              "  </thead>\n",
              "  <tbody>\n",
              "    <tr>\n",
              "      <th>0</th>\n",
              "      <td>R²</td>\n",
              "      <td>0.580864</td>\n",
              "      <td>0.586811</td>\n",
              "      <td>0.583811</td>\n",
              "    </tr>\n",
              "    <tr>\n",
              "      <th>1</th>\n",
              "      <td>MAE</td>\n",
              "      <td>31.765949</td>\n",
              "      <td>31.441623</td>\n",
              "      <td>31.605752</td>\n",
              "    </tr>\n",
              "    <tr>\n",
              "      <th>2</th>\n",
              "      <td>RMSE</td>\n",
              "      <td>44.094596</td>\n",
              "      <td>43.780423</td>\n",
              "      <td>43.939116</td>\n",
              "    </tr>\n",
              "  </tbody>\n",
              "</table>\n",
              "</div>\n",
              "    <div class=\"colab-df-buttons\">\n",
              "\n",
              "  <div class=\"colab-df-container\">\n",
              "    <button class=\"colab-df-convert\" onclick=\"convertToInteractive('df-5ef0204f-7932-4cac-b825-362d4d8df080')\"\n",
              "            title=\"Convert this dataframe to an interactive table.\"\n",
              "            style=\"display:none;\">\n",
              "\n",
              "  <svg xmlns=\"http://www.w3.org/2000/svg\" height=\"24px\" viewBox=\"0 -960 960 960\">\n",
              "    <path d=\"M120-120v-720h720v720H120Zm60-500h600v-160H180v160Zm220 220h160v-160H400v160Zm0 220h160v-160H400v160ZM180-400h160v-160H180v160Zm440 0h160v-160H620v160ZM180-180h160v-160H180v160Zm440 0h160v-160H620v160Z\"/>\n",
              "  </svg>\n",
              "    </button>\n",
              "\n",
              "  <style>\n",
              "    .colab-df-container {\n",
              "      display:flex;\n",
              "      gap: 12px;\n",
              "    }\n",
              "\n",
              "    .colab-df-convert {\n",
              "      background-color: #E8F0FE;\n",
              "      border: none;\n",
              "      border-radius: 50%;\n",
              "      cursor: pointer;\n",
              "      display: none;\n",
              "      fill: #1967D2;\n",
              "      height: 32px;\n",
              "      padding: 0 0 0 0;\n",
              "      width: 32px;\n",
              "    }\n",
              "\n",
              "    .colab-df-convert:hover {\n",
              "      background-color: #E2EBFA;\n",
              "      box-shadow: 0px 1px 2px rgba(60, 64, 67, 0.3), 0px 1px 3px 1px rgba(60, 64, 67, 0.15);\n",
              "      fill: #174EA6;\n",
              "    }\n",
              "\n",
              "    .colab-df-buttons div {\n",
              "      margin-bottom: 4px;\n",
              "    }\n",
              "\n",
              "    [theme=dark] .colab-df-convert {\n",
              "      background-color: #3B4455;\n",
              "      fill: #D2E3FC;\n",
              "    }\n",
              "\n",
              "    [theme=dark] .colab-df-convert:hover {\n",
              "      background-color: #434B5C;\n",
              "      box-shadow: 0px 1px 3px 1px rgba(0, 0, 0, 0.15);\n",
              "      filter: drop-shadow(0px 1px 2px rgba(0, 0, 0, 0.3));\n",
              "      fill: #FFFFFF;\n",
              "    }\n",
              "  </style>\n",
              "\n",
              "    <script>\n",
              "      const buttonEl =\n",
              "        document.querySelector('#df-5ef0204f-7932-4cac-b825-362d4d8df080 button.colab-df-convert');\n",
              "      buttonEl.style.display =\n",
              "        google.colab.kernel.accessAllowed ? 'block' : 'none';\n",
              "\n",
              "      async function convertToInteractive(key) {\n",
              "        const element = document.querySelector('#df-5ef0204f-7932-4cac-b825-362d4d8df080');\n",
              "        const dataTable =\n",
              "          await google.colab.kernel.invokeFunction('convertToInteractive',\n",
              "                                                    [key], {});\n",
              "        if (!dataTable) return;\n",
              "\n",
              "        const docLinkHtml = 'Like what you see? Visit the ' +\n",
              "          '<a target=\"_blank\" href=https://colab.research.google.com/notebooks/data_table.ipynb>data table notebook</a>'\n",
              "          + ' to learn more about interactive tables.';\n",
              "        element.innerHTML = '';\n",
              "        dataTable['output_type'] = 'display_data';\n",
              "        await google.colab.output.renderOutput(dataTable, element);\n",
              "        const docLink = document.createElement('div');\n",
              "        docLink.innerHTML = docLinkHtml;\n",
              "        element.appendChild(docLink);\n",
              "      }\n",
              "    </script>\n",
              "  </div>\n",
              "\n",
              "\n",
              "<div id=\"df-15f1d393-edf3-465d-b7fe-ef1ea012c259\">\n",
              "  <button class=\"colab-df-quickchart\" onclick=\"quickchart('df-15f1d393-edf3-465d-b7fe-ef1ea012c259')\"\n",
              "            title=\"Suggest charts\"\n",
              "            style=\"display:none;\">\n",
              "\n",
              "<svg xmlns=\"http://www.w3.org/2000/svg\" height=\"24px\"viewBox=\"0 0 24 24\"\n",
              "     width=\"24px\">\n",
              "    <g>\n",
              "        <path d=\"M19 3H5c-1.1 0-2 .9-2 2v14c0 1.1.9 2 2 2h14c1.1 0 2-.9 2-2V5c0-1.1-.9-2-2-2zM9 17H7v-7h2v7zm4 0h-2V7h2v10zm4 0h-2v-4h2v4z\"/>\n",
              "    </g>\n",
              "</svg>\n",
              "  </button>\n",
              "\n",
              "<style>\n",
              "  .colab-df-quickchart {\n",
              "      --bg-color: #E8F0FE;\n",
              "      --fill-color: #1967D2;\n",
              "      --hover-bg-color: #E2EBFA;\n",
              "      --hover-fill-color: #174EA6;\n",
              "      --disabled-fill-color: #AAA;\n",
              "      --disabled-bg-color: #DDD;\n",
              "  }\n",
              "\n",
              "  [theme=dark] .colab-df-quickchart {\n",
              "      --bg-color: #3B4455;\n",
              "      --fill-color: #D2E3FC;\n",
              "      --hover-bg-color: #434B5C;\n",
              "      --hover-fill-color: #FFFFFF;\n",
              "      --disabled-bg-color: #3B4455;\n",
              "      --disabled-fill-color: #666;\n",
              "  }\n",
              "\n",
              "  .colab-df-quickchart {\n",
              "    background-color: var(--bg-color);\n",
              "    border: none;\n",
              "    border-radius: 50%;\n",
              "    cursor: pointer;\n",
              "    display: none;\n",
              "    fill: var(--fill-color);\n",
              "    height: 32px;\n",
              "    padding: 0;\n",
              "    width: 32px;\n",
              "  }\n",
              "\n",
              "  .colab-df-quickchart:hover {\n",
              "    background-color: var(--hover-bg-color);\n",
              "    box-shadow: 0 1px 2px rgba(60, 64, 67, 0.3), 0 1px 3px 1px rgba(60, 64, 67, 0.15);\n",
              "    fill: var(--button-hover-fill-color);\n",
              "  }\n",
              "\n",
              "  .colab-df-quickchart-complete:disabled,\n",
              "  .colab-df-quickchart-complete:disabled:hover {\n",
              "    background-color: var(--disabled-bg-color);\n",
              "    fill: var(--disabled-fill-color);\n",
              "    box-shadow: none;\n",
              "  }\n",
              "\n",
              "  .colab-df-spinner {\n",
              "    border: 2px solid var(--fill-color);\n",
              "    border-color: transparent;\n",
              "    border-bottom-color: var(--fill-color);\n",
              "    animation:\n",
              "      spin 1s steps(1) infinite;\n",
              "  }\n",
              "\n",
              "  @keyframes spin {\n",
              "    0% {\n",
              "      border-color: transparent;\n",
              "      border-bottom-color: var(--fill-color);\n",
              "      border-left-color: var(--fill-color);\n",
              "    }\n",
              "    20% {\n",
              "      border-color: transparent;\n",
              "      border-left-color: var(--fill-color);\n",
              "      border-top-color: var(--fill-color);\n",
              "    }\n",
              "    30% {\n",
              "      border-color: transparent;\n",
              "      border-left-color: var(--fill-color);\n",
              "      border-top-color: var(--fill-color);\n",
              "      border-right-color: var(--fill-color);\n",
              "    }\n",
              "    40% {\n",
              "      border-color: transparent;\n",
              "      border-right-color: var(--fill-color);\n",
              "      border-top-color: var(--fill-color);\n",
              "    }\n",
              "    60% {\n",
              "      border-color: transparent;\n",
              "      border-right-color: var(--fill-color);\n",
              "    }\n",
              "    80% {\n",
              "      border-color: transparent;\n",
              "      border-right-color: var(--fill-color);\n",
              "      border-bottom-color: var(--fill-color);\n",
              "    }\n",
              "    90% {\n",
              "      border-color: transparent;\n",
              "      border-bottom-color: var(--fill-color);\n",
              "    }\n",
              "  }\n",
              "</style>\n",
              "\n",
              "  <script>\n",
              "    async function quickchart(key) {\n",
              "      const quickchartButtonEl =\n",
              "        document.querySelector('#' + key + ' button');\n",
              "      quickchartButtonEl.disabled = true;  // To prevent multiple clicks.\n",
              "      quickchartButtonEl.classList.add('colab-df-spinner');\n",
              "      try {\n",
              "        const charts = await google.colab.kernel.invokeFunction(\n",
              "            'suggestCharts', [key], {});\n",
              "      } catch (error) {\n",
              "        console.error('Error during call to suggestCharts:', error);\n",
              "      }\n",
              "      quickchartButtonEl.classList.remove('colab-df-spinner');\n",
              "      quickchartButtonEl.classList.add('colab-df-quickchart-complete');\n",
              "    }\n",
              "    (() => {\n",
              "      let quickchartButtonEl =\n",
              "        document.querySelector('#df-15f1d393-edf3-465d-b7fe-ef1ea012c259 button');\n",
              "      quickchartButtonEl.style.display =\n",
              "        google.colab.kernel.accessAllowed ? 'block' : 'none';\n",
              "    })();\n",
              "  </script>\n",
              "</div>\n",
              "\n",
              "  <div id=\"id_9bcf2009-8d2f-4f98-9a3a-b867d4b4ded9\">\n",
              "    <style>\n",
              "      .colab-df-generate {\n",
              "        background-color: #E8F0FE;\n",
              "        border: none;\n",
              "        border-radius: 50%;\n",
              "        cursor: pointer;\n",
              "        display: none;\n",
              "        fill: #1967D2;\n",
              "        height: 32px;\n",
              "        padding: 0 0 0 0;\n",
              "        width: 32px;\n",
              "      }\n",
              "\n",
              "      .colab-df-generate:hover {\n",
              "        background-color: #E2EBFA;\n",
              "        box-shadow: 0px 1px 2px rgba(60, 64, 67, 0.3), 0px 1px 3px 1px rgba(60, 64, 67, 0.15);\n",
              "        fill: #174EA6;\n",
              "      }\n",
              "\n",
              "      [theme=dark] .colab-df-generate {\n",
              "        background-color: #3B4455;\n",
              "        fill: #D2E3FC;\n",
              "      }\n",
              "\n",
              "      [theme=dark] .colab-df-generate:hover {\n",
              "        background-color: #434B5C;\n",
              "        box-shadow: 0px 1px 3px 1px rgba(0, 0, 0, 0.15);\n",
              "        filter: drop-shadow(0px 1px 2px rgba(0, 0, 0, 0.3));\n",
              "        fill: #FFFFFF;\n",
              "      }\n",
              "    </style>\n",
              "    <button class=\"colab-df-generate\" onclick=\"generateWithVariable('tuned_mean')\"\n",
              "            title=\"Generate code using this dataframe.\"\n",
              "            style=\"display:none;\">\n",
              "\n",
              "  <svg xmlns=\"http://www.w3.org/2000/svg\" height=\"24px\"viewBox=\"0 0 24 24\"\n",
              "       width=\"24px\">\n",
              "    <path d=\"M7,19H8.4L18.45,9,17,7.55,7,17.6ZM5,21V16.75L18.45,3.32a2,2,0,0,1,2.83,0l1.4,1.43a1.91,1.91,0,0,1,.58,1.4,1.91,1.91,0,0,1-.58,1.4L9.25,21ZM18.45,9,17,7.55Zm-12,3A5.31,5.31,0,0,0,4.9,8.1,5.31,5.31,0,0,0,1,6.5,5.31,5.31,0,0,0,4.9,4.9,5.31,5.31,0,0,0,6.5,1,5.31,5.31,0,0,0,8.1,4.9,5.31,5.31,0,0,0,12,6.5,5.46,5.46,0,0,0,6.5,12Z\"/>\n",
              "  </svg>\n",
              "    </button>\n",
              "    <script>\n",
              "      (() => {\n",
              "      const buttonEl =\n",
              "        document.querySelector('#id_9bcf2009-8d2f-4f98-9a3a-b867d4b4ded9 button.colab-df-generate');\n",
              "      buttonEl.style.display =\n",
              "        google.colab.kernel.accessAllowed ? 'block' : 'none';\n",
              "\n",
              "      buttonEl.onclick = () => {\n",
              "        google.colab.notebook.generateWithVariable('tuned_mean');\n",
              "      }\n",
              "      })();\n",
              "    </script>\n",
              "  </div>\n",
              "\n",
              "    </div>\n",
              "  </div>\n"
            ],
            "application/vnd.google.colaboratory.intrinsic+json": {
              "type": "dataframe",
              "variable_name": "tuned_mean",
              "summary": "{\n  \"name\": \"tuned_mean\",\n  \"rows\": 3,\n  \"fields\": [\n    {\n      \"column\": \"Metric\",\n      \"properties\": {\n        \"dtype\": \"string\",\n        \"num_unique_values\": 3,\n        \"samples\": [\n          \"R\\u00b2\",\n          \"MAE\",\n          \"RMSE\"\n        ],\n        \"semantic_type\": \"\",\n        \"description\": \"\"\n      }\n    },\n    {\n      \"column\": \"XGBoost\",\n      \"properties\": {\n        \"dtype\": \"number\",\n        \"std\": 22.427475499744762,\n        \"min\": 0.5808637041366056,\n        \"max\": 44.09459564208984,\n        \"num_unique_values\": 3,\n        \"samples\": [\n          0.5808637041366056,\n          31.765949096679687,\n          44.09459564208984\n        ],\n        \"semantic_type\": \"\",\n        \"description\": \"\"\n      }\n    },\n    {\n      \"column\": \"LightGBM\",\n      \"properties\": {\n        \"dtype\": \"number\",\n        \"std\": 22.248421530933484,\n        \"min\": 0.586810588965211,\n        \"max\": 43.78042286381323,\n        \"num_unique_values\": 3,\n        \"samples\": [\n          0.586810588965211,\n          31.44162276667068,\n          43.78042286381323\n        ],\n        \"semantic_type\": \"\",\n        \"description\": \"\"\n      }\n    },\n    {\n      \"column\": \"HistGB\",\n      \"properties\": {\n        \"dtype\": \"number\",\n        \"std\": 22.3388867503081,\n        \"min\": 0.583811122436432,\n        \"max\": 43.93911637090081,\n        \"num_unique_values\": 3,\n        \"samples\": [\n          0.583811122436432,\n          31.60575151185596,\n          43.93911637090081\n        ],\n        \"semantic_type\": \"\",\n        \"description\": \"\"\n      }\n    }\n  ]\n}"
            }
          },
          "metadata": {},
          "execution_count": 179
        }
      ]
    },
    {
      "cell_type": "markdown",
      "source": [
        "- Since the algorithms are still in a dead heat, we'll select _LightGBM_. It has marginally outperformed _XGBoost_ and _HistGradientBoosting_ in every metric;\n",
        "- One of the main pros of _LightGBM_ is its speed, since it's faster than relatively sophisticated algorithms such as _XGBoost_, especially with large datasets. However, its interpretability is complex, since it can create deeper trees than _XGBoost_ (both are tree-based algorithms);\n",
        "- However, _HistGradientBoosting_ is by no means a disposable alternative. Quite the opposite, since its performance is apparently in the same level as the likes of _LightGBM_ and _XGBoost_ and it has the advantage to support missing data on performing predictions."
      ],
      "metadata": {
        "id": "A0LEOuUlvy-4"
      }
    },
    {
      "cell_type": "code",
      "source": [
        "from sklearn.model_selection import learning_curve\n",
        "import matplotlib.pyplot as plt\n",
        "\n",
        "\n",
        "def plot_learning_curve(attributes, classes, estimators, n_trainings):\n",
        "\n",
        "    plt.grid()\n",
        "    plt.title('Learning Curves (5-fold CV)')\n",
        "    plt.xlabel('Training Set Size')\n",
        "    plt.ylabel('R² Mean')\n",
        "    plt.ylim(0, 1)\n",
        "\n",
        "    i = 0\n",
        "    plot_colors = ['r', 'g', 'b']\n",
        "    for est in estimators:\n",
        "\n",
        "        training_sizes, _, cv_scores = learning_curve(estimators[est],\n",
        "                                                      attributes, classes,\n",
        "                                                      train_sizes=np.linspace(0.1, 1, n_trainings),\n",
        "                                                      cv=5, scoring='r2', n_jobs=-1)\n",
        "        cv_scores_mean = np.mean(cv_scores, axis=1)\n",
        "        plt.plot(training_sizes, cv_scores_mean, color=plot_colors[i], label=est)\n",
        "        i += 1\n",
        "\n",
        "    plt.legend(loc='best')\n",
        "    plt.savefig(f'{getcwd()}/../plots/learning_curve.svg', format='svg')\n",
        "    plt.show()"
      ],
      "metadata": {
        "id": "muXUsjcwlZ4w"
      },
      "execution_count": null,
      "outputs": []
    },
    {
      "cell_type": "code",
      "source": [
        "reg_estimators = {\n",
        "    'LightGBM': tuned_lgbm_pipeline,\n",
        "    'XGBoost': tuned_xgb_pipeline,\n",
        "    'HistGradientBoosting': tuned_hist_pipeline\n",
        "}\n",
        "\n",
        "plot_learning_curve(attributes=model_features, classes=model_classes,\n",
        "                    estimators=reg_estimators, n_trainings=20)"
      ],
      "metadata": {
        "colab": {
          "base_uri": "https://localhost:8080/",
          "height": 472
        },
        "id": "X-u0SHAdm1EF",
        "outputId": "3c925b2c-7882-40ba-a327-24d524c3ea3c"
      },
      "execution_count": null,
      "outputs": [
        {
          "output_type": "display_data",
          "data": {
            "text/plain": [
              "<Figure size 640x480 with 1 Axes>"
            ],
            "image/png": "[encoded data removed]"
          },
          "metadata": {}
        }
      ]
    },
    {
      "cell_type": "markdown",
      "source": [
        "\n",
        "- The learning curves of all the algorithms stagnate very early (at around 25% of the dataset size);\n",
        "- It's necessary to investigate what's causing this premature stop, possibly rewinding and adding new steps on EDA and Preprocessing;\n",
        "- However, this could also suggest that it's not necessary to train the model with the whole dataset, making it possible to apply instance selection, removing redundant instances while maintaining the same performance and reducing computational cost and execution time on training.\n",
        "\n"
      ],
      "metadata": {
        "id": "Ys3L75z3CFED"
      }
    },
    {
      "cell_type": "markdown",
      "source": [
        "# **3. Feature Selection and Importances with Tuned Model**"
      ],
      "metadata": {
        "id": "u6f3fv0-DNx1"
      }
    },
    {
      "cell_type": "code",
      "source": [
        "from sklearn.feature_selection import RFECV\n",
        "import seaborn as sns\n",
        "\n",
        "\n",
        "def plot_selection_graph(rfecv: any) -> None:\n",
        "\n",
        "    n_scores = len(rfecv.cv_results_['mean_test_score'])\n",
        "    plt.figure()\n",
        "    plt.xlabel('Number of Features Selected')\n",
        "    plt.ylabel('Average R²')\n",
        "    plt.ylim(0, 1)\n",
        "    plt.errorbar(\n",
        "        range(1, n_scores + 1),\n",
        "        rfecv.cv_results_['mean_test_score'],\n",
        "        yerr=rfecv.cv_results_['std_test_score'],\n",
        "    )\n",
        "    plt.title('Recursive Feature Selection with CV')\n",
        "\n",
        "    plt.savefig(f'{getcwd()}/../plots/feature_selection.svg', format='svg')\n",
        "    plt.show()\n",
        "\n",
        "\n",
        "def feature_selection(attributes: pd.DataFrame, classes: pd.DataFrame, cv_estimator: any) -> None:\n",
        "\n",
        "    # Recursive feature selection with repeated CV\n",
        "    cv_selector = RFECV(estimator=cv_estimator,\n",
        "                        cv=RepeatedKFold(n_splits=5, n_repeats=5, random_state=42),\n",
        "                        step=1, scoring='r2',\n",
        "                        verbose=False, n_jobs=-1)\n",
        "    cv_selector = cv_selector.fit(attributes, classes)\n",
        "\n",
        "    rfecv_mask = cv_selector.get_support()\n",
        "    match_features = np.array(attributes.columns)\n",
        "    selected_features = match_features[rfecv_mask]\n",
        "\n",
        "    # Visualization\n",
        "    plot_selection_graph(rfecv=cv_selector)\n",
        "    print(f'\\nOriginal number of features: {len(attributes.columns.values)}')\n",
        "    print(f'Features: {list(attributes.columns.values)}\\n')\n",
        "\n",
        "    print(f'Optimal number of features: {cv_selector.n_features_}')\n",
        "    print(f'Best features: {selected_features}')\n",
        "\n",
        "    selection = dict()\n",
        "    selection['Optimal Number'] = str(cv_selector.n_features_)\n",
        "    selection['Best Features'] = list(selected_features)\n",
        "    with open(f'{getcwd()}/../models/best_features.json', 'w') as file:\n",
        "        dump_file = json.dumps(selection, indent=4)\n",
        "        file.write(dump_file)\n",
        "\n",
        "    # Exports the feature selected dataset\n",
        "    save_df = attributes.copy()\n",
        "    save_df.drop(selected_features, axis='columns')\n",
        "    save_df['Price'] = classes\n",
        "    save_df.to_parquet(f'{getcwd()}/../datasets/feature_selected.parquet', index=False)\n",
        "\n",
        "\n",
        "\n",
        "def plot_feature_importance(attributes: any, f_importances: any, alg_name: str) -> None:\n",
        "\n",
        "    feature_dataframe = pd.DataFrame({'Feature': attributes, 'Feature Relevance': f_importances})\n",
        "\n",
        "    feature_data = pd.DataFrame({'Feature': attributes, 'Feature Relevance': feature_dataframe['Feature Relevance']})\n",
        "    feature_data = feature_data.sort_values(by='Feature Relevance', ascending=False)\n",
        "\n",
        "    plt.figure(figsize=(10, 6))\n",
        "    plt.title(f'Average Feature Importance ({alg_name})', fontsize=16)\n",
        "\n",
        "    s = sns.barplot(y='Feature', x='Feature Relevance', data=feature_data, orient='h', palette='coolwarm')\n",
        "    plt.xlabel('Importance', fontsize=14)\n",
        "    plt.ylabel('Feature', fontsize=14)\n",
        "    s.set_xticklabels(s.get_xticklabels(), rotation=90)\n",
        "\n",
        "    plt.savefig(f'{getcwd()}/../plots/feature_importance({alg_name}).svg', format='svg')\n",
        "    plt.show()"
      ],
      "metadata": {
        "id": "tDgTHCpWDQ2B"
      },
      "execution_count": null,
      "outputs": []
    },
    {
      "cell_type": "markdown",
      "source": [
        "- In a contradictory way observed in the EDA, (low correlation between _Price_ and _Days Available_) the _Days Available_ is one of the features with most predictive power;\n",
        "- Another strange fact is that _Host ID_ is also an extremely relevant feature with this model. It's a feature with a high amount of unique values. This result maybe has a relationship with the equal frequency binning step applied to the feature, increasing the observable patterns, and thus, the predictive power;\n",
        "- The features with an extreme low amount of unique values have the least predictive power. The larger the dataset is, features that have few unique values also won't present any relevant patterns, acting more like redundant information and not differentiating the instances."
      ],
      "metadata": {
        "id": "xshk4Ii4EEt8"
      }
    },
    {
      "cell_type": "code",
      "source": [
        "# Custom pipeline to expose estimator feature importances to perform feature selection with scaling\n",
        "class RfecvPipeline(Pipeline):\n",
        "\n",
        "    @property\n",
        "    def coef_(self):\n",
        "        return self._final_estimator.coef_\n",
        "\n",
        "    @property\n",
        "    def feature_importances_(self):\n",
        "        return self._final_estimator.feature_importances_\n",
        "\n",
        "\n",
        "algorithm = RfecvPipeline(steps=[\n",
        "    ('scaler', scaler),\n",
        "    ('regressor', LGBMRegressor(learning_rate=0.11, max_depth=9,\n",
        "                                n_estimators=150, n_jobs=-1, verbose=-1))\n",
        "])\n",
        "\n",
        "algorithm.fit(model_features, model_classes)\n",
        "plot_feature_importance(attributes=model_features.columns,\n",
        "                        f_importances=algorithm['regressor'].feature_importances_,\n",
        "                        alg_name='LightGBM')"
      ],
      "metadata": {
        "colab": {
          "base_uri": "https://localhost:8080/",
          "height": 652
        },
        "id": "uZn4RhrNECD6",
        "outputId": "e9f931d4-aadb-4850-93d5-85142d1b6e0a"
      },
      "execution_count": null,
      "outputs": [
        {
          "output_type": "stream",
          "name": "stderr",
          "text": [
            "<ipython-input-182-3539de80870d>:72: UserWarning:\n",
            "\n",
            "FixedFormatter should only be used together with FixedLocator\n",
            "\n"
          ]
        },
        {
          "output_type": "display_data",
          "data": {
            "text/plain": [
              "<Figure size 1000x600 with 1 Axes>"
            ],
            "image/png": "[encoded data removed]"
          },
          "metadata": {}
        }
      ]
    },
    {
      "cell_type": "code",
      "source": [
        "feature_selection(attributes=model_features, classes=model_classes, cv_estimator=algorithm)"
      ],
      "metadata": {
        "colab": {
          "base_uri": "https://localhost:8080/",
          "height": 611
        },
        "id": "Fxp_QJRKEg_W",
        "outputId": "0c70be5b-b036-4984-8f5c-d6116abb7781"
      },
      "execution_count": null,
      "outputs": [
        {
          "output_type": "display_data",
          "data": {
            "text/plain": [
              "<Figure size 640x480 with 1 Axes>"
            ],
            "image/png": "[encoded data removed]"
          },
          "metadata": {}
        },
        {
          "output_type": "stream",
          "name": "stdout",
          "text": [
            "\n",
            "Original number of features: 13\n",
            "Features: ['Host ID', 'Host Name', 'Borough', 'District', 'Latitude', 'Longitude', 'Room Type', 'Minimum Nights', 'Reviews', 'Last Review', 'Monthly Reviews', 'Number of Listings', 'Days Available']\n",
            "\n",
            "Optimal number of features: 13\n",
            "Best features: ['Host ID' 'Host Name' 'Borough' 'District' 'Latitude' 'Longitude'\n",
            " 'Room Type' 'Minimum Nights' 'Reviews' 'Last Review' 'Monthly Reviews'\n",
            " 'Number of Listings' 'Days Available']\n"
          ]
        }
      ]
    },
    {
      "cell_type": "markdown",
      "source": [
        "- Successful feature selection mostly reduces models' complexity and can improve its performance;\n",
        "- Since features with low predictive power such as _Neighborhood_ weren't discarded, we conclude that this tuned model performs at its best with all the features;\n",
        "- As a final evaluation, we have a LightGBM model with R² of approximately 0.58, which could be underperforming for this problem."
      ],
      "metadata": {
        "id": "YQyxkBd72gZF"
      }
    },
    {
      "cell_type": "code",
      "source": [
        "final_df = pd.read_parquet(f'{getcwd()}/../datasets/feature_selected.parquet')\n",
        "final_features = final_df.drop(['Price'], axis='columns')\n",
        "final_classes = final_df['Price']\n",
        "\n",
        "final_scores = cross_validate(\n",
        "    estimator=tuned_lgbm_pipeline,\n",
        "    X=final_features,\n",
        "    y=final_classes,\n",
        "    cv=RepeatedKFold(n_splits=5, n_repeats=5, random_state=42),\n",
        "    scoring='r2',\n",
        "    n_jobs=-1\n",
        ")\n",
        "\n",
        "r2_score = final_scores['test_score'].mean()\n",
        "print(f'R²: {r2_score}')"
      ],
      "metadata": {
        "colab": {
          "base_uri": "https://localhost:8080/"
        },
        "id": "ga1F1Lrtz426",
        "outputId": "c931f7be-4303-4abc-f0f4-a9a618f6efc4"
      },
      "execution_count": null,
      "outputs": [
        {
          "output_type": "stream",
          "name": "stdout",
          "text": [
            "R²: 0.586810588965211\n"
          ]
        }
      ]
    },
    {
      "cell_type": "markdown",
      "source": [
        "# **4. Statistical Tests**\n",
        "\n",
        "- With minimal differences in scoring, is to be expected that the models have some equivalence between them;\n",
        "- _HistGradientBoosting_ is statistically equal to _XGBoost_ and _LightGBM_, although the last two are not statistically equal to each other;\n",
        "- This means we conclude that LightGBM is different from XGBoost with 95% of probability;\n",
        "- The standard deviation is a good provisory metric to analyze ML models statistical equivalence (low -> tends to be equal)."
      ],
      "metadata": {
        "id": "73qffOdFzqzF"
      }
    },
    {
      "cell_type": "code",
      "source": [
        "from mlxtend.evaluate import paired_ttest_5x2cv\n",
        "\n",
        "\n",
        "def paired_ttest(model1, model2, attributes, classes):\n",
        "    '''\n",
        "    Significance level\n",
        "    5% risk of concluding that a difference exists when there is no actual difference\n",
        "    '''\n",
        "    alpha = 0.05\n",
        "    _, p = paired_ttest_5x2cv(model1, model2, attributes, classes)\n",
        "\n",
        "    print(f'alpha:       {alpha}')\n",
        "    print(f'p value:     {p}')\n",
        "\n",
        "    if p > alpha:\n",
        "        print('Models are statistically equal (Fail to reject null hypothesis)')\n",
        "    else:\n",
        "        print('Models are statistically different (Reject null hypothesis)')"
      ],
      "metadata": {
        "id": "ovpMWZAUzpk2"
      },
      "execution_count": null,
      "outputs": []
    },
    {
      "cell_type": "code",
      "source": [
        "print('LightGBM x XGBoost\\n')\n",
        "paired_ttest(tuned_lgbm_pipeline, tuned_xgb_pipeline, final_features, final_classes)"
      ],
      "metadata": {
        "colab": {
          "base_uri": "https://localhost:8080/"
        },
        "id": "hAhW0qDWDJaO",
        "outputId": "28cfb4f5-f196-460c-eb18-20b3674cef2f"
      },
      "execution_count": null,
      "outputs": [
        {
          "output_type": "stream",
          "name": "stdout",
          "text": [
            "LightGBM x XGBoost\n",
            "\n",
            "alpha:       0.05\n",
            "p value:     0.0007001114074945575\n",
            "Models are statistically different (Reject null hypothesis)\n"
          ]
        }
      ]
    },
    {
      "cell_type": "code",
      "source": [
        "print('LightGBM x HistGradientBoosting\\n')\n",
        "paired_ttest(tuned_lgbm_pipeline, tuned_hist_pipeline, final_features, final_classes)"
      ],
      "metadata": {
        "colab": {
          "base_uri": "https://localhost:8080/"
        },
        "id": "MKJYyZwMDLT4",
        "outputId": "b5d8db0a-d226-4128-be62-144d47678a1e"
      },
      "execution_count": null,
      "outputs": [
        {
          "output_type": "stream",
          "name": "stdout",
          "text": [
            "LightGBM x HistGradientBoosting\n",
            "\n",
            "alpha:       0.05\n",
            "p value:     0.17824155458881552\n",
            "Models are statistically equal (Fail to reject null hypothesis)\n"
          ]
        }
      ]
    },
    {
      "cell_type": "code",
      "source": [
        "print('XGBoost x HistGradientBoosting\\n')\n",
        "paired_ttest(tuned_xgb_pipeline, tuned_hist_pipeline, final_features, final_classes)"
      ],
      "metadata": {
        "colab": {
          "base_uri": "https://localhost:8080/"
        },
        "id": "7GmET8BbDND2",
        "outputId": "c29207d9-4e4e-4e55-c229-5d44669b8063"
      },
      "execution_count": null,
      "outputs": [
        {
          "output_type": "stream",
          "name": "stdout",
          "text": [
            "XGBoost x HistGradientBoosting\n",
            "\n",
            "alpha:       0.05\n",
            "p value:     0.4363791033714034\n",
            "Models are statistically equal (Fail to reject null hypothesis)\n"
          ]
        }
      ]
    },
    {
      "cell_type": "markdown",
      "source": [
        "# **5. Training and Saving Final Models**\n"
      ],
      "metadata": {
        "id": "HWqqfSn7Ezyg"
      }
    },
    {
      "cell_type": "code",
      "source": [
        "from shutil import rmtree\n",
        "import joblib\n",
        "\n",
        "tuned_lgbm_pipeline.fit(final_features, final_classes)\n",
        "joblib.dump(tuned_lgbm_pipeline, f'{getcwd()}/../models/lgbm_model.pkl')\n",
        "\n",
        "tuned_xgb_pipeline.fit(final_features, final_classes)\n",
        "joblib.dump(tuned_xgb_pipeline, f'{getcwd()}/../models/xgb_model.pkl')\n",
        "\n",
        "tuned_hist_pipeline.fit(final_features, final_classes)\n",
        "joblib.dump(tuned_hist_pipeline, f'{getcwd()}/../models/histgb_model.pkl')\n",
        "\n",
        "# Clear the cache directory for transformers\n",
        "rmtree(cachedir)"
      ],
      "metadata": {
        "id": "CMO7gKS6FR5L"
      },
      "execution_count": null,
      "outputs": []
    },
    {
      "cell_type": "markdown",
      "source": [
        "# **6. Predicting a Given Instance**\n"
      ],
      "metadata": {
        "id": "vo69sRyvFxf5"
      }
    },
    {
      "cell_type": "code",
      "source": [
        "from pandas.api.types import is_float_dtype\n",
        "from pandas.api.types import is_integer_dtype\n",
        "\n",
        "\n",
        "def preprocess_instance(instance: pd.DataFrame) -> pd.DataFrame:\n",
        "\n",
        "    instance = instance.rename(columns={\n",
        "        'id': 'ID',\n",
        "        'nome': 'Name',\n",
        "        'host_id': 'Host ID',\n",
        "        'host_name': 'Host Name',\n",
        "        'bairro_group': 'Borough',\n",
        "        'bairro': 'District',\n",
        "        'latitude': 'Latitude',\n",
        "        'longitude': 'Longitude',\n",
        "        'room_type': 'Room Type',\n",
        "        'price': 'Price',\n",
        "        'minimo_noites': 'Minimum Nights',\n",
        "        'numero_de_reviews': 'Reviews',\n",
        "        'ultima_review': 'Last Review',\n",
        "        'reviews_por_mes': 'Monthly Reviews',\n",
        "        'calculado_host_listings_count': 'Number of Listings',\n",
        "        'disponibilidade_365': \"Days Available\"\n",
        "    })\n",
        "\n",
        "    try:\n",
        "        instance = instance.drop(['ID', 'Name', 'Price'], axis='columns')\n",
        "    except KeyError:\n",
        "        pass\n",
        "\n",
        "    if not is_integer_dtype(instance['Last Review']):\n",
        "        instance['Last Review'] = pd.to_datetime(instance['Last Review'])\n",
        "        instance['Last Review'] = instance['Last Review'].apply(lambda row: f'{str(row.year)}-{str(row.month)}')\n",
        "\n",
        "    encodings_file = \"matches.json\"\n",
        "    encode_id = '1CxBruJu-QcJjQ5jfrABy5a77kghf4FSp'\n",
        "    gdown.download(f'https://drive.google.com/uc?id={encode_id}', encodings_file)\n",
        "\n",
        "    with open(encodings_file, 'r') as encode_file:\n",
        "        encodes = json.load(encode_file)\n",
        "\n",
        "    for col in instance.columns.values:\n",
        "        if not is_float_dtype(instance[col]) and not is_integer_dtype(instance[col]):\n",
        "\n",
        "            # Gets the associated values to the column keys (-1 if the key isn't known)\n",
        "            instance[col] = instance[col].apply(lambda x: encodes[col].get(x, -1))\n",
        "\n",
        "    # Gets the binning threshold file generated in preprocessing\n",
        "    bins_file = \"bins.json\"\n",
        "    bins_id = '1eGRas7ZUyX6OOrihYfZUWrRYE9lqQ9L2'\n",
        "    gdown.download(f'https://drive.google.com/uc?id={bins_id}', bins_file)\n",
        "\n",
        "    with open(bins_file, 'r') as file:\n",
        "        bins = json.load(file)\n",
        "\n",
        "    # Binning mapping\n",
        "    for feature in bins:\n",
        "        binned_feature = np.digitize(instance[feature], bins[feature])\n",
        "        instance[feature] = binned_feature - 1\n",
        "\n",
        "    return instance"
      ],
      "metadata": {
        "id": "yjyW4barM84J"
      },
      "execution_count": null,
      "outputs": []
    },
    {
      "cell_type": "code",
      "source": [
        "from sklearn.preprocessing import FunctionTransformer\n",
        "\n",
        "\n",
        "'''\n",
        "Complete pipeline (Preprocessing -> Scaling -> Model Prediction)\n",
        "Cannot be fitted since the data has already been preprocessed\n",
        "'''\n",
        "preprocess = FunctionTransformer(preprocess_instance)\n",
        "complete_pipe = Pipeline(steps=[\n",
        "    ('preprocess', preprocess),\n",
        "    ('model', tuned_lgbm_pipeline)\n",
        "])\n",
        "\n",
        "# First row of the original dataset\n",
        "apt_data = {\n",
        "    'id': 2595,\n",
        "    'nome': 'Skylit Midtown Castle',\n",
        "    'host_id': 2845,\n",
        "    'host_name': 'Jennifer',\n",
        "    'bairro_group': 'Manhattan',\n",
        "    'bairro': 'Midtown',\n",
        "    'latitude': 40.75362,\n",
        "    'longitude': -73.98377,\n",
        "    'room_type': 'Entire home/apt',\n",
        "    'price': 225,\n",
        "    'minimo_noites': 1,\n",
        "    'numero_de_reviews': 45,\n",
        "    'ultima_review': '2019-05-21',\n",
        "    'reviews_por_mes': 0.38,\n",
        "    'calculado_host_listings_count': 2,\n",
        "    'disponibilidade_365': 355\n",
        "    }\n",
        "\n",
        "# Prediction\n",
        "to_predict = pd.DataFrame([apt_data])\n",
        "prediction = complete_pipe.predict(to_predict)\n",
        "price = round(prediction[0], 2)\n",
        "print(f'\\n\\nUS$ {str(price)}')"
      ],
      "metadata": {
        "colab": {
          "base_uri": "https://localhost:8080/"
        },
        "id": "Jpo2CbhWeCW2",
        "outputId": "88750ccc-5748-4c57-9c8d-421f9afd84ef"
      },
      "execution_count": null,
      "outputs": [
        {
          "output_type": "stream",
          "name": "stderr",
          "text": [
            "Downloading...\n",
            "From: https://drive.google.com/uc?id=1CxBruJu-QcJjQ5jfrABy5a77kghf4FSp\n",
            "To: /content/matches.json\n",
            "100%|██████████| 296k/296k [00:00<00:00, 65.8MB/s]\n",
            "Downloading...\n",
            "From: https://drive.google.com/uc?id=1eGRas7ZUyX6OOrihYfZUWrRYE9lqQ9L2\n",
            "To: /content/bins.json\n",
            "100%|██████████| 3.71k/3.71k [00:00<00:00, 4.58MB/s]"
          ]
        },
        {
          "output_type": "stream",
          "name": "stdout",
          "text": [
            "\n",
            "\n",
            "US$ 217.9\n"
          ]
        },
        {
          "output_type": "stream",
          "name": "stderr",
          "text": [
            "\n"
          ]
        }
      ]
    },
    {
      "cell_type": "markdown",
      "source": [
        "- According with the LightGBM model, the supposed apartment was evaluated with a price of US$ 217.90;\n",
        "- For a single instance, that is a reasonable prediction, since it is approximately 3,2% lower than the ground truth (225);\n",
        "- In this kind of problem, predicting lower is worse than higher, since it increases loss probability. For example, on a disease binary classification problem, a false positive is better than a false negative. Diagnosed as sick but in fact not be, is better than being diagnosed as healthy and having a disease."
      ],
      "metadata": {
        "id": "q2qdG9JBK8CU"
      }
    },
    {
      "cell_type": "markdown",
      "source": [
        "# **7. Future Steps**\n",
        "\n",
        "- Fine tuning with more parameters and more hyperparameters combinations;\n",
        "- Consider applying PCA in fine tuning stage to find the optimal number of components retaining most of the original information and reduce the dimensions of the dataset to fit the model (consequently reducing computational cost and execution time);\n",
        "- Build a complete production pipeline for using the model (Preprocessing, Transformers, Model, ...);\n",
        "- Play with instance selection to reduce dataset size, computational cost and execution time without impacting negatively on model's performance;\n",
        "- Explore NLP techniques with _Name_ column (possible feature engineering);\n",
        "- Consider expanding the dataset with other sources."
      ],
      "metadata": {
        "id": "furuZijDLUWv"
      }
    }
  ]
}