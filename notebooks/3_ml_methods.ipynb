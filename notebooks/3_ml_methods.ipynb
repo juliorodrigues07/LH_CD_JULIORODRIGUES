{
  "nbformat": 4,
  "nbformat_minor": 0,
  "metadata": {
    "colab": {
      "provenance": [],
      "authorship_tag": "ABX9TyNTV/qhF86S9a5O+UVUf/xK",
      "include_colab_link": true
    },
    "kernelspec": {
      "name": "python3",
      "display_name": "Python 3"
    },
    "language_info": {
      "name": "python"
    }
  },
  "cells": [
    {
      "cell_type": "markdown",
      "metadata": {
        "id": "view-in-github",
        "colab_type": "text"
      },
      "source": [
        "<a href=\"https://colab.research.google.com/github/juliorodrigues07/LH_CD_JULIORODRIGUES/blob/extras/notebooks/3_ml_methods.ipynb\" target=\"_parent\"><img src=\"https://colab.research.google.com/assets/colab-badge.svg\" alt=\"Open In Colab\"/></a>"
      ]
    },
    {
      "cell_type": "markdown",
      "source": [
        "# **Imports, export directories and preprocessed dataset**"
      ],
      "metadata": {
        "id": "VD74znZhnlYN"
      }
    },
    {
      "cell_type": "code",
      "source": [
        "!pip install -U kaleido\n",
        "import pandas as pd\n",
        "import gdown\n",
        "from warnings import filterwarnings\n",
        "from os.path import isdir\n",
        "from os import getcwd\n",
        "from os import mkdir\n",
        "\n",
        "\n",
        "filterwarnings('ignore', category=DeprecationWarning)\n",
        "filterwarnings('ignore', category=FutureWarning)\n",
        "\n",
        "# Export directories\n",
        "if not isdir(f'{getcwd()}/../plots'):\n",
        "    mkdir(f'{getcwd()}/../plots')\n",
        "if not isdir(f'{getcwd()}/../models'):\n",
        "    mkdir(f'{getcwd()}/../models')\n",
        "if not isdir(f'{getcwd()}/../datasets'):\n",
        "    mkdir(f'{getcwd()}/../datasets')\n",
        "\n",
        "dataset_file = \"preprocessed.parquet\"\n",
        "file_id = '1KrqLaStIHwSq6xFCHtt0wcMn0F9ImaO4'\n",
        "gdown.download(f'https://drive.google.com/uc?id={file_id}', dataset_file)\n",
        "\n",
        "dataset = pd.read_parquet(dataset_file)"
      ],
      "metadata": {
        "colab": {
          "base_uri": "https://localhost:8080/"
        },
        "id": "-q5Cjq5JnINN",
        "outputId": "8c20d665-980c-4fa5-97b6-12679c5f8a78"
      },
      "execution_count": 2,
      "outputs": [
        {
          "output_type": "stream",
          "name": "stdout",
          "text": [
            "Requirement already satisfied: kaleido in /usr/local/lib/python3.10/dist-packages (0.2.1)\n"
          ]
        },
        {
          "output_type": "stream",
          "name": "stderr",
          "text": [
            "Downloading...\n",
            "From: https://drive.google.com/uc?id=1KrqLaStIHwSq6xFCHtt0wcMn0F9ImaO4\n",
            "To: /content/preprocessed.parquet\n",
            "100%|██████████| 527k/527k [00:00<00:00, 75.3MB/s]\n"
          ]
        }
      ]
    },
    {
      "cell_type": "markdown",
      "source": [
        "# **1. First impressions with different models**\n",
        "\n",
        "- _Disclaimer_: All the models evaluation is done with cross validation (5-folds).\n"
      ],
      "metadata": {
        "id": "jqnG_vkyn3VW"
      }
    },
    {
      "cell_type": "code",
      "execution_count": 3,
      "metadata": {
        "id": "50kwz1Nu_5Od"
      },
      "outputs": [],
      "source": [
        "from sklearn.ensemble import HistGradientBoostingRegressor\n",
        "from sklearn.model_selection import cross_validate\n",
        "from sklearn.model_selection import KFold\n",
        "from sklearn.linear_model import LinearRegression\n",
        "from sklearn.neighbors import KNeighborsRegressor\n",
        "from sklearn.preprocessing import StandardScaler\n",
        "from sklearn.pipeline import Pipeline\n",
        "from lightgbm import LGBMRegressor\n",
        "from xgboost import XGBRegressor\n",
        "\n",
        "\n",
        "fitting = dataset.copy()\n",
        "model_features = fitting.drop(['Price'], axis='columns')\n",
        "model_classes = fitting['Price']\n",
        "\n",
        "scaler = StandardScaler()\n",
        "\n",
        "lr_pipeline = Pipeline(steps=[\n",
        "    ('scaler', scaler),\n",
        "    ('regressor', LinearRegression())\n",
        "])\n",
        "\n",
        "knn_pipeline = Pipeline(steps=[\n",
        "    ('scaler', scaler),\n",
        "    ('regressor', KNeighborsRegressor(n_jobs=-1))\n",
        "])\n",
        "\n",
        "xgb_pipeline = Pipeline(steps=[\n",
        "    ('scaler', scaler),\n",
        "    ('regressor', XGBRegressor(n_jobs=-1))\n",
        "])\n",
        "\n",
        "lgbm_pipeline = Pipeline(steps=[\n",
        "    ('scaler', scaler),\n",
        "    ('regressor', LGBMRegressor(n_jobs=-1, verbose=-1))\n",
        "])\n",
        "\n",
        "hist_pipeline = Pipeline(steps=[\n",
        "    ('scaler', scaler),\n",
        "    ('regressor', HistGradientBoostingRegressor())\n",
        "])\n",
        "\n",
        "pipelines = {\n",
        "    'Linear Regression': lr_pipeline,\n",
        "    'KNN': knn_pipeline,\n",
        "    'XGBoost': xgb_pipeline,\n",
        "    'LightGBM': lgbm_pipeline,\n",
        "    'HistGB': hist_pipeline\n",
        "}\n",
        "\n",
        "mean_results, std_results = pd.DataFrame(), pd.DataFrame()\n",
        "mean_results['Metric'] = std_results['Metric'] = ['R²', 'MAE', 'RMSE']\n",
        "\n",
        "# 5-fold cross-validation\n",
        "for key in pipelines:\n",
        "    scores = cross_validate(\n",
        "        estimator=pipelines[key],\n",
        "        X=model_features,\n",
        "        y=model_classes,\n",
        "        cv=KFold(n_splits=5, shuffle=True),\n",
        "        scoring=('r2', 'neg_mean_absolute_error', 'neg_root_mean_squared_error'),\n",
        "        n_jobs=-1\n",
        "    )\n",
        "    mean_results[key] = [scores['test_r2'].mean(),\n",
        "                         abs(scores['test_neg_mean_absolute_error'].mean()),\n",
        "                         abs(scores['test_neg_root_mean_squared_error'].mean())]\n",
        "    std_results[key] = [scores['test_r2'].std(),\n",
        "                        abs(scores['test_neg_mean_absolute_error'].std()),\n",
        "                        abs(scores['test_neg_root_mean_squared_error'].std())]"
      ]
    },
    {
      "cell_type": "markdown",
      "source": [
        "## **1.1. Average R², MAE and RMSE by model**\n",
        "\n",
        "- Metrics used:\n",
        "    - R² (a.k.a., Coefficient of Determination);\n",
        "    - MAE (Mean Absolute Error);\n",
        "    - RMSE (Root Mean Squared Error).\n",
        "- R² represents the data's percentage variance which is explained by the model. In other words, the greater R² value is, the more explanatory the model is in relation to predicted data;\n",
        "- The main metric selected to evaluate the model's performance was R², since it's extremely simple to interpret. In contrast with metrics like RMSE or MAE, R² has a well define interval which it can assume [0, 1];\n",
        "- MAE and RMSE both represents the average between predictions and ground truth;\n",
        "- However, MAE is robust to outliers, while RMSE implements the idea of penalties with extreme values;\n",
        "- For instance, a MAE or RMSE of 40 would indicate that on average, the absolute difference between the price predicted and the real value is 40."
      ],
      "metadata": {
        "id": "5as_IhGhtFgE"
      }
    },
    {
      "cell_type": "code",
      "source": [
        "mean_results"
      ],
      "metadata": {
        "colab": {
          "base_uri": "https://localhost:8080/",
          "height": 143
        },
        "id": "P5QNui1a_9RU",
        "outputId": "7f4f3a8c-f228-4c15-a1b8-e7c164f9e2b7"
      },
      "execution_count": 4,
      "outputs": [
        {
          "output_type": "execute_result",
          "data": {
            "text/plain": [
              "  Metric  Linear Regression        KNN    XGBoost   LightGBM     HistGB\n",
              "0     R²           0.481037   0.488266   0.579075   0.584796   0.585081\n",
              "1    MAE          36.543461  34.967939  31.798023  31.577319  31.580199\n",
              "2   RMSE          49.059467  48.725337  44.192630  43.890428  43.873280"
            ],
            "text/html": [
              "\n",
              "  <div id=\"df-400e4681-cd26-43de-b80d-2ed741114391\" class=\"colab-df-container\">\n",
              "    <div>\n",
              "<style scoped>\n",
              "    .dataframe tbody tr th:only-of-type {\n",
              "        vertical-align: middle;\n",
              "    }\n",
              "\n",
              "    .dataframe tbody tr th {\n",
              "        vertical-align: top;\n",
              "    }\n",
              "\n",
              "    .dataframe thead th {\n",
              "        text-align: right;\n",
              "    }\n",
              "</style>\n",
              "<table border=\"1\" class=\"dataframe\">\n",
              "  <thead>\n",
              "    <tr style=\"text-align: right;\">\n",
              "      <th></th>\n",
              "      <th>Metric</th>\n",
              "      <th>Linear Regression</th>\n",
              "      <th>KNN</th>\n",
              "      <th>XGBoost</th>\n",
              "      <th>LightGBM</th>\n",
              "      <th>HistGB</th>\n",
              "    </tr>\n",
              "  </thead>\n",
              "  <tbody>\n",
              "    <tr>\n",
              "      <th>0</th>\n",
              "      <td>R²</td>\n",
              "      <td>0.481037</td>\n",
              "      <td>0.488266</td>\n",
              "      <td>0.579075</td>\n",
              "      <td>0.584796</td>\n",
              "      <td>0.585081</td>\n",
              "    </tr>\n",
              "    <tr>\n",
              "      <th>1</th>\n",
              "      <td>MAE</td>\n",
              "      <td>36.543461</td>\n",
              "      <td>34.967939</td>\n",
              "      <td>31.798023</td>\n",
              "      <td>31.577319</td>\n",
              "      <td>31.580199</td>\n",
              "    </tr>\n",
              "    <tr>\n",
              "      <th>2</th>\n",
              "      <td>RMSE</td>\n",
              "      <td>49.059467</td>\n",
              "      <td>48.725337</td>\n",
              "      <td>44.192630</td>\n",
              "      <td>43.890428</td>\n",
              "      <td>43.873280</td>\n",
              "    </tr>\n",
              "  </tbody>\n",
              "</table>\n",
              "</div>\n",
              "    <div class=\"colab-df-buttons\">\n",
              "\n",
              "  <div class=\"colab-df-container\">\n",
              "    <button class=\"colab-df-convert\" onclick=\"convertToInteractive('df-400e4681-cd26-43de-b80d-2ed741114391')\"\n",
              "            title=\"Convert this dataframe to an interactive table.\"\n",
              "            style=\"display:none;\">\n",
              "\n",
              "  <svg xmlns=\"http://www.w3.org/2000/svg\" height=\"24px\" viewBox=\"0 -960 960 960\">\n",
              "    <path d=\"M120-120v-720h720v720H120Zm60-500h600v-160H180v160Zm220 220h160v-160H400v160Zm0 220h160v-160H400v160ZM180-400h160v-160H180v160Zm440 0h160v-160H620v160ZM180-180h160v-160H180v160Zm440 0h160v-160H620v160Z\"/>\n",
              "  </svg>\n",
              "    </button>\n",
              "\n",
              "  <style>\n",
              "    .colab-df-container {\n",
              "      display:flex;\n",
              "      gap: 12px;\n",
              "    }\n",
              "\n",
              "    .colab-df-convert {\n",
              "      background-color: #E8F0FE;\n",
              "      border: none;\n",
              "      border-radius: 50%;\n",
              "      cursor: pointer;\n",
              "      display: none;\n",
              "      fill: #1967D2;\n",
              "      height: 32px;\n",
              "      padding: 0 0 0 0;\n",
              "      width: 32px;\n",
              "    }\n",
              "\n",
              "    .colab-df-convert:hover {\n",
              "      background-color: #E2EBFA;\n",
              "      box-shadow: 0px 1px 2px rgba(60, 64, 67, 0.3), 0px 1px 3px 1px rgba(60, 64, 67, 0.15);\n",
              "      fill: #174EA6;\n",
              "    }\n",
              "\n",
              "    .colab-df-buttons div {\n",
              "      margin-bottom: 4px;\n",
              "    }\n",
              "\n",
              "    [theme=dark] .colab-df-convert {\n",
              "      background-color: #3B4455;\n",
              "      fill: #D2E3FC;\n",
              "    }\n",
              "\n",
              "    [theme=dark] .colab-df-convert:hover {\n",
              "      background-color: #434B5C;\n",
              "      box-shadow: 0px 1px 3px 1px rgba(0, 0, 0, 0.15);\n",
              "      filter: drop-shadow(0px 1px 2px rgba(0, 0, 0, 0.3));\n",
              "      fill: #FFFFFF;\n",
              "    }\n",
              "  </style>\n",
              "\n",
              "    <script>\n",
              "      const buttonEl =\n",
              "        document.querySelector('#df-400e4681-cd26-43de-b80d-2ed741114391 button.colab-df-convert');\n",
              "      buttonEl.style.display =\n",
              "        google.colab.kernel.accessAllowed ? 'block' : 'none';\n",
              "\n",
              "      async function convertToInteractive(key) {\n",
              "        const element = document.querySelector('#df-400e4681-cd26-43de-b80d-2ed741114391');\n",
              "        const dataTable =\n",
              "          await google.colab.kernel.invokeFunction('convertToInteractive',\n",
              "                                                    [key], {});\n",
              "        if (!dataTable) return;\n",
              "\n",
              "        const docLinkHtml = 'Like what you see? Visit the ' +\n",
              "          '<a target=\"_blank\" href=https://colab.research.google.com/notebooks/data_table.ipynb>data table notebook</a>'\n",
              "          + ' to learn more about interactive tables.';\n",
              "        element.innerHTML = '';\n",
              "        dataTable['output_type'] = 'display_data';\n",
              "        await google.colab.output.renderOutput(dataTable, element);\n",
              "        const docLink = document.createElement('div');\n",
              "        docLink.innerHTML = docLinkHtml;\n",
              "        element.appendChild(docLink);\n",
              "      }\n",
              "    </script>\n",
              "  </div>\n",
              "\n",
              "\n",
              "<div id=\"df-ee864c7a-3b96-4b3a-b37e-7f198e45fb31\">\n",
              "  <button class=\"colab-df-quickchart\" onclick=\"quickchart('df-ee864c7a-3b96-4b3a-b37e-7f198e45fb31')\"\n",
              "            title=\"Suggest charts\"\n",
              "            style=\"display:none;\">\n",
              "\n",
              "<svg xmlns=\"http://www.w3.org/2000/svg\" height=\"24px\"viewBox=\"0 0 24 24\"\n",
              "     width=\"24px\">\n",
              "    <g>\n",
              "        <path d=\"M19 3H5c-1.1 0-2 .9-2 2v14c0 1.1.9 2 2 2h14c1.1 0 2-.9 2-2V5c0-1.1-.9-2-2-2zM9 17H7v-7h2v7zm4 0h-2V7h2v10zm4 0h-2v-4h2v4z\"/>\n",
              "    </g>\n",
              "</svg>\n",
              "  </button>\n",
              "\n",
              "<style>\n",
              "  .colab-df-quickchart {\n",
              "      --bg-color: #E8F0FE;\n",
              "      --fill-color: #1967D2;\n",
              "      --hover-bg-color: #E2EBFA;\n",
              "      --hover-fill-color: #174EA6;\n",
              "      --disabled-fill-color: #AAA;\n",
              "      --disabled-bg-color: #DDD;\n",
              "  }\n",
              "\n",
              "  [theme=dark] .colab-df-quickchart {\n",
              "      --bg-color: #3B4455;\n",
              "      --fill-color: #D2E3FC;\n",
              "      --hover-bg-color: #434B5C;\n",
              "      --hover-fill-color: #FFFFFF;\n",
              "      --disabled-bg-color: #3B4455;\n",
              "      --disabled-fill-color: #666;\n",
              "  }\n",
              "\n",
              "  .colab-df-quickchart {\n",
              "    background-color: var(--bg-color);\n",
              "    border: none;\n",
              "    border-radius: 50%;\n",
              "    cursor: pointer;\n",
              "    display: none;\n",
              "    fill: var(--fill-color);\n",
              "    height: 32px;\n",
              "    padding: 0;\n",
              "    width: 32px;\n",
              "  }\n",
              "\n",
              "  .colab-df-quickchart:hover {\n",
              "    background-color: var(--hover-bg-color);\n",
              "    box-shadow: 0 1px 2px rgba(60, 64, 67, 0.3), 0 1px 3px 1px rgba(60, 64, 67, 0.15);\n",
              "    fill: var(--button-hover-fill-color);\n",
              "  }\n",
              "\n",
              "  .colab-df-quickchart-complete:disabled,\n",
              "  .colab-df-quickchart-complete:disabled:hover {\n",
              "    background-color: var(--disabled-bg-color);\n",
              "    fill: var(--disabled-fill-color);\n",
              "    box-shadow: none;\n",
              "  }\n",
              "\n",
              "  .colab-df-spinner {\n",
              "    border: 2px solid var(--fill-color);\n",
              "    border-color: transparent;\n",
              "    border-bottom-color: var(--fill-color);\n",
              "    animation:\n",
              "      spin 1s steps(1) infinite;\n",
              "  }\n",
              "\n",
              "  @keyframes spin {\n",
              "    0% {\n",
              "      border-color: transparent;\n",
              "      border-bottom-color: var(--fill-color);\n",
              "      border-left-color: var(--fill-color);\n",
              "    }\n",
              "    20% {\n",
              "      border-color: transparent;\n",
              "      border-left-color: var(--fill-color);\n",
              "      border-top-color: var(--fill-color);\n",
              "    }\n",
              "    30% {\n",
              "      border-color: transparent;\n",
              "      border-left-color: var(--fill-color);\n",
              "      border-top-color: var(--fill-color);\n",
              "      border-right-color: var(--fill-color);\n",
              "    }\n",
              "    40% {\n",
              "      border-color: transparent;\n",
              "      border-right-color: var(--fill-color);\n",
              "      border-top-color: var(--fill-color);\n",
              "    }\n",
              "    60% {\n",
              "      border-color: transparent;\n",
              "      border-right-color: var(--fill-color);\n",
              "    }\n",
              "    80% {\n",
              "      border-color: transparent;\n",
              "      border-right-color: var(--fill-color);\n",
              "      border-bottom-color: var(--fill-color);\n",
              "    }\n",
              "    90% {\n",
              "      border-color: transparent;\n",
              "      border-bottom-color: var(--fill-color);\n",
              "    }\n",
              "  }\n",
              "</style>\n",
              "\n",
              "  <script>\n",
              "    async function quickchart(key) {\n",
              "      const quickchartButtonEl =\n",
              "        document.querySelector('#' + key + ' button');\n",
              "      quickchartButtonEl.disabled = true;  // To prevent multiple clicks.\n",
              "      quickchartButtonEl.classList.add('colab-df-spinner');\n",
              "      try {\n",
              "        const charts = await google.colab.kernel.invokeFunction(\n",
              "            'suggestCharts', [key], {});\n",
              "      } catch (error) {\n",
              "        console.error('Error during call to suggestCharts:', error);\n",
              "      }\n",
              "      quickchartButtonEl.classList.remove('colab-df-spinner');\n",
              "      quickchartButtonEl.classList.add('colab-df-quickchart-complete');\n",
              "    }\n",
              "    (() => {\n",
              "      let quickchartButtonEl =\n",
              "        document.querySelector('#df-ee864c7a-3b96-4b3a-b37e-7f198e45fb31 button');\n",
              "      quickchartButtonEl.style.display =\n",
              "        google.colab.kernel.accessAllowed ? 'block' : 'none';\n",
              "    })();\n",
              "  </script>\n",
              "</div>\n",
              "\n",
              "  <div id=\"id_18ed9736-8eb3-4102-afb9-46f9ff62bc1a\">\n",
              "    <style>\n",
              "      .colab-df-generate {\n",
              "        background-color: #E8F0FE;\n",
              "        border: none;\n",
              "        border-radius: 50%;\n",
              "        cursor: pointer;\n",
              "        display: none;\n",
              "        fill: #1967D2;\n",
              "        height: 32px;\n",
              "        padding: 0 0 0 0;\n",
              "        width: 32px;\n",
              "      }\n",
              "\n",
              "      .colab-df-generate:hover {\n",
              "        background-color: #E2EBFA;\n",
              "        box-shadow: 0px 1px 2px rgba(60, 64, 67, 0.3), 0px 1px 3px 1px rgba(60, 64, 67, 0.15);\n",
              "        fill: #174EA6;\n",
              "      }\n",
              "\n",
              "      [theme=dark] .colab-df-generate {\n",
              "        background-color: #3B4455;\n",
              "        fill: #D2E3FC;\n",
              "      }\n",
              "\n",
              "      [theme=dark] .colab-df-generate:hover {\n",
              "        background-color: #434B5C;\n",
              "        box-shadow: 0px 1px 3px 1px rgba(0, 0, 0, 0.15);\n",
              "        filter: drop-shadow(0px 1px 2px rgba(0, 0, 0, 0.3));\n",
              "        fill: #FFFFFF;\n",
              "      }\n",
              "    </style>\n",
              "    <button class=\"colab-df-generate\" onclick=\"generateWithVariable('mean_results')\"\n",
              "            title=\"Generate code using this dataframe.\"\n",
              "            style=\"display:none;\">\n",
              "\n",
              "  <svg xmlns=\"http://www.w3.org/2000/svg\" height=\"24px\"viewBox=\"0 0 24 24\"\n",
              "       width=\"24px\">\n",
              "    <path d=\"M7,19H8.4L18.45,9,17,7.55,7,17.6ZM5,21V16.75L18.45,3.32a2,2,0,0,1,2.83,0l1.4,1.43a1.91,1.91,0,0,1,.58,1.4,1.91,1.91,0,0,1-.58,1.4L9.25,21ZM18.45,9,17,7.55Zm-12,3A5.31,5.31,0,0,0,4.9,8.1,5.31,5.31,0,0,0,1,6.5,5.31,5.31,0,0,0,4.9,4.9,5.31,5.31,0,0,0,6.5,1,5.31,5.31,0,0,0,8.1,4.9,5.31,5.31,0,0,0,12,6.5,5.46,5.46,0,0,0,6.5,12Z\"/>\n",
              "  </svg>\n",
              "    </button>\n",
              "    <script>\n",
              "      (() => {\n",
              "      const buttonEl =\n",
              "        document.querySelector('#id_18ed9736-8eb3-4102-afb9-46f9ff62bc1a button.colab-df-generate');\n",
              "      buttonEl.style.display =\n",
              "        google.colab.kernel.accessAllowed ? 'block' : 'none';\n",
              "\n",
              "      buttonEl.onclick = () => {\n",
              "        google.colab.notebook.generateWithVariable('mean_results');\n",
              "      }\n",
              "      })();\n",
              "    </script>\n",
              "  </div>\n",
              "\n",
              "    </div>\n",
              "  </div>\n"
            ],
            "application/vnd.google.colaboratory.intrinsic+json": {
              "type": "dataframe",
              "variable_name": "mean_results",
              "summary": "{\n  \"name\": \"mean_results\",\n  \"rows\": 3,\n  \"fields\": [\n    {\n      \"column\": \"Metric\",\n      \"properties\": {\n        \"dtype\": \"string\",\n        \"samples\": [\n          \"R\\u00b2\",\n          \"MAE\",\n          \"RMSE\"\n        ],\n        \"num_unique_values\": 3,\n        \"semantic_type\": \"\",\n        \"description\": \"\"\n      }\n    },\n    {\n      \"column\": \"Linear Regression\",\n      \"properties\": {\n        \"dtype\": \"number\",\n        \"std\": 25.22238606746671,\n        \"min\": 0.481037453026017,\n        \"max\": 49.05946655273438,\n        \"samples\": [\n          0.481037453026017,\n          36.543460845947266,\n          49.05946655273438\n        ],\n        \"num_unique_values\": 3,\n        \"semantic_type\": \"\",\n        \"description\": \"\"\n      }\n    },\n    {\n      \"column\": \"KNN\",\n      \"properties\": {\n        \"dtype\": \"number\",\n        \"std\": 24.849308492281697,\n        \"min\": 0.488266364255529,\n        \"max\": 48.72533705677816,\n        \"samples\": [\n          0.488266364255529,\n          34.96793851528787,\n          48.72533705677816\n        ],\n        \"num_unique_values\": 3,\n        \"semantic_type\": \"\",\n        \"description\": \"\"\n      }\n    },\n    {\n      \"column\": \"XGBoost\",\n      \"properties\": {\n        \"dtype\": \"number\",\n        \"std\": 22.47365548921716,\n        \"min\": 0.5790751668716746,\n        \"max\": 44.192630004882815,\n        \"samples\": [\n          0.5790751668716746,\n          31.798022842407228,\n          44.192630004882815\n        ],\n        \"num_unique_values\": 3,\n        \"semantic_type\": \"\",\n        \"description\": \"\"\n      }\n    },\n    {\n      \"column\": \"LightGBM\",\n      \"properties\": {\n        \"dtype\": \"number\",\n        \"std\": 22.31414675264299,\n        \"min\": 0.5847961651669753,\n        \"max\": 43.8904279570605,\n        \"samples\": [\n          0.5847961651669753,\n          31.577319081367033,\n          43.8904279570605\n        ],\n        \"num_unique_values\": 3,\n        \"semantic_type\": \"\",\n        \"description\": \"\"\n      }\n    },\n    {\n      \"column\": \"HistGB\",\n      \"properties\": {\n        \"dtype\": \"number\",\n        \"std\": 22.307268563810595,\n        \"min\": 0.5850806533108235,\n        \"max\": 43.87327965416802,\n        \"samples\": [\n          0.5850806533108235,\n          31.580199498204287,\n          43.87327965416802\n        ],\n        \"num_unique_values\": 3,\n        \"semantic_type\": \"\",\n        \"description\": \"\"\n      }\n    }\n  ]\n}"
            }
          },
          "metadata": {},
          "execution_count": 4
        }
      ]
    },
    {
      "cell_type": "markdown",
      "source": [
        "## **1.2. Standard deviation of R², MAE and RMSE by model**\n"
      ],
      "metadata": {
        "id": "fHp76OdItSKX"
      }
    },
    {
      "cell_type": "code",
      "source": [
        "std_results"
      ],
      "metadata": {
        "colab": {
          "base_uri": "https://localhost:8080/",
          "height": 143
        },
        "id": "S9vxxxvO_-sF",
        "outputId": "e1a82e66-7d36-4347-dcfd-f132196d8855"
      },
      "execution_count": 5,
      "outputs": [
        {
          "output_type": "execute_result",
          "data": {
            "text/plain": [
              "  Metric  Linear Regression       KNN   XGBoost  LightGBM    HistGB\n",
              "0     R²           0.007342  0.005302  0.003477  0.003095  0.008345\n",
              "1    MAE           0.436863  0.326947  0.233047  0.138687  0.369955\n",
              "2   RMSE           0.533871  0.339381  0.321310  0.160443  0.560684"
            ],
            "text/html": [
              "\n",
              "  <div id=\"df-ab689621-cc09-40e2-bb60-81b8a81e8fc3\" class=\"colab-df-container\">\n",
              "    <div>\n",
              "<style scoped>\n",
              "    .dataframe tbody tr th:only-of-type {\n",
              "        vertical-align: middle;\n",
              "    }\n",
              "\n",
              "    .dataframe tbody tr th {\n",
              "        vertical-align: top;\n",
              "    }\n",
              "\n",
              "    .dataframe thead th {\n",
              "        text-align: right;\n",
              "    }\n",
              "</style>\n",
              "<table border=\"1\" class=\"dataframe\">\n",
              "  <thead>\n",
              "    <tr style=\"text-align: right;\">\n",
              "      <th></th>\n",
              "      <th>Metric</th>\n",
              "      <th>Linear Regression</th>\n",
              "      <th>KNN</th>\n",
              "      <th>XGBoost</th>\n",
              "      <th>LightGBM</th>\n",
              "      <th>HistGB</th>\n",
              "    </tr>\n",
              "  </thead>\n",
              "  <tbody>\n",
              "    <tr>\n",
              "      <th>0</th>\n",
              "      <td>R²</td>\n",
              "      <td>0.007342</td>\n",
              "      <td>0.005302</td>\n",
              "      <td>0.003477</td>\n",
              "      <td>0.003095</td>\n",
              "      <td>0.008345</td>\n",
              "    </tr>\n",
              "    <tr>\n",
              "      <th>1</th>\n",
              "      <td>MAE</td>\n",
              "      <td>0.436863</td>\n",
              "      <td>0.326947</td>\n",
              "      <td>0.233047</td>\n",
              "      <td>0.138687</td>\n",
              "      <td>0.369955</td>\n",
              "    </tr>\n",
              "    <tr>\n",
              "      <th>2</th>\n",
              "      <td>RMSE</td>\n",
              "      <td>0.533871</td>\n",
              "      <td>0.339381</td>\n",
              "      <td>0.321310</td>\n",
              "      <td>0.160443</td>\n",
              "      <td>0.560684</td>\n",
              "    </tr>\n",
              "  </tbody>\n",
              "</table>\n",
              "</div>\n",
              "    <div class=\"colab-df-buttons\">\n",
              "\n",
              "  <div class=\"colab-df-container\">\n",
              "    <button class=\"colab-df-convert\" onclick=\"convertToInteractive('df-ab689621-cc09-40e2-bb60-81b8a81e8fc3')\"\n",
              "            title=\"Convert this dataframe to an interactive table.\"\n",
              "            style=\"display:none;\">\n",
              "\n",
              "  <svg xmlns=\"http://www.w3.org/2000/svg\" height=\"24px\" viewBox=\"0 -960 960 960\">\n",
              "    <path d=\"M120-120v-720h720v720H120Zm60-500h600v-160H180v160Zm220 220h160v-160H400v160Zm0 220h160v-160H400v160ZM180-400h160v-160H180v160Zm440 0h160v-160H620v160ZM180-180h160v-160H180v160Zm440 0h160v-160H620v160Z\"/>\n",
              "  </svg>\n",
              "    </button>\n",
              "\n",
              "  <style>\n",
              "    .colab-df-container {\n",
              "      display:flex;\n",
              "      gap: 12px;\n",
              "    }\n",
              "\n",
              "    .colab-df-convert {\n",
              "      background-color: #E8F0FE;\n",
              "      border: none;\n",
              "      border-radius: 50%;\n",
              "      cursor: pointer;\n",
              "      display: none;\n",
              "      fill: #1967D2;\n",
              "      height: 32px;\n",
              "      padding: 0 0 0 0;\n",
              "      width: 32px;\n",
              "    }\n",
              "\n",
              "    .colab-df-convert:hover {\n",
              "      background-color: #E2EBFA;\n",
              "      box-shadow: 0px 1px 2px rgba(60, 64, 67, 0.3), 0px 1px 3px 1px rgba(60, 64, 67, 0.15);\n",
              "      fill: #174EA6;\n",
              "    }\n",
              "\n",
              "    .colab-df-buttons div {\n",
              "      margin-bottom: 4px;\n",
              "    }\n",
              "\n",
              "    [theme=dark] .colab-df-convert {\n",
              "      background-color: #3B4455;\n",
              "      fill: #D2E3FC;\n",
              "    }\n",
              "\n",
              "    [theme=dark] .colab-df-convert:hover {\n",
              "      background-color: #434B5C;\n",
              "      box-shadow: 0px 1px 3px 1px rgba(0, 0, 0, 0.15);\n",
              "      filter: drop-shadow(0px 1px 2px rgba(0, 0, 0, 0.3));\n",
              "      fill: #FFFFFF;\n",
              "    }\n",
              "  </style>\n",
              "\n",
              "    <script>\n",
              "      const buttonEl =\n",
              "        document.querySelector('#df-ab689621-cc09-40e2-bb60-81b8a81e8fc3 button.colab-df-convert');\n",
              "      buttonEl.style.display =\n",
              "        google.colab.kernel.accessAllowed ? 'block' : 'none';\n",
              "\n",
              "      async function convertToInteractive(key) {\n",
              "        const element = document.querySelector('#df-ab689621-cc09-40e2-bb60-81b8a81e8fc3');\n",
              "        const dataTable =\n",
              "          await google.colab.kernel.invokeFunction('convertToInteractive',\n",
              "                                                    [key], {});\n",
              "        if (!dataTable) return;\n",
              "\n",
              "        const docLinkHtml = 'Like what you see? Visit the ' +\n",
              "          '<a target=\"_blank\" href=https://colab.research.google.com/notebooks/data_table.ipynb>data table notebook</a>'\n",
              "          + ' to learn more about interactive tables.';\n",
              "        element.innerHTML = '';\n",
              "        dataTable['output_type'] = 'display_data';\n",
              "        await google.colab.output.renderOutput(dataTable, element);\n",
              "        const docLink = document.createElement('div');\n",
              "        docLink.innerHTML = docLinkHtml;\n",
              "        element.appendChild(docLink);\n",
              "      }\n",
              "    </script>\n",
              "  </div>\n",
              "\n",
              "\n",
              "<div id=\"df-81149ac0-1d0f-4273-9d20-98817bf997ca\">\n",
              "  <button class=\"colab-df-quickchart\" onclick=\"quickchart('df-81149ac0-1d0f-4273-9d20-98817bf997ca')\"\n",
              "            title=\"Suggest charts\"\n",
              "            style=\"display:none;\">\n",
              "\n",
              "<svg xmlns=\"http://www.w3.org/2000/svg\" height=\"24px\"viewBox=\"0 0 24 24\"\n",
              "     width=\"24px\">\n",
              "    <g>\n",
              "        <path d=\"M19 3H5c-1.1 0-2 .9-2 2v14c0 1.1.9 2 2 2h14c1.1 0 2-.9 2-2V5c0-1.1-.9-2-2-2zM9 17H7v-7h2v7zm4 0h-2V7h2v10zm4 0h-2v-4h2v4z\"/>\n",
              "    </g>\n",
              "</svg>\n",
              "  </button>\n",
              "\n",
              "<style>\n",
              "  .colab-df-quickchart {\n",
              "      --bg-color: #E8F0FE;\n",
              "      --fill-color: #1967D2;\n",
              "      --hover-bg-color: #E2EBFA;\n",
              "      --hover-fill-color: #174EA6;\n",
              "      --disabled-fill-color: #AAA;\n",
              "      --disabled-bg-color: #DDD;\n",
              "  }\n",
              "\n",
              "  [theme=dark] .colab-df-quickchart {\n",
              "      --bg-color: #3B4455;\n",
              "      --fill-color: #D2E3FC;\n",
              "      --hover-bg-color: #434B5C;\n",
              "      --hover-fill-color: #FFFFFF;\n",
              "      --disabled-bg-color: #3B4455;\n",
              "      --disabled-fill-color: #666;\n",
              "  }\n",
              "\n",
              "  .colab-df-quickchart {\n",
              "    background-color: var(--bg-color);\n",
              "    border: none;\n",
              "    border-radius: 50%;\n",
              "    cursor: pointer;\n",
              "    display: none;\n",
              "    fill: var(--fill-color);\n",
              "    height: 32px;\n",
              "    padding: 0;\n",
              "    width: 32px;\n",
              "  }\n",
              "\n",
              "  .colab-df-quickchart:hover {\n",
              "    background-color: var(--hover-bg-color);\n",
              "    box-shadow: 0 1px 2px rgba(60, 64, 67, 0.3), 0 1px 3px 1px rgba(60, 64, 67, 0.15);\n",
              "    fill: var(--button-hover-fill-color);\n",
              "  }\n",
              "\n",
              "  .colab-df-quickchart-complete:disabled,\n",
              "  .colab-df-quickchart-complete:disabled:hover {\n",
              "    background-color: var(--disabled-bg-color);\n",
              "    fill: var(--disabled-fill-color);\n",
              "    box-shadow: none;\n",
              "  }\n",
              "\n",
              "  .colab-df-spinner {\n",
              "    border: 2px solid var(--fill-color);\n",
              "    border-color: transparent;\n",
              "    border-bottom-color: var(--fill-color);\n",
              "    animation:\n",
              "      spin 1s steps(1) infinite;\n",
              "  }\n",
              "\n",
              "  @keyframes spin {\n",
              "    0% {\n",
              "      border-color: transparent;\n",
              "      border-bottom-color: var(--fill-color);\n",
              "      border-left-color: var(--fill-color);\n",
              "    }\n",
              "    20% {\n",
              "      border-color: transparent;\n",
              "      border-left-color: var(--fill-color);\n",
              "      border-top-color: var(--fill-color);\n",
              "    }\n",
              "    30% {\n",
              "      border-color: transparent;\n",
              "      border-left-color: var(--fill-color);\n",
              "      border-top-color: var(--fill-color);\n",
              "      border-right-color: var(--fill-color);\n",
              "    }\n",
              "    40% {\n",
              "      border-color: transparent;\n",
              "      border-right-color: var(--fill-color);\n",
              "      border-top-color: var(--fill-color);\n",
              "    }\n",
              "    60% {\n",
              "      border-color: transparent;\n",
              "      border-right-color: var(--fill-color);\n",
              "    }\n",
              "    80% {\n",
              "      border-color: transparent;\n",
              "      border-right-color: var(--fill-color);\n",
              "      border-bottom-color: var(--fill-color);\n",
              "    }\n",
              "    90% {\n",
              "      border-color: transparent;\n",
              "      border-bottom-color: var(--fill-color);\n",
              "    }\n",
              "  }\n",
              "</style>\n",
              "\n",
              "  <script>\n",
              "    async function quickchart(key) {\n",
              "      const quickchartButtonEl =\n",
              "        document.querySelector('#' + key + ' button');\n",
              "      quickchartButtonEl.disabled = true;  // To prevent multiple clicks.\n",
              "      quickchartButtonEl.classList.add('colab-df-spinner');\n",
              "      try {\n",
              "        const charts = await google.colab.kernel.invokeFunction(\n",
              "            'suggestCharts', [key], {});\n",
              "      } catch (error) {\n",
              "        console.error('Error during call to suggestCharts:', error);\n",
              "      }\n",
              "      quickchartButtonEl.classList.remove('colab-df-spinner');\n",
              "      quickchartButtonEl.classList.add('colab-df-quickchart-complete');\n",
              "    }\n",
              "    (() => {\n",
              "      let quickchartButtonEl =\n",
              "        document.querySelector('#df-81149ac0-1d0f-4273-9d20-98817bf997ca button');\n",
              "      quickchartButtonEl.style.display =\n",
              "        google.colab.kernel.accessAllowed ? 'block' : 'none';\n",
              "    })();\n",
              "  </script>\n",
              "</div>\n",
              "\n",
              "  <div id=\"id_ae8bd9f6-2da2-4047-bf63-5d26e461beaf\">\n",
              "    <style>\n",
              "      .colab-df-generate {\n",
              "        background-color: #E8F0FE;\n",
              "        border: none;\n",
              "        border-radius: 50%;\n",
              "        cursor: pointer;\n",
              "        display: none;\n",
              "        fill: #1967D2;\n",
              "        height: 32px;\n",
              "        padding: 0 0 0 0;\n",
              "        width: 32px;\n",
              "      }\n",
              "\n",
              "      .colab-df-generate:hover {\n",
              "        background-color: #E2EBFA;\n",
              "        box-shadow: 0px 1px 2px rgba(60, 64, 67, 0.3), 0px 1px 3px 1px rgba(60, 64, 67, 0.15);\n",
              "        fill: #174EA6;\n",
              "      }\n",
              "\n",
              "      [theme=dark] .colab-df-generate {\n",
              "        background-color: #3B4455;\n",
              "        fill: #D2E3FC;\n",
              "      }\n",
              "\n",
              "      [theme=dark] .colab-df-generate:hover {\n",
              "        background-color: #434B5C;\n",
              "        box-shadow: 0px 1px 3px 1px rgba(0, 0, 0, 0.15);\n",
              "        filter: drop-shadow(0px 1px 2px rgba(0, 0, 0, 0.3));\n",
              "        fill: #FFFFFF;\n",
              "      }\n",
              "    </style>\n",
              "    <button class=\"colab-df-generate\" onclick=\"generateWithVariable('std_results')\"\n",
              "            title=\"Generate code using this dataframe.\"\n",
              "            style=\"display:none;\">\n",
              "\n",
              "  <svg xmlns=\"http://www.w3.org/2000/svg\" height=\"24px\"viewBox=\"0 0 24 24\"\n",
              "       width=\"24px\">\n",
              "    <path d=\"M7,19H8.4L18.45,9,17,7.55,7,17.6ZM5,21V16.75L18.45,3.32a2,2,0,0,1,2.83,0l1.4,1.43a1.91,1.91,0,0,1,.58,1.4,1.91,1.91,0,0,1-.58,1.4L9.25,21ZM18.45,9,17,7.55Zm-12,3A5.31,5.31,0,0,0,4.9,8.1,5.31,5.31,0,0,0,1,6.5,5.31,5.31,0,0,0,4.9,4.9,5.31,5.31,0,0,0,6.5,1,5.31,5.31,0,0,0,8.1,4.9,5.31,5.31,0,0,0,12,6.5,5.46,5.46,0,0,0,6.5,12Z\"/>\n",
              "  </svg>\n",
              "    </button>\n",
              "    <script>\n",
              "      (() => {\n",
              "      const buttonEl =\n",
              "        document.querySelector('#id_ae8bd9f6-2da2-4047-bf63-5d26e461beaf button.colab-df-generate');\n",
              "      buttonEl.style.display =\n",
              "        google.colab.kernel.accessAllowed ? 'block' : 'none';\n",
              "\n",
              "      buttonEl.onclick = () => {\n",
              "        google.colab.notebook.generateWithVariable('std_results');\n",
              "      }\n",
              "      })();\n",
              "    </script>\n",
              "  </div>\n",
              "\n",
              "    </div>\n",
              "  </div>\n"
            ],
            "application/vnd.google.colaboratory.intrinsic+json": {
              "type": "dataframe",
              "variable_name": "std_results",
              "summary": "{\n  \"name\": \"std_results\",\n  \"rows\": 3,\n  \"fields\": [\n    {\n      \"column\": \"Metric\",\n      \"properties\": {\n        \"dtype\": \"string\",\n        \"samples\": [\n          \"R\\u00b2\",\n          \"MAE\",\n          \"RMSE\"\n        ],\n        \"num_unique_values\": 3,\n        \"semantic_type\": \"\",\n        \"description\": \"\"\n      }\n    },\n    {\n      \"column\": \"Linear Regression\",\n      \"properties\": {\n        \"dtype\": \"number\",\n        \"std\": 0.280217786144584,\n        \"min\": 0.007341836631594142,\n        \"max\": 0.5338709818222999,\n        \"samples\": [\n          0.007341836631594142,\n          0.436863190934864,\n          0.5338709818222999\n        ],\n        \"num_unique_values\": 3,\n        \"semantic_type\": \"\",\n        \"description\": \"\"\n      }\n    },\n    {\n      \"column\": \"KNN\",\n      \"properties\": {\n        \"dtype\": \"number\",\n        \"std\": 0.1893934347677946,\n        \"min\": 0.005301635960023896,\n        \"max\": 0.3393811884583902,\n        \"samples\": [\n          0.005301635960023896,\n          0.32694658305189617,\n          0.3393811884583902\n        ],\n        \"num_unique_values\": 3,\n        \"semantic_type\": \"\",\n        \"description\": \"\"\n      }\n    },\n    {\n      \"column\": \"XGBoost\",\n      \"properties\": {\n        \"dtype\": \"number\",\n        \"std\": 0.16406820043723994,\n        \"min\": 0.0034769717777890733,\n        \"max\": 0.321309704604819,\n        \"samples\": [\n          0.0034769717777890733,\n          0.23304663706629902,\n          0.321309704604819\n        ],\n        \"num_unique_values\": 3,\n        \"semantic_type\": \"\",\n        \"description\": \"\"\n      }\n    },\n    {\n      \"column\": \"LightGBM\",\n      \"properties\": {\n        \"dtype\": \"number\",\n        \"std\": 0.0852611315064986,\n        \"min\": 0.003095442244631629,\n        \"max\": 0.1604433152237569,\n        \"samples\": [\n          0.003095442244631629,\n          0.13868701035229775,\n          0.1604433152237569\n        ],\n        \"num_unique_values\": 3,\n        \"semantic_type\": \"\",\n        \"description\": \"\"\n      }\n    },\n    {\n      \"column\": \"HistGB\",\n      \"properties\": {\n        \"dtype\": \"number\",\n        \"std\": 0.2805401728647241,\n        \"min\": 0.008345160225046345,\n        \"max\": 0.5606836367858161,\n        \"samples\": [\n          0.008345160225046345,\n          0.3699545603486995,\n          0.5606836367858161\n        ],\n        \"num_unique_values\": 3,\n        \"semantic_type\": \"\",\n        \"description\": \"\"\n      }\n    }\n  ]\n}"
            }
          },
          "metadata": {},
          "execution_count": 5
        }
      ]
    },
    {
      "cell_type": "markdown",
      "source": [
        "## **1.3. Visualization of algorithms perfomance**\n",
        "\n",
        "- We clearly see in a preliminary analysis a dead heat between _XGBoost_, _LightGBM_ and _HistGradientBoosting_ in all metrics scores;\n",
        "- However, we can already state that the classical and simpler algorithms, such as _Linear Regression_ and _KNN_, don't perform at the same level in this problem;\n",
        "- Therefore, we'll focus only on _XGBoost_, _LightGBM_ and _HistGradientBoosting_ algorithms beyond this point."
      ],
      "metadata": {
        "id": "T4S7YX_K7V0z"
      }
    },
    {
      "cell_type": "code",
      "source": [
        "get_scores = mean_results.query('Metric == \"R²\" | Metric == \"MAE\"')\n",
        "get_scores = get_scores.drop(['Metric'], axis='columns')\n",
        "\n",
        "tested_models = list(mean_results.columns.values)\n",
        "tested_models.remove('Metric')\n",
        "\n",
        "plot_scores = pd.DataFrame()\n",
        "plot_scores['Algorithm'] = tested_models\n",
        "plot_scores['R²'] = get_scores.iloc[0].values\n",
        "plot_scores['MAE'] = get_scores.iloc[1].values"
      ],
      "metadata": {
        "id": "in723KbDuNKV"
      },
      "execution_count": 6,
      "outputs": []
    },
    {
      "cell_type": "code",
      "source": [
        "import plotly.express as px\n",
        "\n",
        "fig1 = px.bar(plot_scores, x='Algorithm', y='R²', color='Algorithm', title=\"Average R² with 5-fold CV (Higher is better)\", width=800, height=400)\n",
        "fig1.update_yaxes(range = [0, 1])\n",
        "\n",
        "fig1.show()\n",
        "fig1.write_image(f'{getcwd()}/../plots/r2_algorithm.svg')"
      ],
      "metadata": {
        "colab": {
          "base_uri": "https://localhost:8080/",
          "height": 417
        },
        "id": "QB2kcrOZt4-R",
        "outputId": "6678c6de-b70c-4ea1-cdb1-2338afae031b"
      },
      "execution_count": 7,
      "outputs": [
        {
          "output_type": "display_data",
          "data": {
            "text/html": [
              "<html>\n",
              "<head><meta charset=\"utf-8\" /></head>\n",
              "<body>\n",
              "    <div>            <script src=\"https://cdnjs.cloudflare.com/ajax/libs/mathjax/2.7.5/MathJax.js?config=TeX-AMS-MML_SVG\"></script><script type=\"text/javascript\">if (window.MathJax && window.MathJax.Hub && window.MathJax.Hub.Config) {window.MathJax.Hub.Config({SVG: {font: \"STIX-Web\"}});}</script>                <script type=\"text/javascript\">window.PlotlyConfig = {MathJaxConfig: 'local'};</script>\n",
              "        <script charset=\"utf-8\" src=\"https://cdn.plot.ly/plotly-2.24.1.min.js\"></script>                <div id=\"f8e99e90-aa48-4f5d-950a-e745523f7f9e\" class=\"plotly-graph-div\" style=\"height:400px; width:800px;\"></div>            <script type=\"text/javascript\">                                    window.PLOTLYENV=window.PLOTLYENV || {};                                    if (document.getElementById(\"f8e99e90-aa48-4f5d-950a-e745523f7f9e\")) {                    Plotly.newPlot(                        \"f8e99e90-aa48-4f5d-950a-e745523f7f9e\",                        [{\"alignmentgroup\":\"True\",\"hovertemplate\":\"Algorithm=%{x}\\u003cbr\\u003eR\\u00b2=%{y}\\u003cextra\\u003e\\u003c\\u002fextra\\u003e\",\"legendgroup\":\"Linear Regression\",\"marker\":{\"color\":\"#636efa\",\"pattern\":{\"shape\":\"\"}},\"name\":\"Linear Regression\",\"offsetgroup\":\"Linear Regression\",\"orientation\":\"v\",\"showlegend\":true,\"textposition\":\"auto\",\"x\":[\"Linear Regression\"],\"xaxis\":\"x\",\"y\":[0.481037453026017],\"yaxis\":\"y\",\"type\":\"bar\"},{\"alignmentgroup\":\"True\",\"hovertemplate\":\"Algorithm=%{x}\\u003cbr\\u003eR\\u00b2=%{y}\\u003cextra\\u003e\\u003c\\u002fextra\\u003e\",\"legendgroup\":\"KNN\",\"marker\":{\"color\":\"#EF553B\",\"pattern\":{\"shape\":\"\"}},\"name\":\"KNN\",\"offsetgroup\":\"KNN\",\"orientation\":\"v\",\"showlegend\":true,\"textposition\":\"auto\",\"x\":[\"KNN\"],\"xaxis\":\"x\",\"y\":[0.488266364255529],\"yaxis\":\"y\",\"type\":\"bar\"},{\"alignmentgroup\":\"True\",\"hovertemplate\":\"Algorithm=%{x}\\u003cbr\\u003eR\\u00b2=%{y}\\u003cextra\\u003e\\u003c\\u002fextra\\u003e\",\"legendgroup\":\"XGBoost\",\"marker\":{\"color\":\"#00cc96\",\"pattern\":{\"shape\":\"\"}},\"name\":\"XGBoost\",\"offsetgroup\":\"XGBoost\",\"orientation\":\"v\",\"showlegend\":true,\"textposition\":\"auto\",\"x\":[\"XGBoost\"],\"xaxis\":\"x\",\"y\":[0.5790751668716746],\"yaxis\":\"y\",\"type\":\"bar\"},{\"alignmentgroup\":\"True\",\"hovertemplate\":\"Algorithm=%{x}\\u003cbr\\u003eR\\u00b2=%{y}\\u003cextra\\u003e\\u003c\\u002fextra\\u003e\",\"legendgroup\":\"LightGBM\",\"marker\":{\"color\":\"#ab63fa\",\"pattern\":{\"shape\":\"\"}},\"name\":\"LightGBM\",\"offsetgroup\":\"LightGBM\",\"orientation\":\"v\",\"showlegend\":true,\"textposition\":\"auto\",\"x\":[\"LightGBM\"],\"xaxis\":\"x\",\"y\":[0.5847961651669753],\"yaxis\":\"y\",\"type\":\"bar\"},{\"alignmentgroup\":\"True\",\"hovertemplate\":\"Algorithm=%{x}\\u003cbr\\u003eR\\u00b2=%{y}\\u003cextra\\u003e\\u003c\\u002fextra\\u003e\",\"legendgroup\":\"HistGB\",\"marker\":{\"color\":\"#FFA15A\",\"pattern\":{\"shape\":\"\"}},\"name\":\"HistGB\",\"offsetgroup\":\"HistGB\",\"orientation\":\"v\",\"showlegend\":true,\"textposition\":\"auto\",\"x\":[\"HistGB\"],\"xaxis\":\"x\",\"y\":[0.5850806533108235],\"yaxis\":\"y\",\"type\":\"bar\"}],                        {\"template\":{\"data\":{\"histogram2dcontour\":[{\"type\":\"histogram2dcontour\",\"colorbar\":{\"outlinewidth\":0,\"ticks\":\"\"},\"colorscale\":[[0.0,\"#0d0887\"],[0.1111111111111111,\"#46039f\"],[0.2222222222222222,\"#7201a8\"],[0.3333333333333333,\"#9c179e\"],[0.4444444444444444,\"#bd3786\"],[0.5555555555555556,\"#d8576b\"],[0.6666666666666666,\"#ed7953\"],[0.7777777777777778,\"#fb9f3a\"],[0.8888888888888888,\"#fdca26\"],[1.0,\"#f0f921\"]]}],\"choropleth\":[{\"type\":\"choropleth\",\"colorbar\":{\"outlinewidth\":0,\"ticks\":\"\"}}],\"histogram2d\":[{\"type\":\"histogram2d\",\"colorbar\":{\"outlinewidth\":0,\"ticks\":\"\"},\"colorscale\":[[0.0,\"#0d0887\"],[0.1111111111111111,\"#46039f\"],[0.2222222222222222,\"#7201a8\"],[0.3333333333333333,\"#9c179e\"],[0.4444444444444444,\"#bd3786\"],[0.5555555555555556,\"#d8576b\"],[0.6666666666666666,\"#ed7953\"],[0.7777777777777778,\"#fb9f3a\"],[0.8888888888888888,\"#fdca26\"],[1.0,\"#f0f921\"]]}],\"heatmap\":[{\"type\":\"heatmap\",\"colorbar\":{\"outlinewidth\":0,\"ticks\":\"\"},\"colorscale\":[[0.0,\"#0d0887\"],[0.1111111111111111,\"#46039f\"],[0.2222222222222222,\"#7201a8\"],[0.3333333333333333,\"#9c179e\"],[0.4444444444444444,\"#bd3786\"],[0.5555555555555556,\"#d8576b\"],[0.6666666666666666,\"#ed7953\"],[0.7777777777777778,\"#fb9f3a\"],[0.8888888888888888,\"#fdca26\"],[1.0,\"#f0f921\"]]}],\"heatmapgl\":[{\"type\":\"heatmapgl\",\"colorbar\":{\"outlinewidth\":0,\"ticks\":\"\"},\"colorscale\":[[0.0,\"#0d0887\"],[0.1111111111111111,\"#46039f\"],[0.2222222222222222,\"#7201a8\"],[0.3333333333333333,\"#9c179e\"],[0.4444444444444444,\"#bd3786\"],[0.5555555555555556,\"#d8576b\"],[0.6666666666666666,\"#ed7953\"],[0.7777777777777778,\"#fb9f3a\"],[0.8888888888888888,\"#fdca26\"],[1.0,\"#f0f921\"]]}],\"contourcarpet\":[{\"type\":\"contourcarpet\",\"colorbar\":{\"outlinewidth\":0,\"ticks\":\"\"}}],\"contour\":[{\"type\":\"contour\",\"colorbar\":{\"outlinewidth\":0,\"ticks\":\"\"},\"colorscale\":[[0.0,\"#0d0887\"],[0.1111111111111111,\"#46039f\"],[0.2222222222222222,\"#7201a8\"],[0.3333333333333333,\"#9c179e\"],[0.4444444444444444,\"#bd3786\"],[0.5555555555555556,\"#d8576b\"],[0.6666666666666666,\"#ed7953\"],[0.7777777777777778,\"#fb9f3a\"],[0.8888888888888888,\"#fdca26\"],[1.0,\"#f0f921\"]]}],\"surface\":[{\"type\":\"surface\",\"colorbar\":{\"outlinewidth\":0,\"ticks\":\"\"},\"colorscale\":[[0.0,\"#0d0887\"],[0.1111111111111111,\"#46039f\"],[0.2222222222222222,\"#7201a8\"],[0.3333333333333333,\"#9c179e\"],[0.4444444444444444,\"#bd3786\"],[0.5555555555555556,\"#d8576b\"],[0.6666666666666666,\"#ed7953\"],[0.7777777777777778,\"#fb9f3a\"],[0.8888888888888888,\"#fdca26\"],[1.0,\"#f0f921\"]]}],\"mesh3d\":[{\"type\":\"mesh3d\",\"colorbar\":{\"outlinewidth\":0,\"ticks\":\"\"}}],\"scatter\":[{\"fillpattern\":{\"fillmode\":\"overlay\",\"size\":10,\"solidity\":0.2},\"type\":\"scatter\"}],\"parcoords\":[{\"type\":\"parcoords\",\"line\":{\"colorbar\":{\"outlinewidth\":0,\"ticks\":\"\"}}}],\"scatterpolargl\":[{\"type\":\"scatterpolargl\",\"marker\":{\"colorbar\":{\"outlinewidth\":0,\"ticks\":\"\"}}}],\"bar\":[{\"error_x\":{\"color\":\"#2a3f5f\"},\"error_y\":{\"color\":\"#2a3f5f\"},\"marker\":{\"line\":{\"color\":\"#E5ECF6\",\"width\":0.5},\"pattern\":{\"fillmode\":\"overlay\",\"size\":10,\"solidity\":0.2}},\"type\":\"bar\"}],\"scattergeo\":[{\"type\":\"scattergeo\",\"marker\":{\"colorbar\":{\"outlinewidth\":0,\"ticks\":\"\"}}}],\"scatterpolar\":[{\"type\":\"scatterpolar\",\"marker\":{\"colorbar\":{\"outlinewidth\":0,\"ticks\":\"\"}}}],\"histogram\":[{\"marker\":{\"pattern\":{\"fillmode\":\"overlay\",\"size\":10,\"solidity\":0.2}},\"type\":\"histogram\"}],\"scattergl\":[{\"type\":\"scattergl\",\"marker\":{\"colorbar\":{\"outlinewidth\":0,\"ticks\":\"\"}}}],\"scatter3d\":[{\"type\":\"scatter3d\",\"line\":{\"colorbar\":{\"outlinewidth\":0,\"ticks\":\"\"}},\"marker\":{\"colorbar\":{\"outlinewidth\":0,\"ticks\":\"\"}}}],\"scattermapbox\":[{\"type\":\"scattermapbox\",\"marker\":{\"colorbar\":{\"outlinewidth\":0,\"ticks\":\"\"}}}],\"scatterternary\":[{\"type\":\"scatterternary\",\"marker\":{\"colorbar\":{\"outlinewidth\":0,\"ticks\":\"\"}}}],\"scattercarpet\":[{\"type\":\"scattercarpet\",\"marker\":{\"colorbar\":{\"outlinewidth\":0,\"ticks\":\"\"}}}],\"carpet\":[{\"aaxis\":{\"endlinecolor\":\"#2a3f5f\",\"gridcolor\":\"white\",\"linecolor\":\"white\",\"minorgridcolor\":\"white\",\"startlinecolor\":\"#2a3f5f\"},\"baxis\":{\"endlinecolor\":\"#2a3f5f\",\"gridcolor\":\"white\",\"linecolor\":\"white\",\"minorgridcolor\":\"white\",\"startlinecolor\":\"#2a3f5f\"},\"type\":\"carpet\"}],\"table\":[{\"cells\":{\"fill\":{\"color\":\"#EBF0F8\"},\"line\":{\"color\":\"white\"}},\"header\":{\"fill\":{\"color\":\"#C8D4E3\"},\"line\":{\"color\":\"white\"}},\"type\":\"table\"}],\"barpolar\":[{\"marker\":{\"line\":{\"color\":\"#E5ECF6\",\"width\":0.5},\"pattern\":{\"fillmode\":\"overlay\",\"size\":10,\"solidity\":0.2}},\"type\":\"barpolar\"}],\"pie\":[{\"automargin\":true,\"type\":\"pie\"}]},\"layout\":{\"autotypenumbers\":\"strict\",\"colorway\":[\"#636efa\",\"#EF553B\",\"#00cc96\",\"#ab63fa\",\"#FFA15A\",\"#19d3f3\",\"#FF6692\",\"#B6E880\",\"#FF97FF\",\"#FECB52\"],\"font\":{\"color\":\"#2a3f5f\"},\"hovermode\":\"closest\",\"hoverlabel\":{\"align\":\"left\"},\"paper_bgcolor\":\"white\",\"plot_bgcolor\":\"#E5ECF6\",\"polar\":{\"bgcolor\":\"#E5ECF6\",\"angularaxis\":{\"gridcolor\":\"white\",\"linecolor\":\"white\",\"ticks\":\"\"},\"radialaxis\":{\"gridcolor\":\"white\",\"linecolor\":\"white\",\"ticks\":\"\"}},\"ternary\":{\"bgcolor\":\"#E5ECF6\",\"aaxis\":{\"gridcolor\":\"white\",\"linecolor\":\"white\",\"ticks\":\"\"},\"baxis\":{\"gridcolor\":\"white\",\"linecolor\":\"white\",\"ticks\":\"\"},\"caxis\":{\"gridcolor\":\"white\",\"linecolor\":\"white\",\"ticks\":\"\"}},\"coloraxis\":{\"colorbar\":{\"outlinewidth\":0,\"ticks\":\"\"}},\"colorscale\":{\"sequential\":[[0.0,\"#0d0887\"],[0.1111111111111111,\"#46039f\"],[0.2222222222222222,\"#7201a8\"],[0.3333333333333333,\"#9c179e\"],[0.4444444444444444,\"#bd3786\"],[0.5555555555555556,\"#d8576b\"],[0.6666666666666666,\"#ed7953\"],[0.7777777777777778,\"#fb9f3a\"],[0.8888888888888888,\"#fdca26\"],[1.0,\"#f0f921\"]],\"sequentialminus\":[[0.0,\"#0d0887\"],[0.1111111111111111,\"#46039f\"],[0.2222222222222222,\"#7201a8\"],[0.3333333333333333,\"#9c179e\"],[0.4444444444444444,\"#bd3786\"],[0.5555555555555556,\"#d8576b\"],[0.6666666666666666,\"#ed7953\"],[0.7777777777777778,\"#fb9f3a\"],[0.8888888888888888,\"#fdca26\"],[1.0,\"#f0f921\"]],\"diverging\":[[0,\"#8e0152\"],[0.1,\"#c51b7d\"],[0.2,\"#de77ae\"],[0.3,\"#f1b6da\"],[0.4,\"#fde0ef\"],[0.5,\"#f7f7f7\"],[0.6,\"#e6f5d0\"],[0.7,\"#b8e186\"],[0.8,\"#7fbc41\"],[0.9,\"#4d9221\"],[1,\"#276419\"]]},\"xaxis\":{\"gridcolor\":\"white\",\"linecolor\":\"white\",\"ticks\":\"\",\"title\":{\"standoff\":15},\"zerolinecolor\":\"white\",\"automargin\":true,\"zerolinewidth\":2},\"yaxis\":{\"gridcolor\":\"white\",\"linecolor\":\"white\",\"ticks\":\"\",\"title\":{\"standoff\":15},\"zerolinecolor\":\"white\",\"automargin\":true,\"zerolinewidth\":2},\"scene\":{\"xaxis\":{\"backgroundcolor\":\"#E5ECF6\",\"gridcolor\":\"white\",\"linecolor\":\"white\",\"showbackground\":true,\"ticks\":\"\",\"zerolinecolor\":\"white\",\"gridwidth\":2},\"yaxis\":{\"backgroundcolor\":\"#E5ECF6\",\"gridcolor\":\"white\",\"linecolor\":\"white\",\"showbackground\":true,\"ticks\":\"\",\"zerolinecolor\":\"white\",\"gridwidth\":2},\"zaxis\":{\"backgroundcolor\":\"#E5ECF6\",\"gridcolor\":\"white\",\"linecolor\":\"white\",\"showbackground\":true,\"ticks\":\"\",\"zerolinecolor\":\"white\",\"gridwidth\":2}},\"shapedefaults\":{\"line\":{\"color\":\"#2a3f5f\"}},\"annotationdefaults\":{\"arrowcolor\":\"#2a3f5f\",\"arrowhead\":0,\"arrowwidth\":1},\"geo\":{\"bgcolor\":\"white\",\"landcolor\":\"#E5ECF6\",\"subunitcolor\":\"white\",\"showland\":true,\"showlakes\":true,\"lakecolor\":\"white\"},\"title\":{\"x\":0.05},\"mapbox\":{\"style\":\"light\"}}},\"xaxis\":{\"anchor\":\"y\",\"domain\":[0.0,1.0],\"title\":{\"text\":\"Algorithm\"},\"categoryorder\":\"array\",\"categoryarray\":[\"Linear Regression\",\"KNN\",\"XGBoost\",\"LightGBM\",\"HistGB\"]},\"yaxis\":{\"anchor\":\"x\",\"domain\":[0.0,1.0],\"title\":{\"text\":\"R\\u00b2\"},\"range\":[0,1]},\"legend\":{\"title\":{\"text\":\"Algorithm\"},\"tracegroupgap\":0},\"title\":{\"text\":\"Average R\\u00b2 with 5-fold CV (Higher is better)\"},\"barmode\":\"relative\",\"height\":400,\"width\":800},                        {\"responsive\": true}                    ).then(function(){\n",
              "                            \n",
              "var gd = document.getElementById('f8e99e90-aa48-4f5d-950a-e745523f7f9e');\n",
              "var x = new MutationObserver(function (mutations, observer) {{\n",
              "        var display = window.getComputedStyle(gd).display;\n",
              "        if (!display || display === 'none') {{\n",
              "            console.log([gd, 'removed!']);\n",
              "            Plotly.purge(gd);\n",
              "            observer.disconnect();\n",
              "        }}\n",
              "}});\n",
              "\n",
              "// Listen for the removal of the full notebook cells\n",
              "var notebookContainer = gd.closest('#notebook-container');\n",
              "if (notebookContainer) {{\n",
              "    x.observe(notebookContainer, {childList: true});\n",
              "}}\n",
              "\n",
              "// Listen for the clearing of the current output cell\n",
              "var outputEl = gd.closest('.output');\n",
              "if (outputEl) {{\n",
              "    x.observe(outputEl, {childList: true});\n",
              "}}\n",
              "\n",
              "                        })                };                            </script>        </div>\n",
              "</body>\n",
              "</html>"
            ]
          },
          "metadata": {}
        }
      ]
    },
    {
      "cell_type": "code",
      "source": [
        "fig2 = px.bar(plot_scores, x='Algorithm', y='MAE', color='Algorithm', title=\"Average MAE with 5-fold CV (Lower is better)\", width=800, height=400)\n",
        "fig2.show()\n",
        "fig2.write_image(f'{getcwd()}/../plots/mae_algorithm.svg')"
      ],
      "metadata": {
        "colab": {
          "base_uri": "https://localhost:8080/",
          "height": 417
        },
        "id": "M4xhnF8v6njY",
        "outputId": "12701e24-d8aa-4655-e577-4a570b3a0708"
      },
      "execution_count": 8,
      "outputs": [
        {
          "output_type": "display_data",
          "data": {
            "text/html": [
              "<html>\n",
              "<head><meta charset=\"utf-8\" /></head>\n",
              "<body>\n",
              "    <div>            <script src=\"https://cdnjs.cloudflare.com/ajax/libs/mathjax/2.7.5/MathJax.js?config=TeX-AMS-MML_SVG\"></script><script type=\"text/javascript\">if (window.MathJax && window.MathJax.Hub && window.MathJax.Hub.Config) {window.MathJax.Hub.Config({SVG: {font: \"STIX-Web\"}});}</script>                <script type=\"text/javascript\">window.PlotlyConfig = {MathJaxConfig: 'local'};</script>\n",
              "        <script charset=\"utf-8\" src=\"https://cdn.plot.ly/plotly-2.24.1.min.js\"></script>                <div id=\"af225477-169a-4829-b45e-5b4c6bbc413d\" class=\"plotly-graph-div\" style=\"height:400px; width:800px;\"></div>            <script type=\"text/javascript\">                                    window.PLOTLYENV=window.PLOTLYENV || {};                                    if (document.getElementById(\"af225477-169a-4829-b45e-5b4c6bbc413d\")) {                    Plotly.newPlot(                        \"af225477-169a-4829-b45e-5b4c6bbc413d\",                        [{\"alignmentgroup\":\"True\",\"hovertemplate\":\"Algorithm=%{x}\\u003cbr\\u003eMAE=%{y}\\u003cextra\\u003e\\u003c\\u002fextra\\u003e\",\"legendgroup\":\"Linear Regression\",\"marker\":{\"color\":\"#636efa\",\"pattern\":{\"shape\":\"\"}},\"name\":\"Linear Regression\",\"offsetgroup\":\"Linear Regression\",\"orientation\":\"v\",\"showlegend\":true,\"textposition\":\"auto\",\"x\":[\"Linear Regression\"],\"xaxis\":\"x\",\"y\":[36.543460845947266],\"yaxis\":\"y\",\"type\":\"bar\"},{\"alignmentgroup\":\"True\",\"hovertemplate\":\"Algorithm=%{x}\\u003cbr\\u003eMAE=%{y}\\u003cextra\\u003e\\u003c\\u002fextra\\u003e\",\"legendgroup\":\"KNN\",\"marker\":{\"color\":\"#EF553B\",\"pattern\":{\"shape\":\"\"}},\"name\":\"KNN\",\"offsetgroup\":\"KNN\",\"orientation\":\"v\",\"showlegend\":true,\"textposition\":\"auto\",\"x\":[\"KNN\"],\"xaxis\":\"x\",\"y\":[34.96793851528787],\"yaxis\":\"y\",\"type\":\"bar\"},{\"alignmentgroup\":\"True\",\"hovertemplate\":\"Algorithm=%{x}\\u003cbr\\u003eMAE=%{y}\\u003cextra\\u003e\\u003c\\u002fextra\\u003e\",\"legendgroup\":\"XGBoost\",\"marker\":{\"color\":\"#00cc96\",\"pattern\":{\"shape\":\"\"}},\"name\":\"XGBoost\",\"offsetgroup\":\"XGBoost\",\"orientation\":\"v\",\"showlegend\":true,\"textposition\":\"auto\",\"x\":[\"XGBoost\"],\"xaxis\":\"x\",\"y\":[31.798022842407228],\"yaxis\":\"y\",\"type\":\"bar\"},{\"alignmentgroup\":\"True\",\"hovertemplate\":\"Algorithm=%{x}\\u003cbr\\u003eMAE=%{y}\\u003cextra\\u003e\\u003c\\u002fextra\\u003e\",\"legendgroup\":\"LightGBM\",\"marker\":{\"color\":\"#ab63fa\",\"pattern\":{\"shape\":\"\"}},\"name\":\"LightGBM\",\"offsetgroup\":\"LightGBM\",\"orientation\":\"v\",\"showlegend\":true,\"textposition\":\"auto\",\"x\":[\"LightGBM\"],\"xaxis\":\"x\",\"y\":[31.577319081367033],\"yaxis\":\"y\",\"type\":\"bar\"},{\"alignmentgroup\":\"True\",\"hovertemplate\":\"Algorithm=%{x}\\u003cbr\\u003eMAE=%{y}\\u003cextra\\u003e\\u003c\\u002fextra\\u003e\",\"legendgroup\":\"HistGB\",\"marker\":{\"color\":\"#FFA15A\",\"pattern\":{\"shape\":\"\"}},\"name\":\"HistGB\",\"offsetgroup\":\"HistGB\",\"orientation\":\"v\",\"showlegend\":true,\"textposition\":\"auto\",\"x\":[\"HistGB\"],\"xaxis\":\"x\",\"y\":[31.580199498204287],\"yaxis\":\"y\",\"type\":\"bar\"}],                        {\"template\":{\"data\":{\"histogram2dcontour\":[{\"type\":\"histogram2dcontour\",\"colorbar\":{\"outlinewidth\":0,\"ticks\":\"\"},\"colorscale\":[[0.0,\"#0d0887\"],[0.1111111111111111,\"#46039f\"],[0.2222222222222222,\"#7201a8\"],[0.3333333333333333,\"#9c179e\"],[0.4444444444444444,\"#bd3786\"],[0.5555555555555556,\"#d8576b\"],[0.6666666666666666,\"#ed7953\"],[0.7777777777777778,\"#fb9f3a\"],[0.8888888888888888,\"#fdca26\"],[1.0,\"#f0f921\"]]}],\"choropleth\":[{\"type\":\"choropleth\",\"colorbar\":{\"outlinewidth\":0,\"ticks\":\"\"}}],\"histogram2d\":[{\"type\":\"histogram2d\",\"colorbar\":{\"outlinewidth\":0,\"ticks\":\"\"},\"colorscale\":[[0.0,\"#0d0887\"],[0.1111111111111111,\"#46039f\"],[0.2222222222222222,\"#7201a8\"],[0.3333333333333333,\"#9c179e\"],[0.4444444444444444,\"#bd3786\"],[0.5555555555555556,\"#d8576b\"],[0.6666666666666666,\"#ed7953\"],[0.7777777777777778,\"#fb9f3a\"],[0.8888888888888888,\"#fdca26\"],[1.0,\"#f0f921\"]]}],\"heatmap\":[{\"type\":\"heatmap\",\"colorbar\":{\"outlinewidth\":0,\"ticks\":\"\"},\"colorscale\":[[0.0,\"#0d0887\"],[0.1111111111111111,\"#46039f\"],[0.2222222222222222,\"#7201a8\"],[0.3333333333333333,\"#9c179e\"],[0.4444444444444444,\"#bd3786\"],[0.5555555555555556,\"#d8576b\"],[0.6666666666666666,\"#ed7953\"],[0.7777777777777778,\"#fb9f3a\"],[0.8888888888888888,\"#fdca26\"],[1.0,\"#f0f921\"]]}],\"heatmapgl\":[{\"type\":\"heatmapgl\",\"colorbar\":{\"outlinewidth\":0,\"ticks\":\"\"},\"colorscale\":[[0.0,\"#0d0887\"],[0.1111111111111111,\"#46039f\"],[0.2222222222222222,\"#7201a8\"],[0.3333333333333333,\"#9c179e\"],[0.4444444444444444,\"#bd3786\"],[0.5555555555555556,\"#d8576b\"],[0.6666666666666666,\"#ed7953\"],[0.7777777777777778,\"#fb9f3a\"],[0.8888888888888888,\"#fdca26\"],[1.0,\"#f0f921\"]]}],\"contourcarpet\":[{\"type\":\"contourcarpet\",\"colorbar\":{\"outlinewidth\":0,\"ticks\":\"\"}}],\"contour\":[{\"type\":\"contour\",\"colorbar\":{\"outlinewidth\":0,\"ticks\":\"\"},\"colorscale\":[[0.0,\"#0d0887\"],[0.1111111111111111,\"#46039f\"],[0.2222222222222222,\"#7201a8\"],[0.3333333333333333,\"#9c179e\"],[0.4444444444444444,\"#bd3786\"],[0.5555555555555556,\"#d8576b\"],[0.6666666666666666,\"#ed7953\"],[0.7777777777777778,\"#fb9f3a\"],[0.8888888888888888,\"#fdca26\"],[1.0,\"#f0f921\"]]}],\"surface\":[{\"type\":\"surface\",\"colorbar\":{\"outlinewidth\":0,\"ticks\":\"\"},\"colorscale\":[[0.0,\"#0d0887\"],[0.1111111111111111,\"#46039f\"],[0.2222222222222222,\"#7201a8\"],[0.3333333333333333,\"#9c179e\"],[0.4444444444444444,\"#bd3786\"],[0.5555555555555556,\"#d8576b\"],[0.6666666666666666,\"#ed7953\"],[0.7777777777777778,\"#fb9f3a\"],[0.8888888888888888,\"#fdca26\"],[1.0,\"#f0f921\"]]}],\"mesh3d\":[{\"type\":\"mesh3d\",\"colorbar\":{\"outlinewidth\":0,\"ticks\":\"\"}}],\"scatter\":[{\"fillpattern\":{\"fillmode\":\"overlay\",\"size\":10,\"solidity\":0.2},\"type\":\"scatter\"}],\"parcoords\":[{\"type\":\"parcoords\",\"line\":{\"colorbar\":{\"outlinewidth\":0,\"ticks\":\"\"}}}],\"scatterpolargl\":[{\"type\":\"scatterpolargl\",\"marker\":{\"colorbar\":{\"outlinewidth\":0,\"ticks\":\"\"}}}],\"bar\":[{\"error_x\":{\"color\":\"#2a3f5f\"},\"error_y\":{\"color\":\"#2a3f5f\"},\"marker\":{\"line\":{\"color\":\"#E5ECF6\",\"width\":0.5},\"pattern\":{\"fillmode\":\"overlay\",\"size\":10,\"solidity\":0.2}},\"type\":\"bar\"}],\"scattergeo\":[{\"type\":\"scattergeo\",\"marker\":{\"colorbar\":{\"outlinewidth\":0,\"ticks\":\"\"}}}],\"scatterpolar\":[{\"type\":\"scatterpolar\",\"marker\":{\"colorbar\":{\"outlinewidth\":0,\"ticks\":\"\"}}}],\"histogram\":[{\"marker\":{\"pattern\":{\"fillmode\":\"overlay\",\"size\":10,\"solidity\":0.2}},\"type\":\"histogram\"}],\"scattergl\":[{\"type\":\"scattergl\",\"marker\":{\"colorbar\":{\"outlinewidth\":0,\"ticks\":\"\"}}}],\"scatter3d\":[{\"type\":\"scatter3d\",\"line\":{\"colorbar\":{\"outlinewidth\":0,\"ticks\":\"\"}},\"marker\":{\"colorbar\":{\"outlinewidth\":0,\"ticks\":\"\"}}}],\"scattermapbox\":[{\"type\":\"scattermapbox\",\"marker\":{\"colorbar\":{\"outlinewidth\":0,\"ticks\":\"\"}}}],\"scatterternary\":[{\"type\":\"scatterternary\",\"marker\":{\"colorbar\":{\"outlinewidth\":0,\"ticks\":\"\"}}}],\"scattercarpet\":[{\"type\":\"scattercarpet\",\"marker\":{\"colorbar\":{\"outlinewidth\":0,\"ticks\":\"\"}}}],\"carpet\":[{\"aaxis\":{\"endlinecolor\":\"#2a3f5f\",\"gridcolor\":\"white\",\"linecolor\":\"white\",\"minorgridcolor\":\"white\",\"startlinecolor\":\"#2a3f5f\"},\"baxis\":{\"endlinecolor\":\"#2a3f5f\",\"gridcolor\":\"white\",\"linecolor\":\"white\",\"minorgridcolor\":\"white\",\"startlinecolor\":\"#2a3f5f\"},\"type\":\"carpet\"}],\"table\":[{\"cells\":{\"fill\":{\"color\":\"#EBF0F8\"},\"line\":{\"color\":\"white\"}},\"header\":{\"fill\":{\"color\":\"#C8D4E3\"},\"line\":{\"color\":\"white\"}},\"type\":\"table\"}],\"barpolar\":[{\"marker\":{\"line\":{\"color\":\"#E5ECF6\",\"width\":0.5},\"pattern\":{\"fillmode\":\"overlay\",\"size\":10,\"solidity\":0.2}},\"type\":\"barpolar\"}],\"pie\":[{\"automargin\":true,\"type\":\"pie\"}]},\"layout\":{\"autotypenumbers\":\"strict\",\"colorway\":[\"#636efa\",\"#EF553B\",\"#00cc96\",\"#ab63fa\",\"#FFA15A\",\"#19d3f3\",\"#FF6692\",\"#B6E880\",\"#FF97FF\",\"#FECB52\"],\"font\":{\"color\":\"#2a3f5f\"},\"hovermode\":\"closest\",\"hoverlabel\":{\"align\":\"left\"},\"paper_bgcolor\":\"white\",\"plot_bgcolor\":\"#E5ECF6\",\"polar\":{\"bgcolor\":\"#E5ECF6\",\"angularaxis\":{\"gridcolor\":\"white\",\"linecolor\":\"white\",\"ticks\":\"\"},\"radialaxis\":{\"gridcolor\":\"white\",\"linecolor\":\"white\",\"ticks\":\"\"}},\"ternary\":{\"bgcolor\":\"#E5ECF6\",\"aaxis\":{\"gridcolor\":\"white\",\"linecolor\":\"white\",\"ticks\":\"\"},\"baxis\":{\"gridcolor\":\"white\",\"linecolor\":\"white\",\"ticks\":\"\"},\"caxis\":{\"gridcolor\":\"white\",\"linecolor\":\"white\",\"ticks\":\"\"}},\"coloraxis\":{\"colorbar\":{\"outlinewidth\":0,\"ticks\":\"\"}},\"colorscale\":{\"sequential\":[[0.0,\"#0d0887\"],[0.1111111111111111,\"#46039f\"],[0.2222222222222222,\"#7201a8\"],[0.3333333333333333,\"#9c179e\"],[0.4444444444444444,\"#bd3786\"],[0.5555555555555556,\"#d8576b\"],[0.6666666666666666,\"#ed7953\"],[0.7777777777777778,\"#fb9f3a\"],[0.8888888888888888,\"#fdca26\"],[1.0,\"#f0f921\"]],\"sequentialminus\":[[0.0,\"#0d0887\"],[0.1111111111111111,\"#46039f\"],[0.2222222222222222,\"#7201a8\"],[0.3333333333333333,\"#9c179e\"],[0.4444444444444444,\"#bd3786\"],[0.5555555555555556,\"#d8576b\"],[0.6666666666666666,\"#ed7953\"],[0.7777777777777778,\"#fb9f3a\"],[0.8888888888888888,\"#fdca26\"],[1.0,\"#f0f921\"]],\"diverging\":[[0,\"#8e0152\"],[0.1,\"#c51b7d\"],[0.2,\"#de77ae\"],[0.3,\"#f1b6da\"],[0.4,\"#fde0ef\"],[0.5,\"#f7f7f7\"],[0.6,\"#e6f5d0\"],[0.7,\"#b8e186\"],[0.8,\"#7fbc41\"],[0.9,\"#4d9221\"],[1,\"#276419\"]]},\"xaxis\":{\"gridcolor\":\"white\",\"linecolor\":\"white\",\"ticks\":\"\",\"title\":{\"standoff\":15},\"zerolinecolor\":\"white\",\"automargin\":true,\"zerolinewidth\":2},\"yaxis\":{\"gridcolor\":\"white\",\"linecolor\":\"white\",\"ticks\":\"\",\"title\":{\"standoff\":15},\"zerolinecolor\":\"white\",\"automargin\":true,\"zerolinewidth\":2},\"scene\":{\"xaxis\":{\"backgroundcolor\":\"#E5ECF6\",\"gridcolor\":\"white\",\"linecolor\":\"white\",\"showbackground\":true,\"ticks\":\"\",\"zerolinecolor\":\"white\",\"gridwidth\":2},\"yaxis\":{\"backgroundcolor\":\"#E5ECF6\",\"gridcolor\":\"white\",\"linecolor\":\"white\",\"showbackground\":true,\"ticks\":\"\",\"zerolinecolor\":\"white\",\"gridwidth\":2},\"zaxis\":{\"backgroundcolor\":\"#E5ECF6\",\"gridcolor\":\"white\",\"linecolor\":\"white\",\"showbackground\":true,\"ticks\":\"\",\"zerolinecolor\":\"white\",\"gridwidth\":2}},\"shapedefaults\":{\"line\":{\"color\":\"#2a3f5f\"}},\"annotationdefaults\":{\"arrowcolor\":\"#2a3f5f\",\"arrowhead\":0,\"arrowwidth\":1},\"geo\":{\"bgcolor\":\"white\",\"landcolor\":\"#E5ECF6\",\"subunitcolor\":\"white\",\"showland\":true,\"showlakes\":true,\"lakecolor\":\"white\"},\"title\":{\"x\":0.05},\"mapbox\":{\"style\":\"light\"}}},\"xaxis\":{\"anchor\":\"y\",\"domain\":[0.0,1.0],\"title\":{\"text\":\"Algorithm\"},\"categoryorder\":\"array\",\"categoryarray\":[\"Linear Regression\",\"KNN\",\"XGBoost\",\"LightGBM\",\"HistGB\"]},\"yaxis\":{\"anchor\":\"x\",\"domain\":[0.0,1.0],\"title\":{\"text\":\"MAE\"}},\"legend\":{\"title\":{\"text\":\"Algorithm\"},\"tracegroupgap\":0},\"title\":{\"text\":\"Average MAE with 5-fold CV (Lower is better)\"},\"barmode\":\"relative\",\"height\":400,\"width\":800},                        {\"responsive\": true}                    ).then(function(){\n",
              "                            \n",
              "var gd = document.getElementById('af225477-169a-4829-b45e-5b4c6bbc413d');\n",
              "var x = new MutationObserver(function (mutations, observer) {{\n",
              "        var display = window.getComputedStyle(gd).display;\n",
              "        if (!display || display === 'none') {{\n",
              "            console.log([gd, 'removed!']);\n",
              "            Plotly.purge(gd);\n",
              "            observer.disconnect();\n",
              "        }}\n",
              "}});\n",
              "\n",
              "// Listen for the removal of the full notebook cells\n",
              "var notebookContainer = gd.closest('#notebook-container');\n",
              "if (notebookContainer) {{\n",
              "    x.observe(notebookContainer, {childList: true});\n",
              "}}\n",
              "\n",
              "// Listen for the clearing of the current output cell\n",
              "var outputEl = gd.closest('.output');\n",
              "if (outputEl) {{\n",
              "    x.observe(outputEl, {childList: true});\n",
              "}}\n",
              "\n",
              "                        })                };                            </script>        </div>\n",
              "</body>\n",
              "</html>"
            ]
          },
          "metadata": {}
        }
      ]
    },
    {
      "cell_type": "markdown",
      "source": [
        "# **2. Basic fine tuning with few parameters**\n",
        "\n",
        "- _Disclaimer_: Each of these algorithms can take several minutes to tune."
      ],
      "metadata": {
        "id": "fMxsqRACoQ-m"
      }
    },
    {
      "cell_type": "code",
      "source": [
        "import numpy as np\n",
        "from sklearn.model_selection import GridSearchCV\n",
        "\n",
        "\n",
        "# COMPUTATIONALLY EXPENSIVE\n",
        "def fine_tuning(attributes: pd.DataFrame, classes: pd.DataFrame,\n",
        "                regressor: any, param_grid: list, alg_name: str) -> None:\n",
        "\n",
        "    grid_search = GridSearchCV(estimator=regressor,\n",
        "                               param_grid=param_grid,\n",
        "                               scoring='r2',\n",
        "                               n_jobs=-1,\n",
        "                               cv=5,\n",
        "                               verbose=0)\n",
        "    grid_search.fit(attributes, classes)\n",
        "\n",
        "    print(grid_search.best_params_)\n",
        "    with open(f'{getcwd()}/../models/{alg_name}_best_params.txt', 'w') as file:\n",
        "        for key in grid_search.best_params_:\n",
        "            file.write(f'{key}: {grid_search.best_params_[key]}\\n')"
      ],
      "metadata": {
        "id": "k4_3EvMyoZy7"
      },
      "execution_count": 9,
      "outputs": []
    },
    {
      "cell_type": "markdown",
      "source": [
        "## **2.1. LightGBM fine tuning**"
      ],
      "metadata": {
        "id": "0egKLnhzFQkj"
      }
    },
    {
      "cell_type": "code",
      "source": [
        "lgbm_regressor = LGBMRegressor(n_jobs=-1, verbose=-1)\n",
        "param_grid = [{\n",
        "    'n_estimators': [n for n in range(50, 351, 100)],\n",
        "    'max_depth': [d for d in range(3, 19, 3)],\n",
        "    'learning_rate': [r for r in np.arange(0.01, 0.52, 0.1)]\n",
        "}]\n",
        "\n",
        "fine_tuning(attributes=model_features, classes=model_classes,\n",
        "            regressor=lgbm_regressor, param_grid=param_grid, alg_name='lgbm')"
      ],
      "metadata": {
        "colab": {
          "base_uri": "https://localhost:8080/"
        },
        "id": "hPBtqwsesfoT",
        "outputId": "85a53496-3897-4144-9946-b2320e4a99f2"
      },
      "execution_count": 98,
      "outputs": [
        {
          "output_type": "stream",
          "name": "stdout",
          "text": [
            "{'learning_rate': 0.11, 'max_depth': 6, 'n_estimators': 150}\n"
          ]
        }
      ]
    },
    {
      "cell_type": "markdown",
      "source": [
        "## **2.2. XGBoost fine tuning**\n"
      ],
      "metadata": {
        "id": "MCjIvXJMFXZV"
      }
    },
    {
      "cell_type": "code",
      "source": [
        "xgb_regressor = XGBRegressor(n_jobs=-1)\n",
        "param_grid = [{\n",
        "    'n_estimators': [n for n in range(50, 351, 100)],\n",
        "    'max_depth': [d for d in range(3, 19, 3)],\n",
        "    'learning_rate': [r for r in np.arange(0.01, 0.52, 0.1)]\n",
        "}]\n",
        "\n",
        "fine_tuning(attributes=model_features, classes=model_classes,\n",
        "            regressor=xgb_regressor, param_grid=param_grid, alg_name='xgb')"
      ],
      "metadata": {
        "colab": {
          "base_uri": "https://localhost:8080/"
        },
        "id": "ZOryPUKc9Mq1",
        "outputId": "70b73e51-cacf-4b7c-c1d2-66680cf7ab69"
      },
      "execution_count": 97,
      "outputs": [
        {
          "output_type": "stream",
          "name": "stderr",
          "text": [
            "/usr/local/lib/python3.10/dist-packages/joblib/externals/loky/process_executor.py:752: UserWarning:\n",
            "\n",
            "A worker stopped while some jobs were given to the executor. This can be caused by a too short worker timeout or by a memory leak.\n",
            "\n"
          ]
        },
        {
          "output_type": "stream",
          "name": "stdout",
          "text": [
            "{'learning_rate': 0.11, 'max_depth': 6, 'n_estimators': 50}\n"
          ]
        }
      ]
    },
    {
      "cell_type": "markdown",
      "source": [
        "## **2.3. HistGradientBoosting fine tuning**\n"
      ],
      "metadata": {
        "id": "6KE_K-nzFZ1k"
      }
    },
    {
      "cell_type": "code",
      "source": [
        "histgb_regressor = HistGradientBoostingRegressor()\n",
        "param_grid = [{\n",
        "    'max_depth': [d for d in range(3, 19, 3)],\n",
        "    'learning_rate': [r for r in np.arange(0.01, 0.52, 0.05)]\n",
        "}]\n",
        "\n",
        "fine_tuning(attributes=model_features, classes=model_classes,\n",
        "            regressor=histgb_regressor, param_grid=param_grid, alg_name='histgb')"
      ],
      "metadata": {
        "colab": {
          "base_uri": "https://localhost:8080/"
        },
        "id": "Cz2khL4oBmIE",
        "outputId": "1eda00f8-a01d-42a9-e0a5-80b3ce114a93"
      },
      "execution_count": 100,
      "outputs": [
        {
          "output_type": "stream",
          "name": "stdout",
          "text": [
            "{'learning_rate': 0.11, 'max_depth': 12}\n"
          ]
        }
      ]
    },
    {
      "cell_type": "markdown",
      "source": [
        "## **2.4. Reevaluating models**\n"
      ],
      "metadata": {
        "id": "63uj_PMmt7Vk"
      }
    },
    {
      "cell_type": "code",
      "source": [
        "scaler = StandardScaler()\n",
        "\n",
        "tuned_xgb_pipeline = Pipeline(steps=[\n",
        "    ('scaler', scaler),\n",
        "    ('regressor', XGBRegressor(learning_rate=0.11, max_depth=6,\n",
        "                               n_estimators=50, n_jobs=-1))\n",
        "])\n",
        "\n",
        "tuned_lgbm_pipeline = Pipeline(steps=[\n",
        "    ('scaler', scaler),\n",
        "    ('regressor', LGBMRegressor(learning_rate=0.11, max_depth=6,\n",
        "                                n_estimators=150, n_jobs=-1, verbose=-1))\n",
        "])\n",
        "\n",
        "tuned_hist_pipeline = Pipeline(steps=[\n",
        "    ('scaler', scaler),\n",
        "    ('regressor', HistGradientBoostingRegressor(learning_rate=0.11, max_depth=12))\n",
        "])\n",
        "\n",
        "tuned_pipelines = {\n",
        "    'XGBoost': tuned_xgb_pipeline,\n",
        "    'LightGBM': tuned_lgbm_pipeline,\n",
        "    'HistGB': tuned_hist_pipeline\n",
        "}\n",
        "\n",
        "tuned_mean = pd.DataFrame()\n",
        "tuned_mean['Metric'] = ['R²', 'MAE', 'RMSE']\n",
        "\n",
        "# 5-fold cross-validation\n",
        "for key in tuned_pipelines:\n",
        "    scores = cross_validate(\n",
        "        estimator=tuned_pipelines[key],\n",
        "        X=model_features,\n",
        "        y=model_classes,\n",
        "        cv=KFold(n_splits=5, shuffle=True),\n",
        "        scoring=('r2', 'neg_mean_absolute_error', 'neg_root_mean_squared_error'),\n",
        "        n_jobs=-1\n",
        "    )\n",
        "    tuned_mean[key] = [scores['test_r2'].mean(),\n",
        "                         abs(scores['test_neg_mean_absolute_error'].mean()),\n",
        "                         abs(scores['test_neg_root_mean_squared_error'].mean())]\n",
        "\n",
        "tuned_mean"
      ],
      "metadata": {
        "colab": {
          "base_uri": "https://localhost:8080/",
          "height": 143
        },
        "id": "4Ssff2PRuFA7",
        "outputId": "62fdbd8d-7695-4e8f-baf6-82b550ff4561"
      },
      "execution_count": 10,
      "outputs": [
        {
          "output_type": "execute_result",
          "data": {
            "text/plain": [
              "  Metric    XGBoost   LightGBM     HistGB\n",
              "0     R²   0.581155   0.586436   0.584719\n",
              "1    MAE  31.773224  31.488488  31.595794\n",
              "2   RMSE  44.083276  43.798214  43.893972"
            ],
            "text/html": [
              "\n",
              "  <div id=\"df-ae0bb335-0b6e-4e43-ae56-4fe625f3ff5c\" class=\"colab-df-container\">\n",
              "    <div>\n",
              "<style scoped>\n",
              "    .dataframe tbody tr th:only-of-type {\n",
              "        vertical-align: middle;\n",
              "    }\n",
              "\n",
              "    .dataframe tbody tr th {\n",
              "        vertical-align: top;\n",
              "    }\n",
              "\n",
              "    .dataframe thead th {\n",
              "        text-align: right;\n",
              "    }\n",
              "</style>\n",
              "<table border=\"1\" class=\"dataframe\">\n",
              "  <thead>\n",
              "    <tr style=\"text-align: right;\">\n",
              "      <th></th>\n",
              "      <th>Metric</th>\n",
              "      <th>XGBoost</th>\n",
              "      <th>LightGBM</th>\n",
              "      <th>HistGB</th>\n",
              "    </tr>\n",
              "  </thead>\n",
              "  <tbody>\n",
              "    <tr>\n",
              "      <th>0</th>\n",
              "      <td>R²</td>\n",
              "      <td>0.581155</td>\n",
              "      <td>0.586436</td>\n",
              "      <td>0.584719</td>\n",
              "    </tr>\n",
              "    <tr>\n",
              "      <th>1</th>\n",
              "      <td>MAE</td>\n",
              "      <td>31.773224</td>\n",
              "      <td>31.488488</td>\n",
              "      <td>31.595794</td>\n",
              "    </tr>\n",
              "    <tr>\n",
              "      <th>2</th>\n",
              "      <td>RMSE</td>\n",
              "      <td>44.083276</td>\n",
              "      <td>43.798214</td>\n",
              "      <td>43.893972</td>\n",
              "    </tr>\n",
              "  </tbody>\n",
              "</table>\n",
              "</div>\n",
              "    <div class=\"colab-df-buttons\">\n",
              "\n",
              "  <div class=\"colab-df-container\">\n",
              "    <button class=\"colab-df-convert\" onclick=\"convertToInteractive('df-ae0bb335-0b6e-4e43-ae56-4fe625f3ff5c')\"\n",
              "            title=\"Convert this dataframe to an interactive table.\"\n",
              "            style=\"display:none;\">\n",
              "\n",
              "  <svg xmlns=\"http://www.w3.org/2000/svg\" height=\"24px\" viewBox=\"0 -960 960 960\">\n",
              "    <path d=\"M120-120v-720h720v720H120Zm60-500h600v-160H180v160Zm220 220h160v-160H400v160Zm0 220h160v-160H400v160ZM180-400h160v-160H180v160Zm440 0h160v-160H620v160ZM180-180h160v-160H180v160Zm440 0h160v-160H620v160Z\"/>\n",
              "  </svg>\n",
              "    </button>\n",
              "\n",
              "  <style>\n",
              "    .colab-df-container {\n",
              "      display:flex;\n",
              "      gap: 12px;\n",
              "    }\n",
              "\n",
              "    .colab-df-convert {\n",
              "      background-color: #E8F0FE;\n",
              "      border: none;\n",
              "      border-radius: 50%;\n",
              "      cursor: pointer;\n",
              "      display: none;\n",
              "      fill: #1967D2;\n",
              "      height: 32px;\n",
              "      padding: 0 0 0 0;\n",
              "      width: 32px;\n",
              "    }\n",
              "\n",
              "    .colab-df-convert:hover {\n",
              "      background-color: #E2EBFA;\n",
              "      box-shadow: 0px 1px 2px rgba(60, 64, 67, 0.3), 0px 1px 3px 1px rgba(60, 64, 67, 0.15);\n",
              "      fill: #174EA6;\n",
              "    }\n",
              "\n",
              "    .colab-df-buttons div {\n",
              "      margin-bottom: 4px;\n",
              "    }\n",
              "\n",
              "    [theme=dark] .colab-df-convert {\n",
              "      background-color: #3B4455;\n",
              "      fill: #D2E3FC;\n",
              "    }\n",
              "\n",
              "    [theme=dark] .colab-df-convert:hover {\n",
              "      background-color: #434B5C;\n",
              "      box-shadow: 0px 1px 3px 1px rgba(0, 0, 0, 0.15);\n",
              "      filter: drop-shadow(0px 1px 2px rgba(0, 0, 0, 0.3));\n",
              "      fill: #FFFFFF;\n",
              "    }\n",
              "  </style>\n",
              "\n",
              "    <script>\n",
              "      const buttonEl =\n",
              "        document.querySelector('#df-ae0bb335-0b6e-4e43-ae56-4fe625f3ff5c button.colab-df-convert');\n",
              "      buttonEl.style.display =\n",
              "        google.colab.kernel.accessAllowed ? 'block' : 'none';\n",
              "\n",
              "      async function convertToInteractive(key) {\n",
              "        const element = document.querySelector('#df-ae0bb335-0b6e-4e43-ae56-4fe625f3ff5c');\n",
              "        const dataTable =\n",
              "          await google.colab.kernel.invokeFunction('convertToInteractive',\n",
              "                                                    [key], {});\n",
              "        if (!dataTable) return;\n",
              "\n",
              "        const docLinkHtml = 'Like what you see? Visit the ' +\n",
              "          '<a target=\"_blank\" href=https://colab.research.google.com/notebooks/data_table.ipynb>data table notebook</a>'\n",
              "          + ' to learn more about interactive tables.';\n",
              "        element.innerHTML = '';\n",
              "        dataTable['output_type'] = 'display_data';\n",
              "        await google.colab.output.renderOutput(dataTable, element);\n",
              "        const docLink = document.createElement('div');\n",
              "        docLink.innerHTML = docLinkHtml;\n",
              "        element.appendChild(docLink);\n",
              "      }\n",
              "    </script>\n",
              "  </div>\n",
              "\n",
              "\n",
              "<div id=\"df-aa63ba2c-e551-4674-802f-ab3f3f35edd3\">\n",
              "  <button class=\"colab-df-quickchart\" onclick=\"quickchart('df-aa63ba2c-e551-4674-802f-ab3f3f35edd3')\"\n",
              "            title=\"Suggest charts\"\n",
              "            style=\"display:none;\">\n",
              "\n",
              "<svg xmlns=\"http://www.w3.org/2000/svg\" height=\"24px\"viewBox=\"0 0 24 24\"\n",
              "     width=\"24px\">\n",
              "    <g>\n",
              "        <path d=\"M19 3H5c-1.1 0-2 .9-2 2v14c0 1.1.9 2 2 2h14c1.1 0 2-.9 2-2V5c0-1.1-.9-2-2-2zM9 17H7v-7h2v7zm4 0h-2V7h2v10zm4 0h-2v-4h2v4z\"/>\n",
              "    </g>\n",
              "</svg>\n",
              "  </button>\n",
              "\n",
              "<style>\n",
              "  .colab-df-quickchart {\n",
              "      --bg-color: #E8F0FE;\n",
              "      --fill-color: #1967D2;\n",
              "      --hover-bg-color: #E2EBFA;\n",
              "      --hover-fill-color: #174EA6;\n",
              "      --disabled-fill-color: #AAA;\n",
              "      --disabled-bg-color: #DDD;\n",
              "  }\n",
              "\n",
              "  [theme=dark] .colab-df-quickchart {\n",
              "      --bg-color: #3B4455;\n",
              "      --fill-color: #D2E3FC;\n",
              "      --hover-bg-color: #434B5C;\n",
              "      --hover-fill-color: #FFFFFF;\n",
              "      --disabled-bg-color: #3B4455;\n",
              "      --disabled-fill-color: #666;\n",
              "  }\n",
              "\n",
              "  .colab-df-quickchart {\n",
              "    background-color: var(--bg-color);\n",
              "    border: none;\n",
              "    border-radius: 50%;\n",
              "    cursor: pointer;\n",
              "    display: none;\n",
              "    fill: var(--fill-color);\n",
              "    height: 32px;\n",
              "    padding: 0;\n",
              "    width: 32px;\n",
              "  }\n",
              "\n",
              "  .colab-df-quickchart:hover {\n",
              "    background-color: var(--hover-bg-color);\n",
              "    box-shadow: 0 1px 2px rgba(60, 64, 67, 0.3), 0 1px 3px 1px rgba(60, 64, 67, 0.15);\n",
              "    fill: var(--button-hover-fill-color);\n",
              "  }\n",
              "\n",
              "  .colab-df-quickchart-complete:disabled,\n",
              "  .colab-df-quickchart-complete:disabled:hover {\n",
              "    background-color: var(--disabled-bg-color);\n",
              "    fill: var(--disabled-fill-color);\n",
              "    box-shadow: none;\n",
              "  }\n",
              "\n",
              "  .colab-df-spinner {\n",
              "    border: 2px solid var(--fill-color);\n",
              "    border-color: transparent;\n",
              "    border-bottom-color: var(--fill-color);\n",
              "    animation:\n",
              "      spin 1s steps(1) infinite;\n",
              "  }\n",
              "\n",
              "  @keyframes spin {\n",
              "    0% {\n",
              "      border-color: transparent;\n",
              "      border-bottom-color: var(--fill-color);\n",
              "      border-left-color: var(--fill-color);\n",
              "    }\n",
              "    20% {\n",
              "      border-color: transparent;\n",
              "      border-left-color: var(--fill-color);\n",
              "      border-top-color: var(--fill-color);\n",
              "    }\n",
              "    30% {\n",
              "      border-color: transparent;\n",
              "      border-left-color: var(--fill-color);\n",
              "      border-top-color: var(--fill-color);\n",
              "      border-right-color: var(--fill-color);\n",
              "    }\n",
              "    40% {\n",
              "      border-color: transparent;\n",
              "      border-right-color: var(--fill-color);\n",
              "      border-top-color: var(--fill-color);\n",
              "    }\n",
              "    60% {\n",
              "      border-color: transparent;\n",
              "      border-right-color: var(--fill-color);\n",
              "    }\n",
              "    80% {\n",
              "      border-color: transparent;\n",
              "      border-right-color: var(--fill-color);\n",
              "      border-bottom-color: var(--fill-color);\n",
              "    }\n",
              "    90% {\n",
              "      border-color: transparent;\n",
              "      border-bottom-color: var(--fill-color);\n",
              "    }\n",
              "  }\n",
              "</style>\n",
              "\n",
              "  <script>\n",
              "    async function quickchart(key) {\n",
              "      const quickchartButtonEl =\n",
              "        document.querySelector('#' + key + ' button');\n",
              "      quickchartButtonEl.disabled = true;  // To prevent multiple clicks.\n",
              "      quickchartButtonEl.classList.add('colab-df-spinner');\n",
              "      try {\n",
              "        const charts = await google.colab.kernel.invokeFunction(\n",
              "            'suggestCharts', [key], {});\n",
              "      } catch (error) {\n",
              "        console.error('Error during call to suggestCharts:', error);\n",
              "      }\n",
              "      quickchartButtonEl.classList.remove('colab-df-spinner');\n",
              "      quickchartButtonEl.classList.add('colab-df-quickchart-complete');\n",
              "    }\n",
              "    (() => {\n",
              "      let quickchartButtonEl =\n",
              "        document.querySelector('#df-aa63ba2c-e551-4674-802f-ab3f3f35edd3 button');\n",
              "      quickchartButtonEl.style.display =\n",
              "        google.colab.kernel.accessAllowed ? 'block' : 'none';\n",
              "    })();\n",
              "  </script>\n",
              "</div>\n",
              "\n",
              "  <div id=\"id_657e68f1-2dac-43a6-9149-a8833ae1b7e0\">\n",
              "    <style>\n",
              "      .colab-df-generate {\n",
              "        background-color: #E8F0FE;\n",
              "        border: none;\n",
              "        border-radius: 50%;\n",
              "        cursor: pointer;\n",
              "        display: none;\n",
              "        fill: #1967D2;\n",
              "        height: 32px;\n",
              "        padding: 0 0 0 0;\n",
              "        width: 32px;\n",
              "      }\n",
              "\n",
              "      .colab-df-generate:hover {\n",
              "        background-color: #E2EBFA;\n",
              "        box-shadow: 0px 1px 2px rgba(60, 64, 67, 0.3), 0px 1px 3px 1px rgba(60, 64, 67, 0.15);\n",
              "        fill: #174EA6;\n",
              "      }\n",
              "\n",
              "      [theme=dark] .colab-df-generate {\n",
              "        background-color: #3B4455;\n",
              "        fill: #D2E3FC;\n",
              "      }\n",
              "\n",
              "      [theme=dark] .colab-df-generate:hover {\n",
              "        background-color: #434B5C;\n",
              "        box-shadow: 0px 1px 3px 1px rgba(0, 0, 0, 0.15);\n",
              "        filter: drop-shadow(0px 1px 2px rgba(0, 0, 0, 0.3));\n",
              "        fill: #FFFFFF;\n",
              "      }\n",
              "    </style>\n",
              "    <button class=\"colab-df-generate\" onclick=\"generateWithVariable('tuned_mean')\"\n",
              "            title=\"Generate code using this dataframe.\"\n",
              "            style=\"display:none;\">\n",
              "\n",
              "  <svg xmlns=\"http://www.w3.org/2000/svg\" height=\"24px\"viewBox=\"0 0 24 24\"\n",
              "       width=\"24px\">\n",
              "    <path d=\"M7,19H8.4L18.45,9,17,7.55,7,17.6ZM5,21V16.75L18.45,3.32a2,2,0,0,1,2.83,0l1.4,1.43a1.91,1.91,0,0,1,.58,1.4,1.91,1.91,0,0,1-.58,1.4L9.25,21ZM18.45,9,17,7.55Zm-12,3A5.31,5.31,0,0,0,4.9,8.1,5.31,5.31,0,0,0,1,6.5,5.31,5.31,0,0,0,4.9,4.9,5.31,5.31,0,0,0,6.5,1,5.31,5.31,0,0,0,8.1,4.9,5.31,5.31,0,0,0,12,6.5,5.46,5.46,0,0,0,6.5,12Z\"/>\n",
              "  </svg>\n",
              "    </button>\n",
              "    <script>\n",
              "      (() => {\n",
              "      const buttonEl =\n",
              "        document.querySelector('#id_657e68f1-2dac-43a6-9149-a8833ae1b7e0 button.colab-df-generate');\n",
              "      buttonEl.style.display =\n",
              "        google.colab.kernel.accessAllowed ? 'block' : 'none';\n",
              "\n",
              "      buttonEl.onclick = () => {\n",
              "        google.colab.notebook.generateWithVariable('tuned_mean');\n",
              "      }\n",
              "      })();\n",
              "    </script>\n",
              "  </div>\n",
              "\n",
              "    </div>\n",
              "  </div>\n"
            ],
            "application/vnd.google.colaboratory.intrinsic+json": {
              "type": "dataframe",
              "variable_name": "tuned_mean",
              "summary": "{\n  \"name\": \"tuned_mean\",\n  \"rows\": 3,\n  \"fields\": [\n    {\n      \"column\": \"Metric\",\n      \"properties\": {\n        \"dtype\": \"string\",\n        \"samples\": [\n          \"R\\u00b2\",\n          \"MAE\",\n          \"RMSE\"\n        ],\n        \"num_unique_values\": 3,\n        \"semantic_type\": \"\",\n        \"description\": \"\"\n      }\n    },\n    {\n      \"column\": \"XGBoost\",\n      \"properties\": {\n        \"dtype\": \"number\",\n        \"std\": 22.42363721023833,\n        \"min\": 0.5811550763602362,\n        \"max\": 44.083275604248044,\n        \"samples\": [\n          0.5811550763602362,\n          31.77322425842285,\n          44.083275604248044\n        ],\n        \"num_unique_values\": 3,\n        \"semantic_type\": \"\",\n        \"description\": \"\"\n      }\n    },\n    {\n      \"column\": \"LightGBM\",\n      \"properties\": {\n        \"dtype\": \"number\",\n        \"std\": 22.262539002483667,\n        \"min\": 0.5864362407238317,\n        \"max\": 43.79821353679695,\n        \"samples\": [\n          0.5864362407238317,\n          31.488488382226627,\n          43.79821353679695\n        ],\n        \"num_unique_values\": 3,\n        \"semantic_type\": \"\",\n        \"description\": \"\"\n      }\n    },\n    {\n      \"column\": \"HistGB\",\n      \"properties\": {\n        \"dtype\": \"number\",\n        \"std\": 22.318241466218176,\n        \"min\": 0.5847187780090117,\n        \"max\": 43.89397242501845,\n        \"samples\": [\n          0.5847187780090117,\n          31.595793529948487,\n          43.89397242501845\n        ],\n        \"num_unique_values\": 3,\n        \"semantic_type\": \"\",\n        \"description\": \"\"\n      }\n    }\n  ]\n}"
            }
          },
          "metadata": {},
          "execution_count": 10
        }
      ]
    },
    {
      "cell_type": "markdown",
      "source": [
        "- Since the algorithms are still in a dead heat, we'll select _LightGBM_. It has marginally outperformed _XGBoost_ and _HistGradientBoosting_ in every metric;\n",
        "- One of the main pros of _LightGBM_ is its speed, since it's faster than relatively sophisticated algorithms such as _XGBoost_ with large datasets. However, its interpretability is complex, since it can create deeper trees than _XGBoost_ (both are tree-based algorithms);\n",
        "- However, _HistGradientBoosting_ is by no means a disposable alternative. Quite the opposite, since its performance is apparently in the same level as the likes of _LightGBM_ and _XGBoost_ and it has the advantage to support missing data on performing predictions."
      ],
      "metadata": {
        "id": "A0LEOuUlvy-4"
      }
    },
    {
      "cell_type": "code",
      "source": [
        "from sklearn.model_selection import learning_curve\n",
        "import matplotlib.pyplot as plt\n",
        "\n",
        "\n",
        "def plot_learning_curve(attributes, classes, estimators, n_trainings):\n",
        "\n",
        "    plt.grid()\n",
        "    plt.title('Learning Curves (5-fold CV)')\n",
        "    plt.xlabel('Training Set Size')\n",
        "    plt.ylabel('R² Mean')\n",
        "    plt.ylim(0, 1)\n",
        "\n",
        "    i = 0\n",
        "    plot_colors = ['r', 'g', 'b']\n",
        "    for est in reg_estimators:\n",
        "\n",
        "        training_sizes, _, cv_scores = learning_curve(reg_estimators[est],\n",
        "                                                      attributes, classes,\n",
        "                                                      train_sizes=np.linspace(0.1, 1, n_trainings),\n",
        "                                                      cv=5, scoring='r2', n_jobs=-1)\n",
        "        cv_scores_mean = np.mean(cv_scores, axis=1)\n",
        "        plt.plot(training_sizes, cv_scores_mean, color=plot_colors[i], label=est)\n",
        "        i += 1\n",
        "\n",
        "    plt.legend(loc='best')\n",
        "    plt.savefig(f'{getcwd()}/../plots/learning_curve.svg', format='svg')\n",
        "    plt.show()"
      ],
      "metadata": {
        "id": "muXUsjcwlZ4w"
      },
      "execution_count": 13,
      "outputs": []
    },
    {
      "cell_type": "code",
      "source": [
        "reg_estimators = {\n",
        "    'LightGBM': LGBMRegressor(learning_rate=0.11, max_depth=6, n_estimators=150,\n",
        "                              n_jobs=-1, verbose=-1),\n",
        "    'XGBoost': XGBRegressor(learning_rate=0.11, max_depth=6, n_estimators=50,\n",
        "                            n_jobs=-1),\n",
        "    'HistGradientBoosting': HistGradientBoostingRegressor(learning_rate=0.11, max_depth=12)\n",
        "}\n",
        "\n",
        "plot_learning_curve(attributes=model_features, classes=model_classes,\n",
        "                    estimators=reg_estimators, n_trainings=20)"
      ],
      "metadata": {
        "colab": {
          "base_uri": "https://localhost:8080/",
          "height": 472
        },
        "id": "X-u0SHAdm1EF",
        "outputId": "8d9d85d3-c83c-4012-d84a-16157233e918"
      },
      "execution_count": 14,
      "outputs": [
        {
          "output_type": "display_data",
          "data": {
            "text/plain": [
              "<Figure size 640x480 with 1 Axes>"
            ],
            "image/png": "[encoded data removed]"
          },
          "metadata": {}
        }
      ]
    },
    {
      "cell_type": "markdown",
      "source": [
        "\n",
        "- The learning curves of all the algorithms stagnate very early (at around 25% of the dataset size);\n",
        "- It's necessary to investigate what's causing this premature stop, possibly rewinding and adding new steps on EDA and Preprocessing.\n",
        "\n"
      ],
      "metadata": {
        "id": "Ys3L75z3CFED"
      }
    },
    {
      "cell_type": "markdown",
      "source": [
        "# **3. Feature selection and importances with tuned model**"
      ],
      "metadata": {
        "id": "u6f3fv0-DNx1"
      }
    },
    {
      "cell_type": "code",
      "source": [
        "from sklearn.feature_selection import RFECV\n",
        "import seaborn as sns\n",
        "\n",
        "\n",
        "def plot_selection_graph(rfecv: any) -> None:\n",
        "\n",
        "    n_scores = len(rfecv.cv_results_[\"mean_test_score\"])\n",
        "    plt.figure()\n",
        "    plt.xlabel(\"Number of Features Selected\")\n",
        "    plt.ylabel(\"Average R²\")\n",
        "    plt.ylim(0, 1)\n",
        "    plt.errorbar(\n",
        "        range(1, n_scores + 1),\n",
        "        rfecv.cv_results_[\"mean_test_score\"],\n",
        "        yerr=rfecv.cv_results_[\"std_test_score\"],\n",
        "    )\n",
        "    plt.title(\"Recursive Feature Selection with CV\")\n",
        "\n",
        "    plt.savefig(f'{getcwd()}/../plots/feature_selection.svg', format='svg')\n",
        "    plt.show()\n",
        "\n",
        "\n",
        "def feature_selection(attributes: pd.DataFrame, classes: pd.DataFrame, cv_estimator: any) -> None:\n",
        "\n",
        "    # Recursive feature selection with CV\n",
        "    cv_selector = RFECV(estimator=cv_estimator, cv=5, step=1, scoring='r2',\n",
        "                        verbose=False, n_jobs=-1)\n",
        "    cv_selector = cv_selector.fit(attributes, classes)\n",
        "\n",
        "    rfecv_mask = cv_selector.get_support()\n",
        "    match_features = np.array(attributes.columns)\n",
        "    selected_features = match_features[rfecv_mask]\n",
        "\n",
        "    # Visualization\n",
        "    plot_selection_graph(rfecv=cv_selector)\n",
        "    print(f'\\nOriginal number of features: {len(attributes.columns.values)}')\n",
        "    print(f'Features: {list(attributes.columns.values)}\\n')\n",
        "\n",
        "    print(f'Optimal number of features: {cv_selector.n_features_}')\n",
        "    print(f'Best features: {selected_features}')\n",
        "\n",
        "    with open(f'{getcwd()}/../models/best_features.txt', 'w') as file:\n",
        "        file.write(f'Optimal number of features: {cv_selector.n_features_}\\n')\n",
        "        file.write(f'Best features: {selected_features}')\n",
        "\n",
        "    # Exports the feature selected dataset\n",
        "    save_df = attributes.copy()\n",
        "    save_df.drop(selected_features, axis='columns')\n",
        "    save_df['Price'] = classes\n",
        "    save_df.to_parquet(f'{getcwd()}/../datasets/feature_selected.parquet', index=False)\n",
        "\n",
        "\n",
        "\n",
        "def plot_feature_importance(attributes: any, f_importances: any, alg_name: str) -> None:\n",
        "\n",
        "    feature_dataframe = pd.DataFrame({'Feature': attributes, 'Feature Relevance': f_importances})\n",
        "\n",
        "    feature_data = pd.DataFrame({'Feature': attributes, 'Feature Relevance': feature_dataframe['Feature Relevance']})\n",
        "    feature_data = feature_data.sort_values(by='Feature Relevance', ascending=False)\n",
        "\n",
        "    plt.figure(figsize=(10, 6))\n",
        "    plt.title(f'Average Feature Importance ({alg_name})', fontsize=16)\n",
        "\n",
        "    s = sns.barplot(y='Feature', x='Feature Relevance', data=feature_data, orient='h', palette='coolwarm')\n",
        "    plt.xlabel('Importance', fontsize=14)\n",
        "    plt.ylabel('Feature', fontsize=14)\n",
        "    s.set_xticklabels(s.get_xticklabels(), rotation=90)\n",
        "\n",
        "    plt.savefig(f'{getcwd()}/../plots/feature_importance({alg_name}).svg', format='svg')\n",
        "    plt.show()"
      ],
      "metadata": {
        "id": "tDgTHCpWDQ2B"
      },
      "execution_count": 15,
      "outputs": []
    },
    {
      "cell_type": "markdown",
      "source": [
        "- In a contradictory way observed in the EDA, (low correlation between _Price_ and _Days Available_) the _Days Available_ is one of the features with most predictive power;\n",
        "- Another strange fact is that _Host ID_ is also an extremely relevant feature with this model. It's a feature with a high amount of unique values. This result maybe has a relationship with the equal frequency binning step applied to the feature, increasing the observable patterns, and thus, the predictive power;\n",
        "- The features with an extreme low amount of unique values have the least predictive power. The larger the dataset is, features that have few unique values also won't present any relevant patterns, acting more like redundant information and not differentiating the instances."
      ],
      "metadata": {
        "id": "xshk4Ii4EEt8"
      }
    },
    {
      "cell_type": "code",
      "source": [
        "algorithm = LGBMRegressor(learning_rate=0.11, max_depth=6, n_estimators=150,\n",
        "                          n_jobs=-1, verbose=-1)\n",
        "algorithm.fit(model_features, model_classes)\n",
        "plot_feature_importance(attributes=model_features.columns,\n",
        "                        f_importances=algorithm.feature_importances_,\n",
        "                        alg_name='LightGBM')"
      ],
      "metadata": {
        "colab": {
          "base_uri": "https://localhost:8080/",
          "height": 652
        },
        "id": "uZn4RhrNECD6",
        "outputId": "804f2e1a-7891-451d-aeeb-da6dd07afee0"
      },
      "execution_count": 16,
      "outputs": [
        {
          "output_type": "stream",
          "name": "stderr",
          "text": [
            "<ipython-input-15-ed57143e875b>:67: UserWarning:\n",
            "\n",
            "FixedFormatter should only be used together with FixedLocator\n",
            "\n"
          ]
        },
        {
          "output_type": "display_data",
          "data": {
            "text/plain": [
              "<Figure size 1000x600 with 1 Axes>"
            ],
            "image/png": "[encoded data removed]"
          },
          "metadata": {}
        }
      ]
    },
    {
      "cell_type": "code",
      "source": [
        "feature_selection(attributes=model_features, classes=model_classes, cv_estimator=algorithm)"
      ],
      "metadata": {
        "colab": {
          "base_uri": "https://localhost:8080/",
          "height": 611
        },
        "id": "Fxp_QJRKEg_W",
        "outputId": "be47296b-931e-4d36-d01b-9d48814e3581"
      },
      "execution_count": 17,
      "outputs": [
        {
          "output_type": "display_data",
          "data": {
            "text/plain": [
              "<Figure size 640x480 with 1 Axes>"
            ],
            "image/png": "[encoded data removed]"
          },
          "metadata": {}
        },
        {
          "output_type": "stream",
          "name": "stdout",
          "text": [
            "\n",
            "Original number of features: 13\n",
            "Features: ['Host ID', 'Host Name', 'Neighborhood', 'District', 'Latitude', 'Longitude', 'Room Type', 'Minimum Nights', 'Reviews', 'Last Review', 'Monthly Reviews', 'Number of Listings', 'Days Available']\n",
            "\n",
            "Optimal number of features: 13\n",
            "Best features: ['Host ID' 'Host Name' 'Neighborhood' 'District' 'Latitude' 'Longitude'\n",
            " 'Room Type' 'Minimum Nights' 'Reviews' 'Last Review' 'Monthly Reviews'\n",
            " 'Number of Listings' 'Days Available']\n"
          ]
        }
      ]
    },
    {
      "cell_type": "markdown",
      "source": [
        "- Successful feature selection mostly reduces models' complexity and can improve its performance;\n",
        "- Since features with low predictive power such as _Neighborhood_ weren't discarded, we conclude that this tuned model performs at its best with all the features;\n",
        "- As a final evaluation, we have a LightGBM model with R² of approximately 0.58, which could be underperforming for this problem."
      ],
      "metadata": {
        "id": "YQyxkBd72gZF"
      }
    },
    {
      "cell_type": "code",
      "source": [
        "final_df = pd.read_parquet(f'{getcwd()}/../datasets/feature_selected.parquet')\n",
        "final_features = final_df.drop(['Price'], axis='columns')\n",
        "final_classes = final_df['Price']\n",
        "\n",
        "final_scores = cross_validate(\n",
        "    estimator=algorithm,\n",
        "    X=final_features,\n",
        "    y=final_classes,\n",
        "    cv=KFold(n_splits=5, shuffle=True),\n",
        "    scoring='r2',\n",
        "    n_jobs=-1\n",
        ")\n",
        "\n",
        "r2_score = final_scores['test_score'].mean()\n",
        "print(f'R²: {r2_score}')"
      ],
      "metadata": {
        "colab": {
          "base_uri": "https://localhost:8080/"
        },
        "id": "ga1F1Lrtz426",
        "outputId": "95329320-615e-4b0c-ea68-7d1a2affb240"
      },
      "execution_count": 18,
      "outputs": [
        {
          "output_type": "stream",
          "name": "stdout",
          "text": [
            "R²: 0.5867406908911355\n"
          ]
        }
      ]
    },
    {
      "cell_type": "markdown",
      "source": [
        "# **4. Statistical tests**\n",
        "\n",
        "- With minimal differences in scoring, is to be expected that the models have some equivalence between them;\n",
        "- _HistGradientBoosting_ is statistically equal to _XGBoost_ and _LightGBM_, although the latter are not statistically equal to each other;\n",
        "- The standard deviation is a good provisory metric to analyze ML models statistical equivalence (low -> tends to be equal)."
      ],
      "metadata": {
        "id": "73qffOdFzqzF"
      }
    },
    {
      "cell_type": "code",
      "source": [
        "from mlxtend.evaluate import paired_ttest_5x2cv\n",
        "\n",
        "\n",
        "def paired_ttest(model1, model2, attributes, classes):\n",
        "    '''\n",
        "    Significance level\n",
        "    5% risk of concluding that a difference exists when there is no actual difference\n",
        "    '''\n",
        "    alpha = 0.05\n",
        "    _, p = paired_ttest_5x2cv(model1, model2, attributes, classes)\n",
        "\n",
        "    print(f'alpha:       {alpha}')\n",
        "    print(f'p value:     {p}')\n",
        "\n",
        "    if p > alpha:\n",
        "        print('Models are statistically equal (Fail to reject null hypothesis)')\n",
        "    else:\n",
        "        print('Models are statistically different (Reject null hypothesis)')"
      ],
      "metadata": {
        "id": "ovpMWZAUzpk2"
      },
      "execution_count": 19,
      "outputs": []
    },
    {
      "cell_type": "code",
      "source": [
        "regressor1 = LGBMRegressor(learning_rate=0.11, max_depth=6, n_estimators=150,\n",
        "                           n_jobs=-1, verbose=-1)\n",
        "regressor2 = XGBRegressor(learning_rate=0.11, max_depth=6,\n",
        "                          n_estimators=50, n_jobs=-1)\n",
        "regressor3 = HistGradientBoostingRegressor(learning_rate=0.11, max_depth=12)"
      ],
      "metadata": {
        "id": "Ab9KHWY0CwCa"
      },
      "execution_count": 20,
      "outputs": []
    },
    {
      "cell_type": "code",
      "source": [
        "print('LightGBM x XGBoost\\n')\n",
        "paired_ttest(regressor1, regressor2, model_features, model_classes)"
      ],
      "metadata": {
        "colab": {
          "base_uri": "https://localhost:8080/"
        },
        "id": "hAhW0qDWDJaO",
        "outputId": "8bffecb8-2a0a-4fbb-b8d4-7fd160e5beb9"
      },
      "execution_count": 21,
      "outputs": [
        {
          "output_type": "stream",
          "name": "stdout",
          "text": [
            "LightGBM x XGBoost\n",
            "\n",
            "alpha:       0.05\n",
            "p value:     0.030960620428958273\n",
            "Models are statistically different (Reject null hypothesis)\n"
          ]
        }
      ]
    },
    {
      "cell_type": "code",
      "source": [
        "print('LightGBM x HistGradientBoosting\\n')\n",
        "paired_ttest(regressor1, regressor3, model_features, model_classes)"
      ],
      "metadata": {
        "colab": {
          "base_uri": "https://localhost:8080/"
        },
        "id": "MKJYyZwMDLT4",
        "outputId": "76c787bc-0d5b-4b9f-ee66-36bf73887f27"
      },
      "execution_count": 22,
      "outputs": [
        {
          "output_type": "stream",
          "name": "stdout",
          "text": [
            "LightGBM x HistGradientBoosting\n",
            "\n",
            "alpha:       0.05\n",
            "p value:     0.05722683988126375\n",
            "Models are statistically equal (Fail to reject null hypothesis)\n"
          ]
        }
      ]
    },
    {
      "cell_type": "code",
      "source": [
        "print('XGBoost x HistGradientBoosting\\n')\n",
        "paired_ttest(regressor2, regressor3, model_features, model_classes)"
      ],
      "metadata": {
        "colab": {
          "base_uri": "https://localhost:8080/"
        },
        "id": "7GmET8BbDND2",
        "outputId": "a42241bc-9f57-4854-eba8-02af8632ea4b"
      },
      "execution_count": 23,
      "outputs": [
        {
          "output_type": "stream",
          "name": "stdout",
          "text": [
            "XGBoost x HistGradientBoosting\n",
            "\n",
            "alpha:       0.05\n",
            "p value:     0.27540858588553824\n",
            "Models are statistically equal (Fail to reject null hypothesis)\n"
          ]
        }
      ]
    },
    {
      "cell_type": "markdown",
      "source": [
        "# **5. Training and saving final models**\n"
      ],
      "metadata": {
        "id": "HWqqfSn7Ezyg"
      }
    },
    {
      "cell_type": "code",
      "source": [
        "import joblib\n",
        "\n",
        "regressor1.fit(final_features, final_classes)\n",
        "joblib.dump(regressor1, f'{getcwd()}/../models/lgbm_model.pkl')\n",
        "\n",
        "regressor2.fit(final_features, final_classes)\n",
        "joblib.dump(regressor2, f'{getcwd()}/../models/xgb_model.pkl')\n",
        "\n",
        "regressor3.fit(final_features, final_classes)\n",
        "joblib.dump(regressor3, f'{getcwd()}/../models/histgb_model.pkl')"
      ],
      "metadata": {
        "colab": {
          "base_uri": "https://localhost:8080/"
        },
        "id": "CMO7gKS6FR5L",
        "outputId": "88d4a4ca-6325-4ae5-a035-6939076e6a4e"
      },
      "execution_count": 24,
      "outputs": [
        {
          "output_type": "execute_result",
          "data": {
            "text/plain": [
              "['/content/../models/histgb_model.pkl']"
            ]
          },
          "metadata": {},
          "execution_count": 24
        }
      ]
    },
    {
      "cell_type": "markdown",
      "source": [
        "# **6. Predicting a given instance**\n"
      ],
      "metadata": {
        "id": "vo69sRyvFxf5"
      }
    },
    {
      "cell_type": "code",
      "source": [
        "from sklearn.preprocessing import LabelEncoder\n",
        "from pandas.api.types import is_float_dtype\n",
        "from pandas.api.types import is_integer_dtype\n",
        "import json\n",
        "\n",
        "\n",
        "def discretize_values(df: pd.DataFrame, column: str) -> pd.DataFrame:\n",
        "\n",
        "    filterwarnings('ignore')\n",
        "\n",
        "    # Encodes entire columns of categorical data\n",
        "    encoding = LabelEncoder()\n",
        "\n",
        "    encoding.fit(df[column])\n",
        "    df[column] = encoding.transform(df[column])\n",
        "\n",
        "    return df\n",
        "\n",
        "\n",
        "# First row of the original dataset\n",
        "apt_data = {\n",
        "    'id': 2595,\n",
        "    'nome': 'Skylit Midtown Castle',\n",
        "    'host_id': 2845,\n",
        "    'host_name': 'Jennifer',\n",
        "    'bairro_group': 'Manhattan',\n",
        "    'bairro': 'Midtown',\n",
        "    'latitude': 40.75362,\n",
        "    'longitude': -73.98377,\n",
        "    'room_type': 'Entire home/apt',\n",
        "    'price': 225,\n",
        "    'minimo_noites': 1,\n",
        "    'numero_de_reviews': 45,\n",
        "    'ultima_review': '2019-05-21',\n",
        "    'reviews_por_mes': 0.38,\n",
        "    'calculado_host_listings_count': 2,\n",
        "    'disponibilidade_365': 355\n",
        "    }\n",
        "\n",
        "instance = pd.DataFrame([apt_data])\n",
        "\n",
        "instance = instance.rename(columns={\n",
        "    'id': 'ID',\n",
        "    'nome': 'Name',\n",
        "    'host_id': 'Host ID',\n",
        "    'host_name': 'Host Name',\n",
        "    'bairro_group': 'Neighborhood',\n",
        "    'bairro': 'District',\n",
        "    'latitude': 'Latitude',\n",
        "    'longitude': 'Longitude',\n",
        "    'room_type': 'Room Type',\n",
        "    'price': 'Price',\n",
        "    'minimo_noites': 'Minimum Nights',\n",
        "    'numero_de_reviews': 'Reviews',\n",
        "    'ultima_review': 'Last Review',\n",
        "    'reviews_por_mes': 'Monthly Reviews',\n",
        "    'calculado_host_listings_count': 'Number of Listings',\n",
        "    'disponibilidade_365': \"Days Available\"\n",
        "})\n",
        "\n",
        "# Preprocessing\n",
        "instance = instance.drop(['ID', 'Name', 'Price'], axis='columns')\n",
        "\n",
        "instance['Last Review'] = pd.to_datetime(instance['Last Review'])\n",
        "instance['Last Review'] = instance['Last Review'].apply(lambda row: f'{str(row.year)}-{str(row.month)}')\n",
        "\n",
        "for col in instance.columns.values:\n",
        "    if not is_float_dtype(instance[col]) and not is_integer_dtype(instance[col]):\n",
        "        instance = discretize_values(instance, col)\n",
        "\n",
        "# Gets the binning threshold file generated in preprocessing\n",
        "bins_file = \"bins.json\"\n",
        "bins_id = '1eGRas7ZUyX6OOrihYfZUWrRYE9lqQ9L2'\n",
        "gdown.download(f'https://drive.google.com/uc?id={bins_id}', bins_file)\n",
        "\n",
        "with open(bins_file, 'r') as file:\n",
        "    bins = json.load(file)\n",
        "\n",
        "# Binning mapping\n",
        "for feature in bins:\n",
        "    binned_feature = np.digitize(instance[feature], bins[feature])\n",
        "    instance[feature] = binned_feature\n",
        "\n",
        "# Prediction\n",
        "model = joblib.load(f'{getcwd()}/../models/lgbm_model.pkl')\n",
        "prediction = model.predict(instance)\n",
        "price = round(prediction[0], 2)\n",
        "print(f'\\n\\nUS$ {str(price)}')"
      ],
      "metadata": {
        "colab": {
          "base_uri": "https://localhost:8080/"
        },
        "id": "yjyW4barM84J",
        "outputId": "c01843bc-95ea-4b9a-9bbe-27bd13de0622"
      },
      "execution_count": 25,
      "outputs": [
        {
          "output_type": "stream",
          "name": "stderr",
          "text": [
            "Downloading...\n",
            "From: https://drive.google.com/uc?id=1eGRas7ZUyX6OOrihYfZUWrRYE9lqQ9L2\n",
            "To: /content/bins.json\n",
            "100%|██████████| 3.70k/3.70k [00:00<00:00, 8.43MB/s]"
          ]
        },
        {
          "output_type": "stream",
          "name": "stdout",
          "text": [
            "\n",
            "\n",
            "US$ 213.83\n"
          ]
        },
        {
          "output_type": "stream",
          "name": "stderr",
          "text": [
            "\n"
          ]
        }
      ]
    },
    {
      "cell_type": "markdown",
      "source": [
        "- According with the LightGBM model, the supposed apartment was evaluated with a price of US$ 213.83;\n",
        "- For a single instance, that is a reasonable prediction, since it is approximately 5% lower than the ground truth (225);\n",
        "- In this kind of problem, predicting lower is worse than higher, since it increases loss probability. For example, on a disease binary classification problem, a false positive is better than a false negative. Diagnosed as sick but in fact not be, is better than being diagnosed as healthy and having a disease."
      ],
      "metadata": {
        "id": "q2qdG9JBK8CU"
      }
    },
    {
      "cell_type": "markdown",
      "source": [
        "# **7. Future Steps**\n",
        "\n",
        "- Deeper analysis on prices per borough and neighborhood to be able to indicate the best purchase local with satisfactory level;\n",
        "- Fine tuning with more parameters and more combinations;\n",
        "- Play with feature (or instance) selection to reduce dataset size, computational cost and execution time without impacting negatively on model's performance;\n",
        "- Explore NLP techniques with _Name_ column (possible feature engineering);\n",
        "- Consider expanding the dataset with other sources."
      ],
      "metadata": {
        "id": "furuZijDLUWv"
      }
    }
  ]
}